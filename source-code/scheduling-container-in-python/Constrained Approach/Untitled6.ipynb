{
 "cells": [
  {
   "cell_type": "code",
   "execution_count": 29,
   "id": "3563037c",
   "metadata": {},
   "outputs": [
    {
     "name": "stdout",
     "output_type": "stream",
     "text": [
      "0\n"
     ]
    }
   ],
   "source": [
    "import subprocess\n",
    "import os\n",
    "\n",
    "\n",
    "\n",
    "nodes=['manager','worker1','worker2']\n",
    "empty=[]\n",
    "for i in nodes:\n",
    "    with  open(r\"./test3.txt\",'w') as file :\n",
    "    #cmd = ('docker-machine ssh manager docker node ls').split()\n",
    "        cmd = ('docker-machine ssh '+str(i)+' docker node ls').split()\n",
    "    #cmd = ('ssh pi@'+str(master)+ ' docker node ls').split()\n",
    "\n",
    "        p = subprocess.Popen(cmd,stdout=file)\n",
    "        output, errors = p.communicate()\n",
    "    \n",
    "        if os.path.getsize(r\"./test3.txt\") == 0:\n",
    "            empty.append(0)\n",
    "        else:\n",
    "            empty.append(1)\n",
    "            \n",
    "print(empty.index(1))\n",
    "    \n",
    "        \n",
    "            \n",
    "        \n",
    "            "
   ]
  },
  {
   "cell_type": "code",
   "execution_count": null,
   "id": "40940345",
   "metadata": {},
   "outputs": [],
   "source": []
  },
  {
   "cell_type": "code",
   "execution_count": null,
   "id": "1de45714",
   "metadata": {},
   "outputs": [],
   "source": []
  },
  {
   "cell_type": "code",
   "execution_count": null,
   "id": "b21a79c9",
   "metadata": {},
   "outputs": [],
   "source": []
  },
  {
   "cell_type": "code",
   "execution_count": null,
   "id": "057d8589",
   "metadata": {},
   "outputs": [],
   "source": []
  },
  {
   "cell_type": "code",
   "execution_count": null,
   "id": "7f39ac88",
   "metadata": {},
   "outputs": [],
   "source": []
  }
 ],
 "metadata": {
  "kernelspec": {
   "display_name": "Python 3",
   "language": "python",
   "name": "python3"
  },
  "language_info": {
   "codemirror_mode": {
    "name": "ipython",
    "version": 3
   },
   "file_extension": ".py",
   "mimetype": "text/x-python",
   "name": "python",
   "nbconvert_exporter": "python",
   "pygments_lexer": "ipython3",
   "version": "3.8.8"
  }
 },
 "nbformat": 4,
 "nbformat_minor": 5
}
