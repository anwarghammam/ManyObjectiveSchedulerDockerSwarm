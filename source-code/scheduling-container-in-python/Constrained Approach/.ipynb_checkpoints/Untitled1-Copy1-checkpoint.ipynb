{
 "cells": [
  {
   "cell_type": "code",
   "execution_count": null,
   "id": "2ed17b70",
   "metadata": {},
   "outputs": [
    {
     "name": "stdout",
     "output_type": "stream",
     "text": [
      "['HOSTNAME', 'manager', 'worker1', 'worker2']\n",
      "None\n",
      "['cbedb']\n",
      "None\n",
      "None\n",
      "None\n",
      "['api']\n",
      "None\n",
      "None\n",
      "None\n",
      "None\n",
      "None\n",
      "None\n",
      "None\n",
      "None\n",
      "None\n",
      "None\n",
      "None\n",
      "None\n",
      "None\n",
      "None\n",
      "None\n",
      "None\n",
      "None\n",
      "None\n",
      "None\n",
      "None\n",
      "None\n",
      "None\n",
      "None\n",
      "None\n",
      "None\n",
      "None\n",
      "None\n",
      "None\n",
      "None\n",
      "None\n",
      "None\n",
      "None\n",
      "None\n",
      "None\n",
      "None\n",
      "None\n",
      "None\n",
      "None\n",
      "None\n",
      "None\n",
      "None\n",
      "None\n",
      "None\n",
      "None\n",
      "[]\n",
      "[]\n",
      "[]\n",
      "[]\n",
      "[]\n",
      "[]\n",
      "[]\n",
      "[]\n",
      "[]\n",
      "[]\n",
      "[]\n",
      "[]\n",
      "[]\n",
      "[]\n",
      "[]\n",
      "[]\n",
      "[]\n",
      "[]\n",
      "[]\n",
      "[]\n",
      "[]\n",
      "[]\n",
      "[]\n",
      "[]\n",
      "[]\n",
      "[]\n",
      "[]\n",
      "[]\n",
      "[]\n",
      "[]\n",
      "[]\n",
      "[]\n",
      "[]\n",
      "[]\n",
      "[]\n",
      "[]\n",
      "[]\n",
      "[]\n",
      "[]\n",
      "[]\n",
      "[]\n",
      "[]\n",
      "[]\n",
      "[]\n",
      "[]\n",
      "[]\n",
      "[]\n",
      "[]\n",
      "[]\n",
      "[]\n",
      "[]\n",
      "[]\n",
      "[]\n",
      "[]\n",
      "[]\n",
      "[]\n",
      "[]\n",
      " * Serving Flask app \"__main__\" (lazy loading)\n",
      " * Environment: production\n",
      "\u001b[31m   WARNING: This is a development server. Do not use it in a production deployment.\u001b[0m\n",
      "\u001b[2m   Use a production WSGI server instead.\u001b[0m\n",
      " * Debug mode: off\n"
     ]
    },
    {
     "name": "stderr",
     "output_type": "stream",
     "text": [
      " * Running on http://127.0.0.1:5002/ (Press CTRL+C to quit)\n",
      "127.0.0.1 - - [24/Feb/2022 10:30:10] \"\u001b[37mPOST /geturl/ HTTP/1.1\u001b[0m\" 200 -\n",
      "127.0.0.1 - - [24/Feb/2022 10:30:10] \"\u001b[37mGET /getexectime/ HTTP/1.1\u001b[0m\" 200 -\n"
     ]
    },
    {
     "name": "stdout",
     "output_type": "stream",
     "text": [
      "manager\n",
      "content urlhttp://192.168.99.119:9090/ api/v1/query?query=avg_over_time(container_memory_usage_bytes%7Bcontainer_label_com_docker_swarm_node_id%3D~\"gobb5gs2ea0l3hqnqoo597rje\"%2C%20id%3D~\"%2Fdocker%2F.*\"%7D%5B5m%5D)%2F1024%2F1024&g0.tab=1\n",
      "\n",
      "url http://192.168.99.119:9090/api/v1/query?query=avg_over_time(container_memory_usage_bytes%7Bcontainer_label_com_docker_swarm_node_id%3D~\"j4mij6hfk3pdl7igmt6jy0em3\"%2C%20id%3D~\"%2Fdocker%2F.*\"%7D%5B5m%5D)%2F1024%2F1024&g0.tab=1\n"
     ]
    },
    {
     "name": "stderr",
     "output_type": "stream",
     "text": [
      "127.0.0.1 - - [24/Feb/2022 10:30:10] \"\u001b[37mGET /getjson/ HTTP/1.1\u001b[0m\" 200 -\n",
      "127.0.0.1 - - [24/Feb/2022 10:30:10] \"\u001b[37mGET /UpdateStatus/ HTTP/1.1\u001b[0m\" 200 -\n"
     ]
    },
    {
     "name": "stdout",
     "output_type": "stream",
     "text": [
      "url http://192.168.99.119:9090/api/v1/query?query=avg_over_time(container_memory_usage_bytes%7Bcontainer_label_com_docker_swarm_node_id%3D~\"ykueqwkeyy0whed9ar3eielhz\"%2C%20id%3D~\"%2Fdocker%2F.*\"%7D%5B5m%5D)%2F1024%2F1024&g0.tab=1\n",
      "[['ID', 'HOSTNAME', 'STATUS', 'AVAILABILITY', 'MANAGER', 'STATUS', 'ENGINE', 'VERSION'], ['gobb5gs2ea0l3hqnqoo597rje', 'manager', 'Ready', 'Active', 'Leader', '19.03.12'], ['j4mij6hfk3pdl7igmt6jy0em3', 'worker1', 'Ready', 'Active', '19.03.12'], ['ykueqwkeyy0whed9ar3eielhz', 'worker2', 'Ready', 'Active', '19.03.12']]\n",
      "Ready\n",
      "Ready\n",
      "Ready\n"
     ]
    },
    {
     "name": "stderr",
     "output_type": "stream",
     "text": [
      "127.0.0.1 - - [24/Feb/2022 10:30:11] \"\u001b[37mGET /getmem/ HTTP/1.1\u001b[0m\" 200 -\n",
      "127.0.0.1 - - [24/Feb/2022 10:30:24] \"\u001b[37mPOST /geturl/ HTTP/1.1\u001b[0m\" 200 -\n",
      "127.0.0.1 - - [24/Feb/2022 10:30:24] \"\u001b[37mGET /getexectime/ HTTP/1.1\u001b[0m\" 200 -\n",
      "127.0.0.1 - - [24/Feb/2022 10:30:24] \"\u001b[37mGET /getjson/ HTTP/1.1\u001b[0m\" 200 -\n"
     ]
    },
    {
     "name": "stdout",
     "output_type": "stream",
     "text": [
      "manager\n",
      "content http://192.168.99.119:9090/\n",
      "url http://192.168.99.119:9090/api/v1/query?query=avg_over_time(container_memory_usage_bytes%7Bcontainer_label_com_docker_swarm_node_id%3D~\"gobb5gs2ea0l3hqnqoo597rje\"%2C%20id%3D~\"%2Fdocker%2F.*\"%7D%5B5m%5D)%2F1024%2F1024&g0.tab=1\n",
      "url http://192.168.99.119:9090/api/v1/query?query=avg_over_time(container_memory_usage_bytes%7Bcontainer_label_com_docker_swarm_node_id%3D~\"j4mij6hfk3pdl7igmt6jy0em3\"%2C%20id%3D~\"%2Fdocker%2F.*\"%7D%5B5m%5D)%2F1024%2F1024&g0.tab=1\n",
      "url http://192.168.99.119:9090/api/v1/query?query=avg_over_time(container_memory_usage_bytes%7Bcontainer_label_com_docker_swarm_node_id%3D~\"ykueqwkeyy0whed9ar3eielhz\"%2C%20id%3D~\"%2Fdocker%2F.*\"%7D%5B5m%5D)%2F1024%2F1024&g0.tab=1\n"
     ]
    },
    {
     "name": "stderr",
     "output_type": "stream",
     "text": [
      "127.0.0.1 - - [24/Feb/2022 10:30:24] \"\u001b[37mGET /UpdateStatus/ HTTP/1.1\u001b[0m\" 200 -\n",
      "127.0.0.1 - - [24/Feb/2022 10:30:24] \"\u001b[37mGET /getmem/ HTTP/1.1\u001b[0m\" 200 -\n"
     ]
    },
    {
     "name": "stdout",
     "output_type": "stream",
     "text": [
      "[['ID', 'HOSTNAME', 'STATUS', 'AVAILABILITY', 'MANAGER', 'STATUS', 'ENGINE', 'VERSION'], ['gobb5gs2ea0l3hqnqoo597rje', 'manager', 'Ready', 'Active', 'Leader', '19.03.12'], ['j4mij6hfk3pdl7igmt6jy0em3', 'worker1', 'Ready', 'Active', '19.03.12'], ['ykueqwkeyy0whed9ar3eielhz', 'worker2', 'Ready', 'Active', '19.03.12']]\n",
      "Ready\n",
      "Ready\n",
      "Ready\n"
     ]
    },
    {
     "name": "stderr",
     "output_type": "stream",
     "text": [
      "127.0.0.1 - - [24/Feb/2022 10:31:52] \"\u001b[37mGET /getjson/ HTTP/1.1\u001b[0m\" 200 -\n",
      "127.0.0.1 - - [24/Feb/2022 10:31:53] \"\u001b[37mPOST /geturl/ HTTP/1.1\u001b[0m\" 200 -\n",
      "127.0.0.1 - - [24/Feb/2022 10:31:53] \"\u001b[37mGET /getexectime/ HTTP/1.1\u001b[0m\" 200 -\n",
      "127.0.0.1 - - [24/Feb/2022 10:31:53] \"\u001b[37mGET /getjson/ HTTP/1.1\u001b[0m\" 200 -\n"
     ]
    },
    {
     "name": "stdout",
     "output_type": "stream",
     "text": [
      "manager\n",
      "content urlhttp://192.168.99.119:9090/\n",
      " http://192.168.99.119:9090/api/v1/query?query=avg_over_time(container_memory_usage_bytes%7Bcontainer_label_com_docker_swarm_node_id%3D~\"gobb5gs2ea0l3hqnqoo597rje\"%2C%20id%3D~\"%2Fdocker%2F.*\"%7D%5B5m%5D)%2F1024%2F1024&g0.tab=1\n",
      "url http://192.168.99.119:9090/api/v1/query?query=avg_over_time(container_memory_usage_bytes%7Bcontainer_label_com_docker_swarm_node_id%3D~\"j4mij6hfk3pdl7igmt6jy0em3\"%2C%20id%3D~\"%2Fdocker%2F.*\"%7D%5B5m%5D)%2F1024%2F1024&g0.tab=1\n"
     ]
    },
    {
     "name": "stderr",
     "output_type": "stream",
     "text": [
      "127.0.0.1 - - [24/Feb/2022 10:31:53] \"\u001b[37mGET /UpdateStatus/ HTTP/1.1\u001b[0m\" 200 -\n"
     ]
    },
    {
     "name": "stdout",
     "output_type": "stream",
     "text": [
      "[['ID', 'HOSTNAME', 'STATUS', 'AVAILABILITY', 'MANAGER', 'STATUS', 'ENGINE', 'VERSION'], ['gobb5gs2ea0l3hqnqoo597rje', 'manager', 'Ready', 'Active', 'Leader', '19.03.12'], ['j4mij6hfk3pdl7igmt6jy0em3', 'worker1', 'Ready', 'Active', '19.03.12'], ['ykueqwkeyy0whed9ar3eielhz', 'worker2', 'Ready', 'Active', '19.03.12']]\n",
      "Ready\n",
      "Ready\n",
      "Ready\n",
      "url http://192.168.99.119:9090/api/v1/query?query=avg_over_time(container_memory_usage_bytes%7Bcontainer_label_com_docker_swarm_node_id%3D~\"ykueqwkeyy0whed9ar3eielhz\"%2C%20id%3D~\"%2Fdocker%2F.*\"%7D%5B5m%5D)%2F1024%2F1024&g0.tab=1\n"
     ]
    },
    {
     "name": "stderr",
     "output_type": "stream",
     "text": [
      "127.0.0.1 - - [24/Feb/2022 10:31:53] \"\u001b[37mGET /getmem/ HTTP/1.1\u001b[0m\" 200 -\n",
      "127.0.0.1 - - [24/Feb/2022 10:39:28] \"\u001b[37mPOST /geturl/ HTTP/1.1\u001b[0m\" 200 -\n",
      "127.0.0.1 - - [24/Feb/2022 10:39:28] \"\u001b[37mGET /getexectime/ HTTP/1.1\u001b[0m\" 200 -\n"
     ]
    },
    {
     "name": "stdout",
     "output_type": "stream",
     "text": [
      "manager\n",
      "content urlhttp://192.168.99.119:9090/\n",
      " http://192.168.99.119:9090/api/v1/query?query=avg_over_time(container_memory_usage_bytes%7Bcontainer_label_com_docker_swarm_node_id%3D~\"gobb5gs2ea0l3hqnqoo597rje\"%2C%20id%3D~\"%2Fdocker%2F.*\"%7D%5B5m%5D)%2F1024%2F1024&g0.tab=1\n",
      "url http://192.168.99.119:9090/api/v1/query?query=avg_over_time(container_memory_usage_bytes%7Bcontainer_label_com_docker_swarm_node_id%3D~\"j4mij6hfk3pdl7igmt6jy0em3\"%2C%20id%3D~\"%2Fdocker%2F.*\"%7D%5B5m%5D)%2F1024%2F1024&g0.tab=1\n",
      "url http://192.168.99.119:9090/api/v1/query?query=avg_over_time(container_memory_usage_bytes%7Bcontainer_label_com_docker_swarm_node_id%3D~\"ykueqwkeyy0whed9ar3eielhz\"%2C%20id%3D~\"%2Fdocker%2F.*\"%7D%5B5m%5D)%2F1024%2F1024&g0.tab=1\n"
     ]
    },
    {
     "name": "stderr",
     "output_type": "stream",
     "text": [
      "127.0.0.1 - - [24/Feb/2022 10:39:28] \"\u001b[37mGET /getjson/ HTTP/1.1\u001b[0m\" 200 -\n",
      "127.0.0.1 - - [24/Feb/2022 10:39:28] \"\u001b[37mGET /UpdateStatus/ HTTP/1.1\u001b[0m\" 200 -\n"
     ]
    },
    {
     "name": "stdout",
     "output_type": "stream",
     "text": [
      "[['ID', 'HOSTNAME', 'STATUS', 'AVAILABILITY', 'MANAGER', 'STATUS', 'ENGINE', 'VERSION'], ['gobb5gs2ea0l3hqnqoo597rje', 'manager', 'Ready', 'Active', 'Leader', '19.03.12'], ['j4mij6hfk3pdl7igmt6jy0em3', 'worker1', 'Ready', 'Active', '19.03.12'], ['ykueqwkeyy0whed9ar3eielhz', 'worker2', 'Ready', 'Active', '19.03.12']]\n",
      "Ready\n",
      "Ready\n",
      "Ready\n"
     ]
    },
    {
     "name": "stderr",
     "output_type": "stream",
     "text": [
      "127.0.0.1 - - [24/Feb/2022 10:39:29] \"\u001b[37mGET /getmem/ HTTP/1.1\u001b[0m\" 200 -\n",
      "127.0.0.1 - - [24/Feb/2022 10:39:35] \"\u001b[37mGET /getjson/ HTTP/1.1\u001b[0m\" 200 -\n",
      "127.0.0.1 - - [24/Feb/2022 10:39:36] \"\u001b[37mPOST /geturl/ HTTP/1.1\u001b[0m\" 200 -\n",
      "127.0.0.1 - - [24/Feb/2022 10:39:36] \"\u001b[37mGET /getexectime/ HTTP/1.1\u001b[0m\" 200 -\n",
      "127.0.0.1 - - [24/Feb/2022 10:39:36] \"\u001b[37mGET /getjson/ HTTP/1.1\u001b[0m\" 200 -\n"
     ]
    },
    {
     "name": "stdout",
     "output_type": "stream",
     "text": [
      "manager\n",
      "content http://192.168.99.119:9090/\n",
      "url http://192.168.99.119:9090/api/v1/query?query=avg_over_time(container_memory_usage_bytes%7Bcontainer_label_com_docker_swarm_node_id%3D~\"gobb5gs2ea0l3hqnqoo597rje\"%2C%20id%3D~\"%2Fdocker%2F.*\"%7D%5B5m%5D)%2F1024%2F1024&g0.tab=1\n",
      "url http://192.168.99.119:9090/api/v1/query?query=avg_over_time(container_memory_usage_bytes%7Bcontainer_label_com_docker_swarm_node_id%3D~\"j4mij6hfk3pdl7igmt6jy0em3\"%2C%20id%3D~\"%2Fdocker%2F.*\"%7D%5B5m%5D)%2F1024%2F1024&g0.tab=1\n"
     ]
    },
    {
     "name": "stderr",
     "output_type": "stream",
     "text": [
      "127.0.0.1 - - [24/Feb/2022 10:39:37] \"\u001b[37mGET /UpdateStatus/ HTTP/1.1\u001b[0m\" 200 -\n"
     ]
    },
    {
     "name": "stdout",
     "output_type": "stream",
     "text": [
      "[['ID', 'HOSTNAME', 'STATUS', 'AVAILABILITY', 'MANAGER', 'STATUS', 'ENGINE', 'VERSION'], ['gobb5gs2ea0l3hqnqoo597rje', 'manager', 'Ready', 'Active', 'Leader', '19.03.12'], ['j4mij6hfk3pdl7igmt6jy0em3', 'worker1', 'Ready', 'Active', '19.03.12'], ['ykueqwkeyy0whed9ar3eielhz', 'worker2', 'Ready', 'Active', '19.03.12']]\n",
      "Ready\n",
      "Ready\n",
      "Ready\n",
      "url http://192.168.99.119:9090/api/v1/query?query=avg_over_time(container_memory_usage_bytes%7Bcontainer_label_com_docker_swarm_node_id%3D~\"ykueqwkeyy0whed9ar3eielhz\"%2C%20id%3D~\"%2Fdocker%2F.*\"%7D%5B5m%5D)%2F1024%2F1024&g0.tab=1\n"
     ]
    },
    {
     "name": "stderr",
     "output_type": "stream",
     "text": [
      "127.0.0.1 - - [24/Feb/2022 10:39:37] \"\u001b[37mGET /getmem/ HTTP/1.1\u001b[0m\" 200 -\n",
      "127.0.0.1 - - [24/Feb/2022 10:39:45] \"\u001b[37mGET /getjson/ HTTP/1.1\u001b[0m\" 200 -\n",
      "127.0.0.1 - - [24/Feb/2022 10:39:46] \"\u001b[37mPOST /geturl/ HTTP/1.1\u001b[0m\" 200 -\n",
      "127.0.0.1 - - [24/Feb/2022 10:39:46] \"\u001b[37mGET /getexectime/ HTTP/1.1\u001b[0m\" 200 -\n"
     ]
    },
    {
     "name": "stdout",
     "output_type": "stream",
     "text": [
      "manager\n",
      "content http://192.168.99.119:9090/\n",
      "url http://192.168.99.119:9090/api/v1/query?query=avg_over_time(container_memory_usage_bytes%7Bcontainer_label_com_docker_swarm_node_id%3D~\"gobb5gs2ea0l3hqnqoo597rje\"%2C%20id%3D~\"%2Fdocker%2F.*\"%7D%5B5m%5D)%2F1024%2F1024&g0.tab=1\n"
     ]
    },
    {
     "name": "stderr",
     "output_type": "stream",
     "text": [
      "[2022-02-24 10:39:46,758] ERROR in app: Exception on /UpdateStatus/ [GET]\n",
      "Traceback (most recent call last):\n",
      "  File \"/Users/anwar/opt/anaconda3/lib/python3.8/site-packages/flask/app.py\", line 2447, in wsgi_app\n",
      "    response = self.full_dispatch_request()\n",
      "  File \"/Users/anwar/opt/anaconda3/lib/python3.8/site-packages/flask/app.py\", line 1952, in full_dispatch_request\n",
      "    rv = self.handle_user_exception(e)\n",
      "  File \"/Users/anwar/opt/anaconda3/lib/python3.8/site-packages/flask_cors/extension.py\", line 165, in wrapped_function\n",
      "    return cors_after_request(app.make_response(f(*args, **kwargs)))\n",
      "  File \"/Users/anwar/opt/anaconda3/lib/python3.8/site-packages/flask_restful/__init__.py\", line 271, in error_router\n",
      "    return original_handler(e)\n",
      "  File \"/Users/anwar/opt/anaconda3/lib/python3.8/site-packages/flask/app.py\", line 1821, in handle_user_exception\n",
      "    reraise(exc_type, exc_value, tb)\n",
      "  File \"/Users/anwar/opt/anaconda3/lib/python3.8/site-packages/flask/_compat.py\", line 39, in reraise\n",
      "    raise value\n",
      "  File \"/Users/anwar/opt/anaconda3/lib/python3.8/site-packages/flask/app.py\", line 1950, in full_dispatch_request\n",
      "    rv = self.dispatch_request()\n",
      "  File \"/Users/anwar/opt/anaconda3/lib/python3.8/site-packages/flask/app.py\", line 1936, in dispatch_request\n",
      "    return self.view_functions[rule.endpoint](**req.view_args)\n",
      "  File \"<ipython-input-1-bb216e7d2d1c>\", line 192, in get_nodes\n",
      "    del machines[0]\n",
      "IndexError: list assignment index out of range\n",
      "127.0.0.1 - - [24/Feb/2022 10:39:46] \"\u001b[35m\u001b[1mGET /UpdateStatus/ HTTP/1.1\u001b[0m\" 500 -\n",
      "127.0.0.1 - - [24/Feb/2022 10:39:50] \"\u001b[37mPOST /geturl/ HTTP/1.1\u001b[0m\" 200 -\n",
      "127.0.0.1 - - [24/Feb/2022 10:39:50] \"\u001b[37mGET /getexectime/ HTTP/1.1\u001b[0m\" 200 -\n"
     ]
    },
    {
     "name": "stdout",
     "output_type": "stream",
     "text": [
      "manager\n",
      "content http://192.168.99.119:9090/\n",
      "url http://192.168.99.119:9090/api/v1/query?query=avg_over_time(container_memory_usage_bytes%7Bcontainer_label_com_docker_swarm_node_id%3D~\"gobb5gs2ea0l3hqnqoo597rje\"%2C%20id%3D~\"%2Fdocker%2F.*\"%7D%5B5m%5D)%2F1024%2F1024&g0.tab=1\n"
     ]
    },
    {
     "name": "stderr",
     "output_type": "stream",
     "text": [
      "[2022-02-24 10:39:51,144] ERROR in app: Exception on /UpdateStatus/ [GET]\n",
      "Traceback (most recent call last):\n",
      "  File \"/Users/anwar/opt/anaconda3/lib/python3.8/site-packages/flask/app.py\", line 2447, in wsgi_app\n",
      "    response = self.full_dispatch_request()\n",
      "  File \"/Users/anwar/opt/anaconda3/lib/python3.8/site-packages/flask/app.py\", line 1952, in full_dispatch_request\n",
      "    rv = self.handle_user_exception(e)\n",
      "  File \"/Users/anwar/opt/anaconda3/lib/python3.8/site-packages/flask_cors/extension.py\", line 165, in wrapped_function\n",
      "    return cors_after_request(app.make_response(f(*args, **kwargs)))\n",
      "  File \"/Users/anwar/opt/anaconda3/lib/python3.8/site-packages/flask_restful/__init__.py\", line 271, in error_router\n",
      "    return original_handler(e)\n",
      "  File \"/Users/anwar/opt/anaconda3/lib/python3.8/site-packages/flask/app.py\", line 1821, in handle_user_exception\n",
      "    reraise(exc_type, exc_value, tb)\n",
      "  File \"/Users/anwar/opt/anaconda3/lib/python3.8/site-packages/flask/_compat.py\", line 39, in reraise\n",
      "    raise value\n",
      "  File \"/Users/anwar/opt/anaconda3/lib/python3.8/site-packages/flask/app.py\", line 1950, in full_dispatch_request\n",
      "    rv = self.dispatch_request()\n",
      "  File \"/Users/anwar/opt/anaconda3/lib/python3.8/site-packages/flask/app.py\", line 1936, in dispatch_request\n",
      "    return self.view_functions[rule.endpoint](**req.view_args)\n",
      "  File \"<ipython-input-1-bb216e7d2d1c>\", line 192, in get_nodes\n",
      "    del machines[0]\n",
      "IndexError: list assignment index out of range\n",
      "127.0.0.1 - - [24/Feb/2022 10:39:51] \"\u001b[35m\u001b[1mGET /UpdateStatus/ HTTP/1.1\u001b[0m\" 500 -\n",
      "127.0.0.1 - - [24/Feb/2022 10:40:08] \"\u001b[37mGET /getjson/ HTTP/1.1\u001b[0m\" 200 -\n",
      "127.0.0.1 - - [24/Feb/2022 10:40:08] \"\u001b[37mPOST /geturl/ HTTP/1.1\u001b[0m\" 200 -\n",
      "127.0.0.1 - - [24/Feb/2022 10:40:08] \"\u001b[37mGET /getexectime/ HTTP/1.1\u001b[0m\" 200 -\n"
     ]
    },
    {
     "name": "stdout",
     "output_type": "stream",
     "text": [
      "manager\n",
      "content http://192.168.99.119:9090/\n"
     ]
    },
    {
     "name": "stderr",
     "output_type": "stream",
     "text": [
      "[2022-02-24 10:40:08,914] ERROR in app: Exception on /UpdateStatus/ [GET]\n",
      "Traceback (most recent call last):\n",
      "  File \"/Users/anwar/opt/anaconda3/lib/python3.8/site-packages/flask/app.py\", line 2447, in wsgi_app\n",
      "    response = self.full_dispatch_request()\n",
      "  File \"/Users/anwar/opt/anaconda3/lib/python3.8/site-packages/flask/app.py\", line 1952, in full_dispatch_request\n",
      "    rv = self.handle_user_exception(e)\n",
      "  File \"/Users/anwar/opt/anaconda3/lib/python3.8/site-packages/flask_cors/extension.py\", line 165, in wrapped_function\n",
      "    return cors_after_request(app.make_response(f(*args, **kwargs)))\n",
      "  File \"/Users/anwar/opt/anaconda3/lib/python3.8/site-packages/flask_restful/__init__.py\", line 271, in error_router\n",
      "    return original_handler(e)\n",
      "  File \"/Users/anwar/opt/anaconda3/lib/python3.8/site-packages/flask/app.py\", line 1821, in handle_user_exception\n",
      "    reraise(exc_type, exc_value, tb)\n",
      "  File \"/Users/anwar/opt/anaconda3/lib/python3.8/site-packages/flask/_compat.py\", line 39, in reraise\n",
      "    raise value\n",
      "  File \"/Users/anwar/opt/anaconda3/lib/python3.8/site-packages/flask/app.py\", line 1950, in full_dispatch_request\n",
      "    rv = self.dispatch_request()\n",
      "  File \"/Users/anwar/opt/anaconda3/lib/python3.8/site-packages/flask/app.py\", line 1936, in dispatch_request\n",
      "    return self.view_functions[rule.endpoint](**req.view_args)\n",
      "  File \"<ipython-input-1-bb216e7d2d1c>\", line 192, in get_nodes\n",
      "    del machines[0]\n",
      "IndexError: list assignment index out of range\n",
      "127.0.0.1 - - [24/Feb/2022 10:40:08] \"\u001b[35m\u001b[1mGET /UpdateStatus/ HTTP/1.1\u001b[0m\" 500 -\n"
     ]
    },
    {
     "name": "stdout",
     "output_type": "stream",
     "text": [
      "url http://192.168.99.119:9090/api/v1/query?query=avg_over_time(container_memory_usage_bytes%7Bcontainer_label_com_docker_swarm_node_id%3D~\"gobb5gs2ea0l3hqnqoo597rje\"%2C%20id%3D~\"%2Fdocker%2F.*\"%7D%5B5m%5D)%2F1024%2F1024&g0.tab=1\n"
     ]
    },
    {
     "name": "stderr",
     "output_type": "stream",
     "text": [
      "127.0.0.1 - - [24/Feb/2022 10:40:33] \"\u001b[37mGET /getjson/ HTTP/1.1\u001b[0m\" 200 -\n",
      "127.0.0.1 - - [24/Feb/2022 10:40:34] \"\u001b[37mPOST /geturl/ HTTP/1.1\u001b[0m\" 200 -\n",
      "127.0.0.1 - - [24/Feb/2022 10:40:34] \"\u001b[37mGET /getexectime/ HTTP/1.1\u001b[0m\" 200 -\n"
     ]
    },
    {
     "name": "stdout",
     "output_type": "stream",
     "text": [
      "manager\n",
      "content http://192.168.99.119:9090/\n"
     ]
    },
    {
     "name": "stderr",
     "output_type": "stream",
     "text": [
      "[2022-02-24 10:40:34,643] ERROR in app: Exception on /UpdateStatus/ [GET]\n",
      "Traceback (most recent call last):\n",
      "  File \"/Users/anwar/opt/anaconda3/lib/python3.8/site-packages/flask/app.py\", line 2447, in wsgi_app\n",
      "    response = self.full_dispatch_request()\n",
      "  File \"/Users/anwar/opt/anaconda3/lib/python3.8/site-packages/flask/app.py\", line 1952, in full_dispatch_request\n",
      "    rv = self.handle_user_exception(e)\n",
      "  File \"/Users/anwar/opt/anaconda3/lib/python3.8/site-packages/flask_cors/extension.py\", line 165, in wrapped_function\n",
      "    return cors_after_request(app.make_response(f(*args, **kwargs)))\n",
      "  File \"/Users/anwar/opt/anaconda3/lib/python3.8/site-packages/flask_restful/__init__.py\", line 271, in error_router\n",
      "    return original_handler(e)\n",
      "  File \"/Users/anwar/opt/anaconda3/lib/python3.8/site-packages/flask/app.py\", line 1821, in handle_user_exception\n",
      "    reraise(exc_type, exc_value, tb)\n",
      "  File \"/Users/anwar/opt/anaconda3/lib/python3.8/site-packages/flask/_compat.py\", line 39, in reraise\n",
      "    raise value\n",
      "  File \"/Users/anwar/opt/anaconda3/lib/python3.8/site-packages/flask/app.py\", line 1950, in full_dispatch_request\n",
      "    rv = self.dispatch_request()\n",
      "  File \"/Users/anwar/opt/anaconda3/lib/python3.8/site-packages/flask/app.py\", line 1936, in dispatch_request\n",
      "    return self.view_functions[rule.endpoint](**req.view_args)\n",
      "  File \"<ipython-input-1-bb216e7d2d1c>\", line 192, in get_nodes\n",
      "    del machines[0]\n",
      "IndexError: list assignment index out of range\n",
      "127.0.0.1 - - [24/Feb/2022 10:40:34] \"\u001b[35m\u001b[1mGET /UpdateStatus/ HTTP/1.1\u001b[0m\" 500 -\n",
      "127.0.0.1 - - [24/Feb/2022 10:40:42] \"\u001b[37mPOST /geturl/ HTTP/1.1\u001b[0m\" 200 -\n",
      "127.0.0.1 - - [24/Feb/2022 10:40:42] \"\u001b[37mGET /getexectime/ HTTP/1.1\u001b[0m\" 200 -\n"
     ]
    },
    {
     "name": "stdout",
     "output_type": "stream",
     "text": [
      "manager\n",
      "content urlhttp://192.168.99.119:9090/ http://192.168.99.119:9090/api/v1/query?query=avg_over_time(container_memory_usage_bytes%7Bcontainer_label_com_docker_swarm_node_id%3D~\"gobb5gs2ea0l3hqnqoo597rje\"%2C%20id%3D~\"%2Fdocker%2F.*\"%7D%5B5m%5D)%2F1024%2F1024&g0.tab=1\n",
      "\n"
     ]
    },
    {
     "name": "stderr",
     "output_type": "stream",
     "text": [
      "[2022-02-24 10:40:42,800] ERROR in app: Exception on /UpdateStatus/ [GET]\n",
      "Traceback (most recent call last):\n",
      "  File \"/Users/anwar/opt/anaconda3/lib/python3.8/site-packages/flask/app.py\", line 2447, in wsgi_app\n",
      "    response = self.full_dispatch_request()\n",
      "  File \"/Users/anwar/opt/anaconda3/lib/python3.8/site-packages/flask/app.py\", line 1952, in full_dispatch_request\n",
      "    rv = self.handle_user_exception(e)\n",
      "  File \"/Users/anwar/opt/anaconda3/lib/python3.8/site-packages/flask_cors/extension.py\", line 165, in wrapped_function\n",
      "    return cors_after_request(app.make_response(f(*args, **kwargs)))\n",
      "  File \"/Users/anwar/opt/anaconda3/lib/python3.8/site-packages/flask_restful/__init__.py\", line 271, in error_router\n",
      "    return original_handler(e)\n",
      "  File \"/Users/anwar/opt/anaconda3/lib/python3.8/site-packages/flask/app.py\", line 1821, in handle_user_exception\n",
      "    reraise(exc_type, exc_value, tb)\n",
      "  File \"/Users/anwar/opt/anaconda3/lib/python3.8/site-packages/flask/_compat.py\", line 39, in reraise\n",
      "    raise value\n",
      "  File \"/Users/anwar/opt/anaconda3/lib/python3.8/site-packages/flask/app.py\", line 1950, in full_dispatch_request\n",
      "    rv = self.dispatch_request()\n",
      "  File \"/Users/anwar/opt/anaconda3/lib/python3.8/site-packages/flask/app.py\", line 1936, in dispatch_request\n",
      "    return self.view_functions[rule.endpoint](**req.view_args)\n",
      "  File \"<ipython-input-1-bb216e7d2d1c>\", line 192, in get_nodes\n",
      "    del machines[0]\n",
      "IndexError: list assignment index out of range\n",
      "127.0.0.1 - - [24/Feb/2022 10:40:42] \"\u001b[35m\u001b[1mGET /UpdateStatus/ HTTP/1.1\u001b[0m\" 500 -\n",
      "127.0.0.1 - - [24/Feb/2022 10:40:58] \"\u001b[37mGET /getjson/ HTTP/1.1\u001b[0m\" 200 -\n",
      "127.0.0.1 - - [24/Feb/2022 10:40:58] \"\u001b[37mPOST /geturl/ HTTP/1.1\u001b[0m\" 200 -\n",
      "127.0.0.1 - - [24/Feb/2022 10:40:58] \"\u001b[37mGET /getexectime/ HTTP/1.1\u001b[0m\" 200 -\n"
     ]
    },
    {
     "name": "stdout",
     "output_type": "stream",
     "text": [
      "manager\n",
      "content http://192.168.99.119:9090/\n"
     ]
    },
    {
     "name": "stderr",
     "output_type": "stream",
     "text": [
      "[2022-02-24 10:40:59,111] ERROR in app: Exception on /UpdateStatus/ [GET]\n",
      "Traceback (most recent call last):\n",
      "  File \"/Users/anwar/opt/anaconda3/lib/python3.8/site-packages/flask/app.py\", line 2447, in wsgi_app\n",
      "    response = self.full_dispatch_request()\n",
      "  File \"/Users/anwar/opt/anaconda3/lib/python3.8/site-packages/flask/app.py\", line 1952, in full_dispatch_request\n",
      "    rv = self.handle_user_exception(e)\n",
      "  File \"/Users/anwar/opt/anaconda3/lib/python3.8/site-packages/flask_cors/extension.py\", line 165, in wrapped_function\n",
      "    return cors_after_request(app.make_response(f(*args, **kwargs)))\n",
      "  File \"/Users/anwar/opt/anaconda3/lib/python3.8/site-packages/flask_restful/__init__.py\", line 271, in error_router\n",
      "    return original_handler(e)\n",
      "  File \"/Users/anwar/opt/anaconda3/lib/python3.8/site-packages/flask/app.py\", line 1821, in handle_user_exception\n",
      "    reraise(exc_type, exc_value, tb)\n",
      "  File \"/Users/anwar/opt/anaconda3/lib/python3.8/site-packages/flask/_compat.py\", line 39, in reraise\n",
      "    raise value\n",
      "  File \"/Users/anwar/opt/anaconda3/lib/python3.8/site-packages/flask/app.py\", line 1950, in full_dispatch_request\n",
      "    rv = self.dispatch_request()\n",
      "  File \"/Users/anwar/opt/anaconda3/lib/python3.8/site-packages/flask/app.py\", line 1936, in dispatch_request\n",
      "    return self.view_functions[rule.endpoint](**req.view_args)\n",
      "  File \"<ipython-input-1-bb216e7d2d1c>\", line 192, in get_nodes\n",
      "    del machines[0]\n",
      "IndexError: list assignment index out of range\n",
      "127.0.0.1 - - [24/Feb/2022 10:40:59] \"\u001b[35m\u001b[1mGET /UpdateStatus/ HTTP/1.1\u001b[0m\" 500 -\n"
     ]
    },
    {
     "name": "stdout",
     "output_type": "stream",
     "text": [
      "url http://192.168.99.119:9090/api/v1/query?query=avg_over_time(container_memory_usage_bytes%7Bcontainer_label_com_docker_swarm_node_id%3D~\"gobb5gs2ea0l3hqnqoo597rje\"%2C%20id%3D~\"%2Fdocker%2F.*\"%7D%5B5m%5D)%2F1024%2F1024&g0.tab=1\n"
     ]
    },
    {
     "name": "stderr",
     "output_type": "stream",
     "text": [
      "127.0.0.1 - - [24/Feb/2022 10:41:00] \"\u001b[37mPOST /geturl/ HTTP/1.1\u001b[0m\" 200 -\n",
      "127.0.0.1 - - [24/Feb/2022 10:41:00] \"\u001b[37mGET /getexectime/ HTTP/1.1\u001b[0m\" 200 -\n"
     ]
    },
    {
     "name": "stdout",
     "output_type": "stream",
     "text": [
      "manager\n",
      "contenturl  http://192.168.99.119:9090/\n",
      "http://192.168.99.119:9090/api/v1/query?query=avg_over_time(container_memory_usage_bytes%7Bcontainer_label_com_docker_swarm_node_id%3D~\"gobb5gs2ea0l3hqnqoo597rje\"%2C%20id%3D~\"%2Fdocker%2F.*\"%7D%5B5m%5D)%2F1024%2F1024&g0.tab=1\n"
     ]
    },
    {
     "name": "stderr",
     "output_type": "stream",
     "text": [
      "[2022-02-24 10:41:01,143] ERROR in app: Exception on /UpdateStatus/ [GET]\n",
      "Traceback (most recent call last):\n",
      "  File \"/Users/anwar/opt/anaconda3/lib/python3.8/site-packages/flask/app.py\", line 2447, in wsgi_app\n",
      "    response = self.full_dispatch_request()\n",
      "  File \"/Users/anwar/opt/anaconda3/lib/python3.8/site-packages/flask/app.py\", line 1952, in full_dispatch_request\n",
      "    rv = self.handle_user_exception(e)\n",
      "  File \"/Users/anwar/opt/anaconda3/lib/python3.8/site-packages/flask_cors/extension.py\", line 165, in wrapped_function\n",
      "    return cors_after_request(app.make_response(f(*args, **kwargs)))\n",
      "  File \"/Users/anwar/opt/anaconda3/lib/python3.8/site-packages/flask_restful/__init__.py\", line 271, in error_router\n",
      "    return original_handler(e)\n",
      "  File \"/Users/anwar/opt/anaconda3/lib/python3.8/site-packages/flask/app.py\", line 1821, in handle_user_exception\n",
      "    reraise(exc_type, exc_value, tb)\n",
      "  File \"/Users/anwar/opt/anaconda3/lib/python3.8/site-packages/flask/_compat.py\", line 39, in reraise\n",
      "    raise value\n",
      "  File \"/Users/anwar/opt/anaconda3/lib/python3.8/site-packages/flask/app.py\", line 1950, in full_dispatch_request\n",
      "    rv = self.dispatch_request()\n",
      "  File \"/Users/anwar/opt/anaconda3/lib/python3.8/site-packages/flask/app.py\", line 1936, in dispatch_request\n",
      "    return self.view_functions[rule.endpoint](**req.view_args)\n",
      "  File \"<ipython-input-1-bb216e7d2d1c>\", line 192, in get_nodes\n",
      "    del machines[0]\n",
      "IndexError: list assignment index out of range\n",
      "127.0.0.1 - - [24/Feb/2022 10:41:01] \"\u001b[35m\u001b[1mGET /UpdateStatus/ HTTP/1.1\u001b[0m\" 500 -\n",
      "127.0.0.1 - - [24/Feb/2022 10:41:07] \"\u001b[37mPOST /geturl/ HTTP/1.1\u001b[0m\" 200 -\n",
      "127.0.0.1 - - [24/Feb/2022 10:41:07] \"\u001b[37mGET /getexectime/ HTTP/1.1\u001b[0m\" 200 -\n"
     ]
    },
    {
     "name": "stdout",
     "output_type": "stream",
     "text": [
      "manager\n",
      "content http://192.168.99.119:9090/\n",
      "url http://192.168.99.119:9090/api/v1/query?query=avg_over_time(container_memory_usage_bytes%7Bcontainer_label_com_docker_swarm_node_id%3D~\"gobb5gs2ea0l3hqnqoo597rje\"%2C%20id%3D~\"%2Fdocker%2F.*\"%7D%5B5m%5D)%2F1024%2F1024&g0.tab=1\n"
     ]
    },
    {
     "name": "stderr",
     "output_type": "stream",
     "text": [
      "[2022-02-24 10:41:07,652] ERROR in app: Exception on /UpdateStatus/ [GET]\n",
      "Traceback (most recent call last):\n",
      "  File \"/Users/anwar/opt/anaconda3/lib/python3.8/site-packages/flask/app.py\", line 2447, in wsgi_app\n",
      "    response = self.full_dispatch_request()\n",
      "  File \"/Users/anwar/opt/anaconda3/lib/python3.8/site-packages/flask/app.py\", line 1952, in full_dispatch_request\n",
      "    rv = self.handle_user_exception(e)\n",
      "  File \"/Users/anwar/opt/anaconda3/lib/python3.8/site-packages/flask_cors/extension.py\", line 165, in wrapped_function\n",
      "    return cors_after_request(app.make_response(f(*args, **kwargs)))\n",
      "  File \"/Users/anwar/opt/anaconda3/lib/python3.8/site-packages/flask_restful/__init__.py\", line 271, in error_router\n",
      "    return original_handler(e)\n",
      "  File \"/Users/anwar/opt/anaconda3/lib/python3.8/site-packages/flask/app.py\", line 1821, in handle_user_exception\n",
      "    reraise(exc_type, exc_value, tb)\n",
      "  File \"/Users/anwar/opt/anaconda3/lib/python3.8/site-packages/flask/_compat.py\", line 39, in reraise\n",
      "    raise value\n",
      "  File \"/Users/anwar/opt/anaconda3/lib/python3.8/site-packages/flask/app.py\", line 1950, in full_dispatch_request\n",
      "    rv = self.dispatch_request()\n",
      "  File \"/Users/anwar/opt/anaconda3/lib/python3.8/site-packages/flask/app.py\", line 1936, in dispatch_request\n",
      "    return self.view_functions[rule.endpoint](**req.view_args)\n",
      "  File \"<ipython-input-1-bb216e7d2d1c>\", line 192, in get_nodes\n",
      "    del machines[0]\n",
      "IndexError: list assignment index out of range\n",
      "127.0.0.1 - - [24/Feb/2022 10:41:07] \"\u001b[35m\u001b[1mGET /UpdateStatus/ HTTP/1.1\u001b[0m\" 500 -\n",
      "127.0.0.1 - - [24/Feb/2022 10:41:09] \"\u001b[37mGET /getjson/ HTTP/1.1\u001b[0m\" 200 -\n",
      "127.0.0.1 - - [24/Feb/2022 10:41:10] \"\u001b[37mPOST /geturl/ HTTP/1.1\u001b[0m\" 200 -\n",
      "127.0.0.1 - - [24/Feb/2022 10:41:10] \"\u001b[37mGET /getexectime/ HTTP/1.1\u001b[0m\" 200 -\n"
     ]
    },
    {
     "name": "stdout",
     "output_type": "stream",
     "text": [
      "manager\n",
      "content http://192.168.99.119:9090/\n"
     ]
    },
    {
     "name": "stderr",
     "output_type": "stream",
     "text": [
      "[2022-02-24 10:41:10,434] ERROR in app: Exception on /UpdateStatus/ [GET]\n",
      "Traceback (most recent call last):\n",
      "  File \"/Users/anwar/opt/anaconda3/lib/python3.8/site-packages/flask/app.py\", line 2447, in wsgi_app\n",
      "    response = self.full_dispatch_request()\n",
      "  File \"/Users/anwar/opt/anaconda3/lib/python3.8/site-packages/flask/app.py\", line 1952, in full_dispatch_request\n",
      "    rv = self.handle_user_exception(e)\n",
      "  File \"/Users/anwar/opt/anaconda3/lib/python3.8/site-packages/flask_cors/extension.py\", line 165, in wrapped_function\n",
      "    return cors_after_request(app.make_response(f(*args, **kwargs)))\n",
      "  File \"/Users/anwar/opt/anaconda3/lib/python3.8/site-packages/flask_restful/__init__.py\", line 271, in error_router\n",
      "    return original_handler(e)\n",
      "  File \"/Users/anwar/opt/anaconda3/lib/python3.8/site-packages/flask/app.py\", line 1821, in handle_user_exception\n",
      "    reraise(exc_type, exc_value, tb)\n",
      "  File \"/Users/anwar/opt/anaconda3/lib/python3.8/site-packages/flask/_compat.py\", line 39, in reraise\n",
      "    raise value\n",
      "  File \"/Users/anwar/opt/anaconda3/lib/python3.8/site-packages/flask/app.py\", line 1950, in full_dispatch_request\n",
      "    rv = self.dispatch_request()\n",
      "  File \"/Users/anwar/opt/anaconda3/lib/python3.8/site-packages/flask/app.py\", line 1936, in dispatch_request\n",
      "    return self.view_functions[rule.endpoint](**req.view_args)\n",
      "  File \"<ipython-input-1-bb216e7d2d1c>\", line 192, in get_nodes\n",
      "    del machines[0]\n",
      "IndexError: list assignment index out of range\n",
      "127.0.0.1 - - [24/Feb/2022 10:41:10] \"\u001b[35m\u001b[1mGET /UpdateStatus/ HTTP/1.1\u001b[0m\" 500 -\n",
      "127.0.0.1 - - [24/Feb/2022 10:41:13] \"\u001b[37mGET /getjson/ HTTP/1.1\u001b[0m\" 200 -\n"
     ]
    },
    {
     "name": "stdout",
     "output_type": "stream",
     "text": [
      "url http://192.168.99.119:9090/api/v1/query?query=avg_over_time(container_memory_usage_bytes%7Bcontainer_label_com_docker_swarm_node_id%3D~\"gobb5gs2ea0l3hqnqoo597rje\"%2C%20id%3D~\"%2Fdocker%2F.*\"%7D%5B5m%5D)%2F1024%2F1024&g0.tab=1\n"
     ]
    },
    {
     "name": "stderr",
     "output_type": "stream",
     "text": [
      "127.0.0.1 - - [24/Feb/2022 10:41:14] \"\u001b[37mGET /getjson/ HTTP/1.1\u001b[0m\" 200 -\n",
      "127.0.0.1 - - [24/Feb/2022 10:41:17] \"\u001b[37mPOST /geturl/ HTTP/1.1\u001b[0m\" 200 -\n",
      "127.0.0.1 - - [24/Feb/2022 10:41:17] \"\u001b[37mGET /getexectime/ HTTP/1.1\u001b[0m\" 200 -\n"
     ]
    },
    {
     "name": "stdout",
     "output_type": "stream",
     "text": [
      "manager\n",
      "contenturl http://192.168.99.119:9090/\n",
      " http://192.168.99.119:9090/api/v1/query?query=avg_over_time(container_memory_usage_bytes%7Bcontainer_label_com_docker_swarm_node_id%3D~\"gobb5gs2ea0l3hqnqoo597rje\"%2C%20id%3D~\"%2Fdocker%2F.*\"%7D%5B5m%5D)%2F1024%2F1024&g0.tab=1\n"
     ]
    },
    {
     "name": "stderr",
     "output_type": "stream",
     "text": [
      "[2022-02-24 10:41:17,433] ERROR in app: Exception on /UpdateStatus/ [GET]\n",
      "Traceback (most recent call last):\n",
      "  File \"/Users/anwar/opt/anaconda3/lib/python3.8/site-packages/flask/app.py\", line 2447, in wsgi_app\n",
      "    response = self.full_dispatch_request()\n",
      "  File \"/Users/anwar/opt/anaconda3/lib/python3.8/site-packages/flask/app.py\", line 1952, in full_dispatch_request\n",
      "    rv = self.handle_user_exception(e)\n",
      "  File \"/Users/anwar/opt/anaconda3/lib/python3.8/site-packages/flask_cors/extension.py\", line 165, in wrapped_function\n",
      "    return cors_after_request(app.make_response(f(*args, **kwargs)))\n",
      "  File \"/Users/anwar/opt/anaconda3/lib/python3.8/site-packages/flask_restful/__init__.py\", line 271, in error_router\n",
      "    return original_handler(e)\n",
      "  File \"/Users/anwar/opt/anaconda3/lib/python3.8/site-packages/flask/app.py\", line 1821, in handle_user_exception\n",
      "    reraise(exc_type, exc_value, tb)\n",
      "  File \"/Users/anwar/opt/anaconda3/lib/python3.8/site-packages/flask/_compat.py\", line 39, in reraise\n",
      "    raise value\n",
      "  File \"/Users/anwar/opt/anaconda3/lib/python3.8/site-packages/flask/app.py\", line 1950, in full_dispatch_request\n",
      "    rv = self.dispatch_request()\n",
      "  File \"/Users/anwar/opt/anaconda3/lib/python3.8/site-packages/flask/app.py\", line 1936, in dispatch_request\n",
      "    return self.view_functions[rule.endpoint](**req.view_args)\n",
      "  File \"<ipython-input-1-bb216e7d2d1c>\", line 192, in get_nodes\n",
      "    del machines[0]\n",
      "IndexError: list assignment index out of range\n",
      "127.0.0.1 - - [24/Feb/2022 10:41:17] \"\u001b[35m\u001b[1mGET /UpdateStatus/ HTTP/1.1\u001b[0m\" 500 -\n",
      "127.0.0.1 - - [24/Feb/2022 10:41:20] \"\u001b[37mPOST /geturl/ HTTP/1.1\u001b[0m\" 200 -\n",
      "127.0.0.1 - - [24/Feb/2022 10:41:20] \"\u001b[37mGET /getexectime/ HTTP/1.1\u001b[0m\" 200 -\n"
     ]
    },
    {
     "name": "stdout",
     "output_type": "stream",
     "text": [
      "manager\n",
      "content http://192.168.99.119:9090/\n",
      "url http://192.168.99.119:9090/api/v1/query?query=avg_over_time(container_memory_usage_bytes%7Bcontainer_label_com_docker_swarm_node_id%3D~\"gobb5gs2ea0l3hqnqoo597rje\"%2C%20id%3D~\"%2Fdocker%2F.*\"%7D%5B5m%5D)%2F1024%2F1024&g0.tab=1\n"
     ]
    },
    {
     "name": "stderr",
     "output_type": "stream",
     "text": [
      "[2022-02-24 10:41:21,089] ERROR in app: Exception on /UpdateStatus/ [GET]\n",
      "Traceback (most recent call last):\n",
      "  File \"/Users/anwar/opt/anaconda3/lib/python3.8/site-packages/flask/app.py\", line 2447, in wsgi_app\n",
      "    response = self.full_dispatch_request()\n",
      "  File \"/Users/anwar/opt/anaconda3/lib/python3.8/site-packages/flask/app.py\", line 1952, in full_dispatch_request\n",
      "    rv = self.handle_user_exception(e)\n",
      "  File \"/Users/anwar/opt/anaconda3/lib/python3.8/site-packages/flask_cors/extension.py\", line 165, in wrapped_function\n",
      "    return cors_after_request(app.make_response(f(*args, **kwargs)))\n",
      "  File \"/Users/anwar/opt/anaconda3/lib/python3.8/site-packages/flask_restful/__init__.py\", line 271, in error_router\n",
      "    return original_handler(e)\n",
      "  File \"/Users/anwar/opt/anaconda3/lib/python3.8/site-packages/flask/app.py\", line 1821, in handle_user_exception\n",
      "    reraise(exc_type, exc_value, tb)\n",
      "  File \"/Users/anwar/opt/anaconda3/lib/python3.8/site-packages/flask/_compat.py\", line 39, in reraise\n",
      "    raise value\n",
      "  File \"/Users/anwar/opt/anaconda3/lib/python3.8/site-packages/flask/app.py\", line 1950, in full_dispatch_request\n",
      "    rv = self.dispatch_request()\n",
      "  File \"/Users/anwar/opt/anaconda3/lib/python3.8/site-packages/flask/app.py\", line 1936, in dispatch_request\n",
      "    return self.view_functions[rule.endpoint](**req.view_args)\n",
      "  File \"<ipython-input-1-bb216e7d2d1c>\", line 192, in get_nodes\n",
      "    del machines[0]\n",
      "IndexError: list assignment index out of range\n",
      "127.0.0.1 - - [24/Feb/2022 10:41:21] \"\u001b[35m\u001b[1mGET /UpdateStatus/ HTTP/1.1\u001b[0m\" 500 -\n",
      "127.0.0.1 - - [24/Feb/2022 10:41:26] \"\u001b[37mPOST /geturl/ HTTP/1.1\u001b[0m\" 200 -\n",
      "127.0.0.1 - - [24/Feb/2022 10:41:26] \"\u001b[37mGET /getexectime/ HTTP/1.1\u001b[0m\" 200 -\n"
     ]
    },
    {
     "name": "stdout",
     "output_type": "stream",
     "text": [
      "manager\n",
      "content url http://192.168.99.119:9090/api/v1/query?query=avg_over_time(container_memory_usage_bytes%7Bcontainer_label_com_docker_swarm_node_id%3D~\"gobb5gs2ea0l3hqnqoo597rje\"%2C%20id%3D~\"%2Fdocker%2F.*\"%7D%5B5m%5D)%2F1024%2F1024&g0.tab=1\n",
      "http://192.168.99.119:9090/\n"
     ]
    },
    {
     "name": "stderr",
     "output_type": "stream",
     "text": [
      "[2022-02-24 10:41:26,983] ERROR in app: Exception on /UpdateStatus/ [GET]\n",
      "Traceback (most recent call last):\n",
      "  File \"/Users/anwar/opt/anaconda3/lib/python3.8/site-packages/flask/app.py\", line 2447, in wsgi_app\n",
      "    response = self.full_dispatch_request()\n",
      "  File \"/Users/anwar/opt/anaconda3/lib/python3.8/site-packages/flask/app.py\", line 1952, in full_dispatch_request\n",
      "    rv = self.handle_user_exception(e)\n",
      "  File \"/Users/anwar/opt/anaconda3/lib/python3.8/site-packages/flask_cors/extension.py\", line 165, in wrapped_function\n",
      "    return cors_after_request(app.make_response(f(*args, **kwargs)))\n",
      "  File \"/Users/anwar/opt/anaconda3/lib/python3.8/site-packages/flask_restful/__init__.py\", line 271, in error_router\n",
      "    return original_handler(e)\n",
      "  File \"/Users/anwar/opt/anaconda3/lib/python3.8/site-packages/flask/app.py\", line 1821, in handle_user_exception\n",
      "    reraise(exc_type, exc_value, tb)\n",
      "  File \"/Users/anwar/opt/anaconda3/lib/python3.8/site-packages/flask/_compat.py\", line 39, in reraise\n",
      "    raise value\n",
      "  File \"/Users/anwar/opt/anaconda3/lib/python3.8/site-packages/flask/app.py\", line 1950, in full_dispatch_request\n",
      "    rv = self.dispatch_request()\n",
      "  File \"/Users/anwar/opt/anaconda3/lib/python3.8/site-packages/flask/app.py\", line 1936, in dispatch_request\n",
      "    return self.view_functions[rule.endpoint](**req.view_args)\n",
      "  File \"<ipython-input-1-bb216e7d2d1c>\", line 192, in get_nodes\n",
      "    del machines[0]\n",
      "IndexError: list assignment index out of range\n",
      "127.0.0.1 - - [24/Feb/2022 10:41:26] \"\u001b[35m\u001b[1mGET /UpdateStatus/ HTTP/1.1\u001b[0m\" 500 -\n",
      "127.0.0.1 - - [24/Feb/2022 10:41:29] \"\u001b[37mGET /getjson/ HTTP/1.1\u001b[0m\" 200 -\n",
      "127.0.0.1 - - [24/Feb/2022 10:41:30] \"\u001b[37mPOST /geturl/ HTTP/1.1\u001b[0m\" 200 -\n",
      "127.0.0.1 - - [24/Feb/2022 10:41:30] \"\u001b[37mGET /getexectime/ HTTP/1.1\u001b[0m\" 200 -\n"
     ]
    },
    {
     "name": "stdout",
     "output_type": "stream",
     "text": [
      "manager\n",
      "content http://192.168.99.119:9090/\n"
     ]
    },
    {
     "name": "stderr",
     "output_type": "stream",
     "text": [
      "[2022-02-24 10:41:30,615] ERROR in app: Exception on /UpdateStatus/ [GET]\n",
      "Traceback (most recent call last):\n",
      "  File \"/Users/anwar/opt/anaconda3/lib/python3.8/site-packages/flask/app.py\", line 2447, in wsgi_app\n",
      "    response = self.full_dispatch_request()\n",
      "  File \"/Users/anwar/opt/anaconda3/lib/python3.8/site-packages/flask/app.py\", line 1952, in full_dispatch_request\n",
      "    rv = self.handle_user_exception(e)\n",
      "  File \"/Users/anwar/opt/anaconda3/lib/python3.8/site-packages/flask_cors/extension.py\", line 165, in wrapped_function\n",
      "    return cors_after_request(app.make_response(f(*args, **kwargs)))\n",
      "  File \"/Users/anwar/opt/anaconda3/lib/python3.8/site-packages/flask_restful/__init__.py\", line 271, in error_router\n",
      "    return original_handler(e)\n",
      "  File \"/Users/anwar/opt/anaconda3/lib/python3.8/site-packages/flask/app.py\", line 1821, in handle_user_exception\n",
      "    reraise(exc_type, exc_value, tb)\n",
      "  File \"/Users/anwar/opt/anaconda3/lib/python3.8/site-packages/flask/_compat.py\", line 39, in reraise\n",
      "    raise value\n",
      "  File \"/Users/anwar/opt/anaconda3/lib/python3.8/site-packages/flask/app.py\", line 1950, in full_dispatch_request\n",
      "    rv = self.dispatch_request()\n",
      "  File \"/Users/anwar/opt/anaconda3/lib/python3.8/site-packages/flask/app.py\", line 1936, in dispatch_request\n",
      "    return self.view_functions[rule.endpoint](**req.view_args)\n",
      "  File \"<ipython-input-1-bb216e7d2d1c>\", line 192, in get_nodes\n",
      "    del machines[0]\n",
      "IndexError: list assignment index out of range\n",
      "127.0.0.1 - - [24/Feb/2022 10:41:30] \"\u001b[35m\u001b[1mGET /UpdateStatus/ HTTP/1.1\u001b[0m\" 500 -\n",
      "127.0.0.1 - - [24/Feb/2022 10:41:32] \"\u001b[37mPOST /geturl/ HTTP/1.1\u001b[0m\" 200 -\n",
      "127.0.0.1 - - [24/Feb/2022 10:41:32] \"\u001b[37mGET /getexectime/ HTTP/1.1\u001b[0m\" 200 -\n"
     ]
    },
    {
     "name": "stdout",
     "output_type": "stream",
     "text": [
      "manager\n",
      "content http://192.168.99.119:9090/\n",
      "url http://192.168.99.119:9090/api/v1/query?query=avg_over_time(container_memory_usage_bytes%7Bcontainer_label_com_docker_swarm_node_id%3D~\"gobb5gs2ea0l3hqnqoo597rje\"%2C%20id%3D~\"%2Fdocker%2F.*\"%7D%5B5m%5D)%2F1024%2F1024&g0.tab=1\n"
     ]
    },
    {
     "name": "stderr",
     "output_type": "stream",
     "text": [
      "[2022-02-24 10:41:32,490] ERROR in app: Exception on /UpdateStatus/ [GET]\n",
      "Traceback (most recent call last):\n",
      "  File \"/Users/anwar/opt/anaconda3/lib/python3.8/site-packages/flask/app.py\", line 2447, in wsgi_app\n",
      "    response = self.full_dispatch_request()\n",
      "  File \"/Users/anwar/opt/anaconda3/lib/python3.8/site-packages/flask/app.py\", line 1952, in full_dispatch_request\n",
      "    rv = self.handle_user_exception(e)\n",
      "  File \"/Users/anwar/opt/anaconda3/lib/python3.8/site-packages/flask_cors/extension.py\", line 165, in wrapped_function\n",
      "    return cors_after_request(app.make_response(f(*args, **kwargs)))\n",
      "  File \"/Users/anwar/opt/anaconda3/lib/python3.8/site-packages/flask_restful/__init__.py\", line 271, in error_router\n",
      "    return original_handler(e)\n",
      "  File \"/Users/anwar/opt/anaconda3/lib/python3.8/site-packages/flask/app.py\", line 1821, in handle_user_exception\n",
      "    reraise(exc_type, exc_value, tb)\n",
      "  File \"/Users/anwar/opt/anaconda3/lib/python3.8/site-packages/flask/_compat.py\", line 39, in reraise\n",
      "    raise value\n",
      "  File \"/Users/anwar/opt/anaconda3/lib/python3.8/site-packages/flask/app.py\", line 1950, in full_dispatch_request\n",
      "    rv = self.dispatch_request()\n",
      "  File \"/Users/anwar/opt/anaconda3/lib/python3.8/site-packages/flask/app.py\", line 1936, in dispatch_request\n",
      "    return self.view_functions[rule.endpoint](**req.view_args)\n",
      "  File \"<ipython-input-1-bb216e7d2d1c>\", line 192, in get_nodes\n",
      "    del machines[0]\n",
      "IndexError: list assignment index out of range\n",
      "127.0.0.1 - - [24/Feb/2022 10:41:32] \"\u001b[35m\u001b[1mGET /UpdateStatus/ HTTP/1.1\u001b[0m\" 500 -\n"
     ]
    },
    {
     "name": "stdout",
     "output_type": "stream",
     "text": [
      "url http://192.168.99.119:9090/api/v1/query?query=avg_over_time(container_memory_usage_bytes%7Bcontainer_label_com_docker_swarm_node_id%3D~\"j4mij6hfk3pdl7igmt6jy0em3\"%2C%20id%3D~\"%2Fdocker%2F.*\"%7D%5B5m%5D)%2F1024%2F1024&g0.tab=1\n"
     ]
    },
    {
     "name": "stderr",
     "output_type": "stream",
     "text": [
      "[2022-02-24 10:44:05,759] ERROR in app: Exception on /getmem/ [GET]\n",
      "Traceback (most recent call last):\n",
      "  File \"/Users/anwar/opt/anaconda3/lib/python3.8/site-packages/urllib3/connectionpool.py\", line 699, in urlopen\n",
      "    httplib_response = self._make_request(\n",
      "  File \"/Users/anwar/opt/anaconda3/lib/python3.8/site-packages/urllib3/connectionpool.py\", line 445, in _make_request\n",
      "    six.raise_from(e, None)\n",
      "  File \"<string>\", line 3, in raise_from\n",
      "  File \"/Users/anwar/opt/anaconda3/lib/python3.8/site-packages/urllib3/connectionpool.py\", line 440, in _make_request\n",
      "    httplib_response = conn.getresponse()\n",
      "  File \"/Users/anwar/opt/anaconda3/lib/python3.8/http/client.py\", line 1347, in getresponse\n",
      "    response.begin()\n",
      "  File \"/Users/anwar/opt/anaconda3/lib/python3.8/http/client.py\", line 307, in begin\n",
      "    version, status, reason = self._read_status()\n",
      "  File \"/Users/anwar/opt/anaconda3/lib/python3.8/http/client.py\", line 268, in _read_status\n",
      "    line = str(self.fp.readline(_MAXLINE + 1), \"iso-8859-1\")\n",
      "  File \"/Users/anwar/opt/anaconda3/lib/python3.8/socket.py\", line 669, in readinto\n",
      "    return self._sock.recv_into(b)\n",
      "ConnectionResetError: [Errno 54] Connection reset by peer\n",
      "\n",
      "During handling of the above exception, another exception occurred:\n",
      "\n",
      "Traceback (most recent call last):\n",
      "  File \"/Users/anwar/opt/anaconda3/lib/python3.8/site-packages/requests/adapters.py\", line 439, in send\n",
      "    resp = conn.urlopen(\n",
      "  File \"/Users/anwar/opt/anaconda3/lib/python3.8/site-packages/urllib3/connectionpool.py\", line 755, in urlopen\n",
      "    retries = retries.increment(\n",
      "  File \"/Users/anwar/opt/anaconda3/lib/python3.8/site-packages/urllib3/util/retry.py\", line 532, in increment\n",
      "    raise six.reraise(type(error), error, _stacktrace)\n",
      "  File \"/Users/anwar/opt/anaconda3/lib/python3.8/site-packages/urllib3/packages/six.py\", line 734, in reraise\n",
      "    raise value.with_traceback(tb)\n",
      "  File \"/Users/anwar/opt/anaconda3/lib/python3.8/site-packages/urllib3/connectionpool.py\", line 699, in urlopen\n",
      "    httplib_response = self._make_request(\n",
      "  File \"/Users/anwar/opt/anaconda3/lib/python3.8/site-packages/urllib3/connectionpool.py\", line 445, in _make_request\n",
      "    six.raise_from(e, None)\n",
      "  File \"<string>\", line 3, in raise_from\n",
      "  File \"/Users/anwar/opt/anaconda3/lib/python3.8/site-packages/urllib3/connectionpool.py\", line 440, in _make_request\n",
      "    httplib_response = conn.getresponse()\n",
      "  File \"/Users/anwar/opt/anaconda3/lib/python3.8/http/client.py\", line 1347, in getresponse\n",
      "    response.begin()\n",
      "  File \"/Users/anwar/opt/anaconda3/lib/python3.8/http/client.py\", line 307, in begin\n",
      "    version, status, reason = self._read_status()\n",
      "  File \"/Users/anwar/opt/anaconda3/lib/python3.8/http/client.py\", line 268, in _read_status\n",
      "    line = str(self.fp.readline(_MAXLINE + 1), \"iso-8859-1\")\n",
      "  File \"/Users/anwar/opt/anaconda3/lib/python3.8/socket.py\", line 669, in readinto\n",
      "    return self._sock.recv_into(b)\n",
      "urllib3.exceptions.ProtocolError: ('Connection aborted.', ConnectionResetError(54, 'Connection reset by peer'))\n",
      "\n",
      "During handling of the above exception, another exception occurred:\n",
      "\n",
      "Traceback (most recent call last):\n",
      "  File \"/Users/anwar/opt/anaconda3/lib/python3.8/site-packages/flask/app.py\", line 2447, in wsgi_app\n",
      "    response = self.full_dispatch_request()\n",
      "  File \"/Users/anwar/opt/anaconda3/lib/python3.8/site-packages/flask/app.py\", line 1952, in full_dispatch_request\n",
      "    rv = self.handle_user_exception(e)\n",
      "  File \"/Users/anwar/opt/anaconda3/lib/python3.8/site-packages/flask_cors/extension.py\", line 165, in wrapped_function\n",
      "    return cors_after_request(app.make_response(f(*args, **kwargs)))\n",
      "  File \"/Users/anwar/opt/anaconda3/lib/python3.8/site-packages/flask_restful/__init__.py\", line 271, in error_router\n",
      "    return original_handler(e)\n",
      "  File \"/Users/anwar/opt/anaconda3/lib/python3.8/site-packages/flask/app.py\", line 1821, in handle_user_exception\n",
      "    reraise(exc_type, exc_value, tb)\n",
      "  File \"/Users/anwar/opt/anaconda3/lib/python3.8/site-packages/flask/_compat.py\", line 39, in reraise\n",
      "    raise value\n",
      "  File \"/Users/anwar/opt/anaconda3/lib/python3.8/site-packages/flask/app.py\", line 1950, in full_dispatch_request\n",
      "    rv = self.dispatch_request()\n",
      "  File \"/Users/anwar/opt/anaconda3/lib/python3.8/site-packages/flask/app.py\", line 1936, in dispatch_request\n",
      "    return self.view_functions[rule.endpoint](**req.view_args)\n",
      "  File \"<ipython-input-1-bb216e7d2d1c>\", line 291, in get_mem_per_container\n",
      "    r = requests.get(url+'api/v1/query?query=avg_over_time(container_memory_usage_bytes%7Bcontainer_label_com_docker_swarm_node_id%3D~\"'+str(node.cluster_id[0])+'\"%2C%20id%3D~\"%2Fdocker%2F.*\"%7D%5B5m%5D)%2F1024%2F1024&g0.tab=1')\n",
      "  File \"/Users/anwar/opt/anaconda3/lib/python3.8/site-packages/requests/api.py\", line 76, in get\n",
      "    return request('get', url, params=params, **kwargs)\n",
      "  File \"/Users/anwar/opt/anaconda3/lib/python3.8/site-packages/requests/api.py\", line 61, in request\n",
      "    return session.request(method=method, url=url, **kwargs)\n",
      "  File \"/Users/anwar/opt/anaconda3/lib/python3.8/site-packages/requests/sessions.py\", line 542, in request\n",
      "    resp = self.send(prep, **send_kwargs)\n",
      "  File \"/Users/anwar/opt/anaconda3/lib/python3.8/site-packages/requests/sessions.py\", line 655, in send\n",
      "    r = adapter.send(request, **kwargs)\n",
      "  File \"/Users/anwar/opt/anaconda3/lib/python3.8/site-packages/requests/adapters.py\", line 498, in send\n",
      "    raise ConnectionError(err, request=request)\n",
      "requests.exceptions.ConnectionError: ('Connection aborted.', ConnectionResetError(54, 'Connection reset by peer'))\n",
      "127.0.0.1 - - [24/Feb/2022 10:44:05] \"\u001b[35m\u001b[1mGET /getmem/ HTTP/1.1\u001b[0m\" 500 -\n",
      "[2022-02-24 10:44:05,760] ERROR in app: Exception on /getmem/ [GET]\n",
      "Traceback (most recent call last):\n",
      "  File \"/Users/anwar/opt/anaconda3/lib/python3.8/site-packages/urllib3/connectionpool.py\", line 699, in urlopen\n",
      "    httplib_response = self._make_request(\n",
      "  File \"/Users/anwar/opt/anaconda3/lib/python3.8/site-packages/urllib3/connectionpool.py\", line 445, in _make_request\n",
      "    six.raise_from(e, None)\n",
      "  File \"<string>\", line 3, in raise_from\n",
      "  File \"/Users/anwar/opt/anaconda3/lib/python3.8/site-packages/urllib3/connectionpool.py\", line 440, in _make_request\n",
      "    httplib_response = conn.getresponse()\n",
      "  File \"/Users/anwar/opt/anaconda3/lib/python3.8/http/client.py\", line 1347, in getresponse\n",
      "    response.begin()\n",
      "  File \"/Users/anwar/opt/anaconda3/lib/python3.8/http/client.py\", line 307, in begin\n",
      "    version, status, reason = self._read_status()\n",
      "  File \"/Users/anwar/opt/anaconda3/lib/python3.8/http/client.py\", line 268, in _read_status\n",
      "    line = str(self.fp.readline(_MAXLINE + 1), \"iso-8859-1\")\n",
      "  File \"/Users/anwar/opt/anaconda3/lib/python3.8/socket.py\", line 669, in readinto\n",
      "    return self._sock.recv_into(b)\n",
      "ConnectionResetError: [Errno 54] Connection reset by peer\n",
      "\n",
      "During handling of the above exception, another exception occurred:\n",
      "\n",
      "Traceback (most recent call last):\n",
      "  File \"/Users/anwar/opt/anaconda3/lib/python3.8/site-packages/requests/adapters.py\", line 439, in send\n",
      "    resp = conn.urlopen(\n",
      "  File \"/Users/anwar/opt/anaconda3/lib/python3.8/site-packages/urllib3/connectionpool.py\", line 755, in urlopen\n",
      "    retries = retries.increment(\n",
      "  File \"/Users/anwar/opt/anaconda3/lib/python3.8/site-packages/urllib3/util/retry.py\", line 532, in increment\n",
      "    raise six.reraise(type(error), error, _stacktrace)\n",
      "  File \"/Users/anwar/opt/anaconda3/lib/python3.8/site-packages/urllib3/packages/six.py\", line 734, in reraise\n",
      "    raise value.with_traceback(tb)\n",
      "  File \"/Users/anwar/opt/anaconda3/lib/python3.8/site-packages/urllib3/connectionpool.py\", line 699, in urlopen\n",
      "    httplib_response = self._make_request(\n",
      "  File \"/Users/anwar/opt/anaconda3/lib/python3.8/site-packages/urllib3/connectionpool.py\", line 445, in _make_request\n",
      "    six.raise_from(e, None)\n",
      "  File \"<string>\", line 3, in raise_from\n",
      "  File \"/Users/anwar/opt/anaconda3/lib/python3.8/site-packages/urllib3/connectionpool.py\", line 440, in _make_request\n",
      "    httplib_response = conn.getresponse()\n",
      "  File \"/Users/anwar/opt/anaconda3/lib/python3.8/http/client.py\", line 1347, in getresponse\n",
      "    response.begin()\n",
      "  File \"/Users/anwar/opt/anaconda3/lib/python3.8/http/client.py\", line 307, in begin\n",
      "    version, status, reason = self._read_status()\n",
      "  File \"/Users/anwar/opt/anaconda3/lib/python3.8/http/client.py\", line 268, in _read_status\n",
      "    line = str(self.fp.readline(_MAXLINE + 1), \"iso-8859-1\")\n",
      "  File \"/Users/anwar/opt/anaconda3/lib/python3.8/socket.py\", line 669, in readinto\n",
      "    return self._sock.recv_into(b)\n",
      "urllib3.exceptions.ProtocolError: ('Connection aborted.', ConnectionResetError(54, 'Connection reset by peer'))\n",
      "\n",
      "During handling of the above exception, another exception occurred:\n",
      "\n",
      "Traceback (most recent call last):\n",
      "  File \"/Users/anwar/opt/anaconda3/lib/python3.8/site-packages/flask/app.py\", line 2447, in wsgi_app\n",
      "    response = self.full_dispatch_request()\n",
      "  File \"/Users/anwar/opt/anaconda3/lib/python3.8/site-packages/flask/app.py\", line 1952, in full_dispatch_request\n",
      "    rv = self.handle_user_exception(e)\n",
      "  File \"/Users/anwar/opt/anaconda3/lib/python3.8/site-packages/flask_cors/extension.py\", line 165, in wrapped_function\n",
      "    return cors_after_request(app.make_response(f(*args, **kwargs)))\n",
      "  File \"/Users/anwar/opt/anaconda3/lib/python3.8/site-packages/flask_restful/__init__.py\", line 271, in error_router\n",
      "    return original_handler(e)\n",
      "  File \"/Users/anwar/opt/anaconda3/lib/python3.8/site-packages/flask/app.py\", line 1821, in handle_user_exception\n",
      "    reraise(exc_type, exc_value, tb)\n",
      "  File \"/Users/anwar/opt/anaconda3/lib/python3.8/site-packages/flask/_compat.py\", line 39, in reraise\n",
      "    raise value\n",
      "  File \"/Users/anwar/opt/anaconda3/lib/python3.8/site-packages/flask/app.py\", line 1950, in full_dispatch_request\n",
      "    rv = self.dispatch_request()\n",
      "  File \"/Users/anwar/opt/anaconda3/lib/python3.8/site-packages/flask/app.py\", line 1936, in dispatch_request\n",
      "    return self.view_functions[rule.endpoint](**req.view_args)\n",
      "  File \"<ipython-input-1-bb216e7d2d1c>\", line 291, in get_mem_per_container\n",
      "    r = requests.get(url+'api/v1/query?query=avg_over_time(container_memory_usage_bytes%7Bcontainer_label_com_docker_swarm_node_id%3D~\"'+str(node.cluster_id[0])+'\"%2C%20id%3D~\"%2Fdocker%2F.*\"%7D%5B5m%5D)%2F1024%2F1024&g0.tab=1')\n",
      "  File \"/Users/anwar/opt/anaconda3/lib/python3.8/site-packages/requests/api.py\", line 76, in get\n",
      "    return request('get', url, params=params, **kwargs)\n",
      "  File \"/Users/anwar/opt/anaconda3/lib/python3.8/site-packages/requests/api.py\", line 61, in request\n",
      "    return session.request(method=method, url=url, **kwargs)\n",
      "  File \"/Users/anwar/opt/anaconda3/lib/python3.8/site-packages/requests/sessions.py\", line 542, in request\n",
      "    resp = self.send(prep, **send_kwargs)\n",
      "  File \"/Users/anwar/opt/anaconda3/lib/python3.8/site-packages/requests/sessions.py\", line 655, in send\n",
      "    r = adapter.send(request, **kwargs)\n",
      "  File \"/Users/anwar/opt/anaconda3/lib/python3.8/site-packages/requests/adapters.py\", line 498, in send\n",
      "    raise ConnectionError(err, request=request)\n",
      "requests.exceptions.ConnectionError: ('Connection aborted.', ConnectionResetError(54, 'Connection reset by peer'))\n"
     ]
    },
    {
     "name": "stderr",
     "output_type": "stream",
     "text": [
      "127.0.0.1 - - [24/Feb/2022 10:44:05] \"\u001b[35m\u001b[1mGET /getmem/ HTTP/1.1\u001b[0m\" 500 -\n",
      "[2022-02-24 10:44:05,760] ERROR in app: Exception on /getmem/ [GET]\n",
      "Traceback (most recent call last):\n",
      "  File \"/Users/anwar/opt/anaconda3/lib/python3.8/site-packages/urllib3/connectionpool.py\", line 699, in urlopen\n",
      "    httplib_response = self._make_request(\n",
      "  File \"/Users/anwar/opt/anaconda3/lib/python3.8/site-packages/urllib3/connectionpool.py\", line 445, in _make_request\n",
      "    six.raise_from(e, None)\n",
      "  File \"<string>\", line 3, in raise_from\n",
      "  File \"/Users/anwar/opt/anaconda3/lib/python3.8/site-packages/urllib3/connectionpool.py\", line 440, in _make_request\n",
      "    httplib_response = conn.getresponse()\n",
      "  File \"/Users/anwar/opt/anaconda3/lib/python3.8/http/client.py\", line 1347, in getresponse\n",
      "    response.begin()\n",
      "  File \"/Users/anwar/opt/anaconda3/lib/python3.8/http/client.py\", line 307, in begin\n",
      "    version, status, reason = self._read_status()\n",
      "  File \"/Users/anwar/opt/anaconda3/lib/python3.8/http/client.py\", line 268, in _read_status\n",
      "    line = str(self.fp.readline(_MAXLINE + 1), \"iso-8859-1\")\n",
      "  File \"/Users/anwar/opt/anaconda3/lib/python3.8/socket.py\", line 669, in readinto\n",
      "    return self._sock.recv_into(b)\n",
      "ConnectionResetError: [Errno 54] Connection reset by peer\n",
      "\n",
      "During handling of the above exception, another exception occurred:\n",
      "\n",
      "Traceback (most recent call last):\n",
      "  File \"/Users/anwar/opt/anaconda3/lib/python3.8/site-packages/requests/adapters.py\", line 439, in send\n",
      "    resp = conn.urlopen(\n",
      "  File \"/Users/anwar/opt/anaconda3/lib/python3.8/site-packages/urllib3/connectionpool.py\", line 755, in urlopen\n",
      "    retries = retries.increment(\n",
      "  File \"/Users/anwar/opt/anaconda3/lib/python3.8/site-packages/urllib3/util/retry.py\", line 532, in increment\n",
      "    raise six.reraise(type(error), error, _stacktrace)\n",
      "  File \"/Users/anwar/opt/anaconda3/lib/python3.8/site-packages/urllib3/packages/six.py\", line 734, in reraise\n",
      "    raise value.with_traceback(tb)\n",
      "  File \"/Users/anwar/opt/anaconda3/lib/python3.8/site-packages/urllib3/connectionpool.py\", line 699, in urlopen\n",
      "    httplib_response = self._make_request(\n",
      "  File \"/Users/anwar/opt/anaconda3/lib/python3.8/site-packages/urllib3/connectionpool.py\", line 445, in _make_request\n",
      "    six.raise_from(e, None)\n",
      "  File \"<string>\", line 3, in raise_from\n",
      "  File \"/Users/anwar/opt/anaconda3/lib/python3.8/site-packages/urllib3/connectionpool.py\", line 440, in _make_request\n",
      "    httplib_response = conn.getresponse()\n",
      "  File \"/Users/anwar/opt/anaconda3/lib/python3.8/http/client.py\", line 1347, in getresponse\n",
      "    response.begin()\n",
      "  File \"/Users/anwar/opt/anaconda3/lib/python3.8/http/client.py\", line 307, in begin\n",
      "    version, status, reason = self._read_status()\n",
      "  File \"/Users/anwar/opt/anaconda3/lib/python3.8/http/client.py\", line 268, in _read_status\n",
      "    line = str(self.fp.readline(_MAXLINE + 1), \"iso-8859-1\")\n",
      "  File \"/Users/anwar/opt/anaconda3/lib/python3.8/socket.py\", line 669, in readinto\n",
      "    return self._sock.recv_into(b)\n",
      "urllib3.exceptions.ProtocolError: ('Connection aborted.', ConnectionResetError(54, 'Connection reset by peer'))\n",
      "\n",
      "During handling of the above exception, another exception occurred:\n",
      "\n",
      "Traceback (most recent call last):\n",
      "  File \"/Users/anwar/opt/anaconda3/lib/python3.8/site-packages/flask/app.py\", line 2447, in wsgi_app\n",
      "    response = self.full_dispatch_request()\n",
      "  File \"/Users/anwar/opt/anaconda3/lib/python3.8/site-packages/flask/app.py\", line 1952, in full_dispatch_request\n",
      "    rv = self.handle_user_exception(e)\n",
      "  File \"/Users/anwar/opt/anaconda3/lib/python3.8/site-packages/flask_cors/extension.py\", line 165, in wrapped_function\n",
      "    return cors_after_request(app.make_response(f(*args, **kwargs)))\n",
      "  File \"/Users/anwar/opt/anaconda3/lib/python3.8/site-packages/flask_restful/__init__.py\", line 271, in error_router\n",
      "    return original_handler(e)\n",
      "  File \"/Users/anwar/opt/anaconda3/lib/python3.8/site-packages/flask/app.py\", line 1821, in handle_user_exception\n",
      "    reraise(exc_type, exc_value, tb)\n",
      "  File \"/Users/anwar/opt/anaconda3/lib/python3.8/site-packages/flask/_compat.py\", line 39, in reraise\n",
      "    raise value\n",
      "  File \"/Users/anwar/opt/anaconda3/lib/python3.8/site-packages/flask/app.py\", line 1950, in full_dispatch_request\n",
      "    rv = self.dispatch_request()\n",
      "  File \"/Users/anwar/opt/anaconda3/lib/python3.8/site-packages/flask/app.py\", line 1936, in dispatch_request\n",
      "    return self.view_functions[rule.endpoint](**req.view_args)\n",
      "  File \"<ipython-input-1-bb216e7d2d1c>\", line 291, in get_mem_per_container\n",
      "    r = requests.get(url+'api/v1/query?query=avg_over_time(container_memory_usage_bytes%7Bcontainer_label_com_docker_swarm_node_id%3D~\"'+str(node.cluster_id[0])+'\"%2C%20id%3D~\"%2Fdocker%2F.*\"%7D%5B5m%5D)%2F1024%2F1024&g0.tab=1')\n",
      "  File \"/Users/anwar/opt/anaconda3/lib/python3.8/site-packages/requests/api.py\", line 76, in get\n",
      "    return request('get', url, params=params, **kwargs)\n",
      "  File \"/Users/anwar/opt/anaconda3/lib/python3.8/site-packages/requests/api.py\", line 61, in request\n",
      "    return session.request(method=method, url=url, **kwargs)\n",
      "  File \"/Users/anwar/opt/anaconda3/lib/python3.8/site-packages/requests/sessions.py\", line 542, in request\n",
      "    resp = self.send(prep, **send_kwargs)\n",
      "  File \"/Users/anwar/opt/anaconda3/lib/python3.8/site-packages/requests/sessions.py\", line 655, in send\n",
      "    r = adapter.send(request, **kwargs)\n",
      "  File \"/Users/anwar/opt/anaconda3/lib/python3.8/site-packages/requests/adapters.py\", line 498, in send\n",
      "    raise ConnectionError(err, request=request)\n",
      "requests.exceptions.ConnectionError: ('Connection aborted.', ConnectionResetError(54, 'Connection reset by peer'))\n",
      "127.0.0.1 - - [24/Feb/2022 10:44:05] \"\u001b[35m\u001b[1mGET /getmem/ HTTP/1.1\u001b[0m\" 500 -\n",
      "[2022-02-24 10:44:05,760] ERROR in app: Exception on /getmem/ [GET]\n",
      "Traceback (most recent call last):\n",
      "  File \"/Users/anwar/opt/anaconda3/lib/python3.8/site-packages/urllib3/connectionpool.py\", line 699, in urlopen\n",
      "    httplib_response = self._make_request(\n",
      "  File \"/Users/anwar/opt/anaconda3/lib/python3.8/site-packages/urllib3/connectionpool.py\", line 445, in _make_request\n",
      "    six.raise_from(e, None)\n",
      "  File \"<string>\", line 3, in raise_from\n",
      "  File \"/Users/anwar/opt/anaconda3/lib/python3.8/site-packages/urllib3/connectionpool.py\", line 440, in _make_request\n",
      "    httplib_response = conn.getresponse()\n",
      "  File \"/Users/anwar/opt/anaconda3/lib/python3.8/http/client.py\", line 1347, in getresponse\n",
      "    response.begin()\n",
      "  File \"/Users/anwar/opt/anaconda3/lib/python3.8/http/client.py\", line 307, in begin\n",
      "    version, status, reason = self._read_status()\n",
      "  File \"/Users/anwar/opt/anaconda3/lib/python3.8/http/client.py\", line 268, in _read_status\n",
      "    line = str(self.fp.readline(_MAXLINE + 1), \"iso-8859-1\")\n",
      "  File \"/Users/anwar/opt/anaconda3/lib/python3.8/socket.py\", line 669, in readinto\n",
      "    return self._sock.recv_into(b)\n",
      "ConnectionResetError: [Errno 54] Connection reset by peer\n",
      "\n",
      "During handling of the above exception, another exception occurred:\n",
      "\n",
      "Traceback (most recent call last):\n",
      "  File \"/Users/anwar/opt/anaconda3/lib/python3.8/site-packages/requests/adapters.py\", line 439, in send\n",
      "    resp = conn.urlopen(\n",
      "  File \"/Users/anwar/opt/anaconda3/lib/python3.8/site-packages/urllib3/connectionpool.py\", line 755, in urlopen\n",
      "    retries = retries.increment(\n",
      "  File \"/Users/anwar/opt/anaconda3/lib/python3.8/site-packages/urllib3/util/retry.py\", line 532, in increment\n",
      "    raise six.reraise(type(error), error, _stacktrace)\n",
      "  File \"/Users/anwar/opt/anaconda3/lib/python3.8/site-packages/urllib3/packages/six.py\", line 734, in reraise\n",
      "    raise value.with_traceback(tb)\n",
      "  File \"/Users/anwar/opt/anaconda3/lib/python3.8/site-packages/urllib3/connectionpool.py\", line 699, in urlopen\n",
      "    httplib_response = self._make_request(\n",
      "  File \"/Users/anwar/opt/anaconda3/lib/python3.8/site-packages/urllib3/connectionpool.py\", line 445, in _make_request\n",
      "    six.raise_from(e, None)\n",
      "  File \"<string>\", line 3, in raise_from\n",
      "  File \"/Users/anwar/opt/anaconda3/lib/python3.8/site-packages/urllib3/connectionpool.py\", line 440, in _make_request\n",
      "    httplib_response = conn.getresponse()\n",
      "  File \"/Users/anwar/opt/anaconda3/lib/python3.8/http/client.py\", line 1347, in getresponse\n",
      "    response.begin()\n",
      "  File \"/Users/anwar/opt/anaconda3/lib/python3.8/http/client.py\", line 307, in begin\n",
      "    version, status, reason = self._read_status()\n",
      "  File \"/Users/anwar/opt/anaconda3/lib/python3.8/http/client.py\", line 268, in _read_status\n",
      "    line = str(self.fp.readline(_MAXLINE + 1), \"iso-8859-1\")\n",
      "  File \"/Users/anwar/opt/anaconda3/lib/python3.8/socket.py\", line 669, in readinto\n",
      "    return self._sock.recv_into(b)\n",
      "urllib3.exceptions.ProtocolError: ('Connection aborted.', ConnectionResetError(54, 'Connection reset by peer'))\n",
      "\n",
      "During handling of the above exception, another exception occurred:\n",
      "\n",
      "Traceback (most recent call last):\n",
      "  File \"/Users/anwar/opt/anaconda3/lib/python3.8/site-packages/flask/app.py\", line 2447, in wsgi_app\n",
      "    response = self.full_dispatch_request()\n",
      "  File \"/Users/anwar/opt/anaconda3/lib/python3.8/site-packages/flask/app.py\", line 1952, in full_dispatch_request\n",
      "    rv = self.handle_user_exception(e)\n",
      "  File \"/Users/anwar/opt/anaconda3/lib/python3.8/site-packages/flask_cors/extension.py\", line 165, in wrapped_function\n",
      "    return cors_after_request(app.make_response(f(*args, **kwargs)))\n",
      "  File \"/Users/anwar/opt/anaconda3/lib/python3.8/site-packages/flask_restful/__init__.py\", line 271, in error_router\n",
      "    return original_handler(e)\n",
      "  File \"/Users/anwar/opt/anaconda3/lib/python3.8/site-packages/flask/app.py\", line 1821, in handle_user_exception\n",
      "    reraise(exc_type, exc_value, tb)\n",
      "  File \"/Users/anwar/opt/anaconda3/lib/python3.8/site-packages/flask/_compat.py\", line 39, in reraise\n",
      "    raise value\n",
      "  File \"/Users/anwar/opt/anaconda3/lib/python3.8/site-packages/flask/app.py\", line 1950, in full_dispatch_request\n",
      "    rv = self.dispatch_request()\n",
      "  File \"/Users/anwar/opt/anaconda3/lib/python3.8/site-packages/flask/app.py\", line 1936, in dispatch_request\n",
      "    return self.view_functions[rule.endpoint](**req.view_args)\n",
      "  File \"<ipython-input-1-bb216e7d2d1c>\", line 291, in get_mem_per_container\n",
      "    r = requests.get(url+'api/v1/query?query=avg_over_time(container_memory_usage_bytes%7Bcontainer_label_com_docker_swarm_node_id%3D~\"'+str(node.cluster_id[0])+'\"%2C%20id%3D~\"%2Fdocker%2F.*\"%7D%5B5m%5D)%2F1024%2F1024&g0.tab=1')\n",
      "  File \"/Users/anwar/opt/anaconda3/lib/python3.8/site-packages/requests/api.py\", line 76, in get\n",
      "    return request('get', url, params=params, **kwargs)\n",
      "  File \"/Users/anwar/opt/anaconda3/lib/python3.8/site-packages/requests/api.py\", line 61, in request\n",
      "    return session.request(method=method, url=url, **kwargs)\n",
      "  File \"/Users/anwar/opt/anaconda3/lib/python3.8/site-packages/requests/sessions.py\", line 542, in request\n",
      "    resp = self.send(prep, **send_kwargs)\n",
      "  File \"/Users/anwar/opt/anaconda3/lib/python3.8/site-packages/requests/sessions.py\", line 655, in send\n",
      "    r = adapter.send(request, **kwargs)\n",
      "  File \"/Users/anwar/opt/anaconda3/lib/python3.8/site-packages/requests/adapters.py\", line 498, in send\n",
      "    raise ConnectionError(err, request=request)\n",
      "requests.exceptions.ConnectionError: ('Connection aborted.', ConnectionResetError(54, 'Connection reset by peer'))\n"
     ]
    },
    {
     "name": "stderr",
     "output_type": "stream",
     "text": [
      "127.0.0.1 - - [24/Feb/2022 10:44:05] \"\u001b[35m\u001b[1mGET /getmem/ HTTP/1.1\u001b[0m\" 500 -\n",
      "[2022-02-24 10:44:05,760] ERROR in app: Exception on /getmem/ [GET]\n",
      "Traceback (most recent call last):\n",
      "  File \"/Users/anwar/opt/anaconda3/lib/python3.8/site-packages/urllib3/connectionpool.py\", line 699, in urlopen\n",
      "    httplib_response = self._make_request(\n",
      "  File \"/Users/anwar/opt/anaconda3/lib/python3.8/site-packages/urllib3/connectionpool.py\", line 445, in _make_request\n",
      "    six.raise_from(e, None)\n",
      "  File \"<string>\", line 3, in raise_from\n",
      "  File \"/Users/anwar/opt/anaconda3/lib/python3.8/site-packages/urllib3/connectionpool.py\", line 440, in _make_request\n",
      "    httplib_response = conn.getresponse()\n",
      "  File \"/Users/anwar/opt/anaconda3/lib/python3.8/http/client.py\", line 1347, in getresponse\n",
      "    response.begin()\n",
      "  File \"/Users/anwar/opt/anaconda3/lib/python3.8/http/client.py\", line 307, in begin\n",
      "    version, status, reason = self._read_status()\n",
      "  File \"/Users/anwar/opt/anaconda3/lib/python3.8/http/client.py\", line 268, in _read_status\n",
      "    line = str(self.fp.readline(_MAXLINE + 1), \"iso-8859-1\")\n",
      "  File \"/Users/anwar/opt/anaconda3/lib/python3.8/socket.py\", line 669, in readinto\n",
      "    return self._sock.recv_into(b)\n",
      "ConnectionResetError: [Errno 54] Connection reset by peer\n",
      "\n",
      "During handling of the above exception, another exception occurred:\n",
      "\n",
      "Traceback (most recent call last):\n",
      "  File \"/Users/anwar/opt/anaconda3/lib/python3.8/site-packages/requests/adapters.py\", line 439, in send\n",
      "    resp = conn.urlopen(\n",
      "  File \"/Users/anwar/opt/anaconda3/lib/python3.8/site-packages/urllib3/connectionpool.py\", line 755, in urlopen\n",
      "    retries = retries.increment(\n",
      "  File \"/Users/anwar/opt/anaconda3/lib/python3.8/site-packages/urllib3/util/retry.py\", line 532, in increment\n",
      "    raise six.reraise(type(error), error, _stacktrace)\n",
      "  File \"/Users/anwar/opt/anaconda3/lib/python3.8/site-packages/urllib3/packages/six.py\", line 734, in reraise\n",
      "    raise value.with_traceback(tb)\n",
      "  File \"/Users/anwar/opt/anaconda3/lib/python3.8/site-packages/urllib3/connectionpool.py\", line 699, in urlopen\n",
      "    httplib_response = self._make_request(\n",
      "  File \"/Users/anwar/opt/anaconda3/lib/python3.8/site-packages/urllib3/connectionpool.py\", line 445, in _make_request\n",
      "    six.raise_from(e, None)\n",
      "  File \"<string>\", line 3, in raise_from\n",
      "  File \"/Users/anwar/opt/anaconda3/lib/python3.8/site-packages/urllib3/connectionpool.py\", line 440, in _make_request\n",
      "    httplib_response = conn.getresponse()\n",
      "  File \"/Users/anwar/opt/anaconda3/lib/python3.8/http/client.py\", line 1347, in getresponse\n",
      "    response.begin()\n",
      "  File \"/Users/anwar/opt/anaconda3/lib/python3.8/http/client.py\", line 307, in begin\n",
      "    version, status, reason = self._read_status()\n",
      "  File \"/Users/anwar/opt/anaconda3/lib/python3.8/http/client.py\", line 268, in _read_status\n",
      "    line = str(self.fp.readline(_MAXLINE + 1), \"iso-8859-1\")\n",
      "  File \"/Users/anwar/opt/anaconda3/lib/python3.8/socket.py\", line 669, in readinto\n",
      "    return self._sock.recv_into(b)\n",
      "urllib3.exceptions.ProtocolError: ('Connection aborted.', ConnectionResetError(54, 'Connection reset by peer'))\n",
      "\n",
      "During handling of the above exception, another exception occurred:\n",
      "\n",
      "Traceback (most recent call last):\n",
      "  File \"/Users/anwar/opt/anaconda3/lib/python3.8/site-packages/flask/app.py\", line 2447, in wsgi_app\n",
      "    response = self.full_dispatch_request()\n",
      "  File \"/Users/anwar/opt/anaconda3/lib/python3.8/site-packages/flask/app.py\", line 1952, in full_dispatch_request\n",
      "    rv = self.handle_user_exception(e)\n",
      "  File \"/Users/anwar/opt/anaconda3/lib/python3.8/site-packages/flask_cors/extension.py\", line 165, in wrapped_function\n",
      "    return cors_after_request(app.make_response(f(*args, **kwargs)))\n",
      "  File \"/Users/anwar/opt/anaconda3/lib/python3.8/site-packages/flask_restful/__init__.py\", line 271, in error_router\n",
      "    return original_handler(e)\n",
      "  File \"/Users/anwar/opt/anaconda3/lib/python3.8/site-packages/flask/app.py\", line 1821, in handle_user_exception\n",
      "    reraise(exc_type, exc_value, tb)\n",
      "  File \"/Users/anwar/opt/anaconda3/lib/python3.8/site-packages/flask/_compat.py\", line 39, in reraise\n",
      "    raise value\n",
      "  File \"/Users/anwar/opt/anaconda3/lib/python3.8/site-packages/flask/app.py\", line 1950, in full_dispatch_request\n",
      "    rv = self.dispatch_request()\n",
      "  File \"/Users/anwar/opt/anaconda3/lib/python3.8/site-packages/flask/app.py\", line 1936, in dispatch_request\n",
      "    return self.view_functions[rule.endpoint](**req.view_args)\n",
      "  File \"<ipython-input-1-bb216e7d2d1c>\", line 291, in get_mem_per_container\n",
      "    r = requests.get(url+'api/v1/query?query=avg_over_time(container_memory_usage_bytes%7Bcontainer_label_com_docker_swarm_node_id%3D~\"'+str(node.cluster_id[0])+'\"%2C%20id%3D~\"%2Fdocker%2F.*\"%7D%5B5m%5D)%2F1024%2F1024&g0.tab=1')\n",
      "  File \"/Users/anwar/opt/anaconda3/lib/python3.8/site-packages/requests/api.py\", line 76, in get\n",
      "    return request('get', url, params=params, **kwargs)\n",
      "  File \"/Users/anwar/opt/anaconda3/lib/python3.8/site-packages/requests/api.py\", line 61, in request\n",
      "    return session.request(method=method, url=url, **kwargs)\n",
      "  File \"/Users/anwar/opt/anaconda3/lib/python3.8/site-packages/requests/sessions.py\", line 542, in request\n",
      "    resp = self.send(prep, **send_kwargs)\n",
      "  File \"/Users/anwar/opt/anaconda3/lib/python3.8/site-packages/requests/sessions.py\", line 655, in send\n",
      "    r = adapter.send(request, **kwargs)\n",
      "  File \"/Users/anwar/opt/anaconda3/lib/python3.8/site-packages/requests/adapters.py\", line 498, in send\n",
      "    raise ConnectionError(err, request=request)\n",
      "requests.exceptions.ConnectionError: ('Connection aborted.', ConnectionResetError(54, 'Connection reset by peer'))\n",
      "127.0.0.1 - - [24/Feb/2022 10:44:05] \"\u001b[35m\u001b[1mGET /getmem/ HTTP/1.1\u001b[0m\" 500 -\n",
      "[2022-02-24 10:44:05,762] ERROR in app: Exception on /getmem/ [GET]\n",
      "Traceback (most recent call last):\n",
      "  File \"/Users/anwar/opt/anaconda3/lib/python3.8/site-packages/urllib3/connectionpool.py\", line 699, in urlopen\n",
      "    httplib_response = self._make_request(\n",
      "  File \"/Users/anwar/opt/anaconda3/lib/python3.8/site-packages/urllib3/connectionpool.py\", line 445, in _make_request\n",
      "    six.raise_from(e, None)\n",
      "  File \"<string>\", line 3, in raise_from\n",
      "  File \"/Users/anwar/opt/anaconda3/lib/python3.8/site-packages/urllib3/connectionpool.py\", line 440, in _make_request\n",
      "    httplib_response = conn.getresponse()\n",
      "  File \"/Users/anwar/opt/anaconda3/lib/python3.8/http/client.py\", line 1347, in getresponse\n",
      "    response.begin()\n",
      "  File \"/Users/anwar/opt/anaconda3/lib/python3.8/http/client.py\", line 307, in begin\n",
      "    version, status, reason = self._read_status()\n",
      "  File \"/Users/anwar/opt/anaconda3/lib/python3.8/http/client.py\", line 268, in _read_status\n",
      "    line = str(self.fp.readline(_MAXLINE + 1), \"iso-8859-1\")\n",
      "  File \"/Users/anwar/opt/anaconda3/lib/python3.8/socket.py\", line 669, in readinto\n",
      "    return self._sock.recv_into(b)\n",
      "ConnectionResetError: [Errno 54] Connection reset by peer\n",
      "\n",
      "During handling of the above exception, another exception occurred:\n",
      "\n",
      "Traceback (most recent call last):\n",
      "  File \"/Users/anwar/opt/anaconda3/lib/python3.8/site-packages/requests/adapters.py\", line 439, in send\n",
      "    resp = conn.urlopen(\n",
      "  File \"/Users/anwar/opt/anaconda3/lib/python3.8/site-packages/urllib3/connectionpool.py\", line 755, in urlopen\n",
      "    retries = retries.increment(\n",
      "  File \"/Users/anwar/opt/anaconda3/lib/python3.8/site-packages/urllib3/util/retry.py\", line 532, in increment\n",
      "    raise six.reraise(type(error), error, _stacktrace)\n",
      "  File \"/Users/anwar/opt/anaconda3/lib/python3.8/site-packages/urllib3/packages/six.py\", line 734, in reraise\n",
      "    raise value.with_traceback(tb)\n",
      "  File \"/Users/anwar/opt/anaconda3/lib/python3.8/site-packages/urllib3/connectionpool.py\", line 699, in urlopen\n",
      "    httplib_response = self._make_request(\n",
      "  File \"/Users/anwar/opt/anaconda3/lib/python3.8/site-packages/urllib3/connectionpool.py\", line 445, in _make_request\n",
      "    six.raise_from(e, None)\n",
      "  File \"<string>\", line 3, in raise_from\n",
      "  File \"/Users/anwar/opt/anaconda3/lib/python3.8/site-packages/urllib3/connectionpool.py\", line 440, in _make_request\n",
      "    httplib_response = conn.getresponse()\n",
      "  File \"/Users/anwar/opt/anaconda3/lib/python3.8/http/client.py\", line 1347, in getresponse\n",
      "    response.begin()\n",
      "  File \"/Users/anwar/opt/anaconda3/lib/python3.8/http/client.py\", line 307, in begin\n",
      "    version, status, reason = self._read_status()\n",
      "  File \"/Users/anwar/opt/anaconda3/lib/python3.8/http/client.py\", line 268, in _read_status\n",
      "    line = str(self.fp.readline(_MAXLINE + 1), \"iso-8859-1\")\n",
      "  File \"/Users/anwar/opt/anaconda3/lib/python3.8/socket.py\", line 669, in readinto\n",
      "    return self._sock.recv_into(b)\n",
      "urllib3.exceptions.ProtocolError: ('Connection aborted.', ConnectionResetError(54, 'Connection reset by peer'))\n",
      "\n",
      "During handling of the above exception, another exception occurred:\n",
      "\n",
      "Traceback (most recent call last):\n",
      "  File \"/Users/anwar/opt/anaconda3/lib/python3.8/site-packages/flask/app.py\", line 2447, in wsgi_app\n",
      "    response = self.full_dispatch_request()\n",
      "  File \"/Users/anwar/opt/anaconda3/lib/python3.8/site-packages/flask/app.py\", line 1952, in full_dispatch_request\n",
      "    rv = self.handle_user_exception(e)\n",
      "  File \"/Users/anwar/opt/anaconda3/lib/python3.8/site-packages/flask_cors/extension.py\", line 165, in wrapped_function\n",
      "    return cors_after_request(app.make_response(f(*args, **kwargs)))\n",
      "  File \"/Users/anwar/opt/anaconda3/lib/python3.8/site-packages/flask_restful/__init__.py\", line 271, in error_router\n",
      "    return original_handler(e)\n",
      "  File \"/Users/anwar/opt/anaconda3/lib/python3.8/site-packages/flask/app.py\", line 1821, in handle_user_exception\n",
      "    reraise(exc_type, exc_value, tb)\n",
      "  File \"/Users/anwar/opt/anaconda3/lib/python3.8/site-packages/flask/_compat.py\", line 39, in reraise\n",
      "    raise value\n",
      "  File \"/Users/anwar/opt/anaconda3/lib/python3.8/site-packages/flask/app.py\", line 1950, in full_dispatch_request\n",
      "    rv = self.dispatch_request()\n",
      "  File \"/Users/anwar/opt/anaconda3/lib/python3.8/site-packages/flask/app.py\", line 1936, in dispatch_request\n",
      "    return self.view_functions[rule.endpoint](**req.view_args)\n",
      "  File \"<ipython-input-1-bb216e7d2d1c>\", line 291, in get_mem_per_container\n",
      "    r = requests.get(url+'api/v1/query?query=avg_over_time(container_memory_usage_bytes%7Bcontainer_label_com_docker_swarm_node_id%3D~\"'+str(node.cluster_id[0])+'\"%2C%20id%3D~\"%2Fdocker%2F.*\"%7D%5B5m%5D)%2F1024%2F1024&g0.tab=1')\n",
      "  File \"/Users/anwar/opt/anaconda3/lib/python3.8/site-packages/requests/api.py\", line 76, in get\n",
      "    return request('get', url, params=params, **kwargs)\n",
      "  File \"/Users/anwar/opt/anaconda3/lib/python3.8/site-packages/requests/api.py\", line 61, in request\n",
      "    return session.request(method=method, url=url, **kwargs)\n",
      "  File \"/Users/anwar/opt/anaconda3/lib/python3.8/site-packages/requests/sessions.py\", line 542, in request\n",
      "    resp = self.send(prep, **send_kwargs)\n",
      "  File \"/Users/anwar/opt/anaconda3/lib/python3.8/site-packages/requests/sessions.py\", line 655, in send\n",
      "    r = adapter.send(request, **kwargs)\n",
      "  File \"/Users/anwar/opt/anaconda3/lib/python3.8/site-packages/requests/adapters.py\", line 498, in send\n",
      "    raise ConnectionError(err, request=request)\n",
      "requests.exceptions.ConnectionError: ('Connection aborted.', ConnectionResetError(54, 'Connection reset by peer'))\n"
     ]
    },
    {
     "name": "stderr",
     "output_type": "stream",
     "text": [
      "127.0.0.1 - - [24/Feb/2022 10:44:05] \"\u001b[35m\u001b[1mGET /getmem/ HTTP/1.1\u001b[0m\" 500 -\n",
      "[2022-02-24 10:44:05,762] ERROR in app: Exception on /getmem/ [GET]\n",
      "Traceback (most recent call last):\n",
      "  File \"/Users/anwar/opt/anaconda3/lib/python3.8/site-packages/urllib3/connectionpool.py\", line 699, in urlopen\n",
      "    httplib_response = self._make_request(\n",
      "  File \"/Users/anwar/opt/anaconda3/lib/python3.8/site-packages/urllib3/connectionpool.py\", line 445, in _make_request\n",
      "    six.raise_from(e, None)\n",
      "  File \"<string>\", line 3, in raise_from\n",
      "  File \"/Users/anwar/opt/anaconda3/lib/python3.8/site-packages/urllib3/connectionpool.py\", line 440, in _make_request\n",
      "    httplib_response = conn.getresponse()\n",
      "  File \"/Users/anwar/opt/anaconda3/lib/python3.8/http/client.py\", line 1347, in getresponse\n",
      "    response.begin()\n",
      "  File \"/Users/anwar/opt/anaconda3/lib/python3.8/http/client.py\", line 307, in begin\n",
      "    version, status, reason = self._read_status()\n",
      "  File \"/Users/anwar/opt/anaconda3/lib/python3.8/http/client.py\", line 268, in _read_status\n",
      "    line = str(self.fp.readline(_MAXLINE + 1), \"iso-8859-1\")\n",
      "  File \"/Users/anwar/opt/anaconda3/lib/python3.8/socket.py\", line 669, in readinto\n",
      "    return self._sock.recv_into(b)\n",
      "ConnectionResetError: [Errno 54] Connection reset by peer\n",
      "\n",
      "During handling of the above exception, another exception occurred:\n",
      "\n",
      "Traceback (most recent call last):\n",
      "  File \"/Users/anwar/opt/anaconda3/lib/python3.8/site-packages/requests/adapters.py\", line 439, in send\n",
      "    resp = conn.urlopen(\n",
      "  File \"/Users/anwar/opt/anaconda3/lib/python3.8/site-packages/urllib3/connectionpool.py\", line 755, in urlopen\n",
      "    retries = retries.increment(\n",
      "  File \"/Users/anwar/opt/anaconda3/lib/python3.8/site-packages/urllib3/util/retry.py\", line 532, in increment\n",
      "    raise six.reraise(type(error), error, _stacktrace)\n",
      "  File \"/Users/anwar/opt/anaconda3/lib/python3.8/site-packages/urllib3/packages/six.py\", line 734, in reraise\n",
      "    raise value.with_traceback(tb)\n",
      "  File \"/Users/anwar/opt/anaconda3/lib/python3.8/site-packages/urllib3/connectionpool.py\", line 699, in urlopen\n",
      "    httplib_response = self._make_request(\n",
      "  File \"/Users/anwar/opt/anaconda3/lib/python3.8/site-packages/urllib3/connectionpool.py\", line 445, in _make_request\n",
      "    six.raise_from(e, None)\n",
      "  File \"<string>\", line 3, in raise_from\n",
      "  File \"/Users/anwar/opt/anaconda3/lib/python3.8/site-packages/urllib3/connectionpool.py\", line 440, in _make_request\n",
      "    httplib_response = conn.getresponse()\n",
      "  File \"/Users/anwar/opt/anaconda3/lib/python3.8/http/client.py\", line 1347, in getresponse\n",
      "    response.begin()\n",
      "  File \"/Users/anwar/opt/anaconda3/lib/python3.8/http/client.py\", line 307, in begin\n",
      "    version, status, reason = self._read_status()\n",
      "  File \"/Users/anwar/opt/anaconda3/lib/python3.8/http/client.py\", line 268, in _read_status\n",
      "    line = str(self.fp.readline(_MAXLINE + 1), \"iso-8859-1\")\n",
      "  File \"/Users/anwar/opt/anaconda3/lib/python3.8/socket.py\", line 669, in readinto\n",
      "    return self._sock.recv_into(b)\n",
      "urllib3.exceptions.ProtocolError: ('Connection aborted.', ConnectionResetError(54, 'Connection reset by peer'))\n",
      "\n",
      "During handling of the above exception, another exception occurred:\n",
      "\n",
      "Traceback (most recent call last):\n",
      "  File \"/Users/anwar/opt/anaconda3/lib/python3.8/site-packages/flask/app.py\", line 2447, in wsgi_app\n",
      "    response = self.full_dispatch_request()\n",
      "  File \"/Users/anwar/opt/anaconda3/lib/python3.8/site-packages/flask/app.py\", line 1952, in full_dispatch_request\n",
      "    rv = self.handle_user_exception(e)\n",
      "  File \"/Users/anwar/opt/anaconda3/lib/python3.8/site-packages/flask_cors/extension.py\", line 165, in wrapped_function\n",
      "    return cors_after_request(app.make_response(f(*args, **kwargs)))\n",
      "  File \"/Users/anwar/opt/anaconda3/lib/python3.8/site-packages/flask_restful/__init__.py\", line 271, in error_router\n",
      "    return original_handler(e)\n",
      "  File \"/Users/anwar/opt/anaconda3/lib/python3.8/site-packages/flask/app.py\", line 1821, in handle_user_exception\n",
      "    reraise(exc_type, exc_value, tb)\n",
      "  File \"/Users/anwar/opt/anaconda3/lib/python3.8/site-packages/flask/_compat.py\", line 39, in reraise\n",
      "    raise value\n",
      "  File \"/Users/anwar/opt/anaconda3/lib/python3.8/site-packages/flask/app.py\", line 1950, in full_dispatch_request\n",
      "    rv = self.dispatch_request()\n",
      "  File \"/Users/anwar/opt/anaconda3/lib/python3.8/site-packages/flask/app.py\", line 1936, in dispatch_request\n",
      "    return self.view_functions[rule.endpoint](**req.view_args)\n",
      "  File \"<ipython-input-1-bb216e7d2d1c>\", line 291, in get_mem_per_container\n",
      "    r = requests.get(url+'api/v1/query?query=avg_over_time(container_memory_usage_bytes%7Bcontainer_label_com_docker_swarm_node_id%3D~\"'+str(node.cluster_id[0])+'\"%2C%20id%3D~\"%2Fdocker%2F.*\"%7D%5B5m%5D)%2F1024%2F1024&g0.tab=1')\n",
      "  File \"/Users/anwar/opt/anaconda3/lib/python3.8/site-packages/requests/api.py\", line 76, in get\n",
      "    return request('get', url, params=params, **kwargs)\n",
      "  File \"/Users/anwar/opt/anaconda3/lib/python3.8/site-packages/requests/api.py\", line 61, in request\n",
      "    return session.request(method=method, url=url, **kwargs)\n",
      "  File \"/Users/anwar/opt/anaconda3/lib/python3.8/site-packages/requests/sessions.py\", line 542, in request\n",
      "    resp = self.send(prep, **send_kwargs)\n",
      "  File \"/Users/anwar/opt/anaconda3/lib/python3.8/site-packages/requests/sessions.py\", line 655, in send\n",
      "    r = adapter.send(request, **kwargs)\n",
      "  File \"/Users/anwar/opt/anaconda3/lib/python3.8/site-packages/requests/adapters.py\", line 498, in send\n",
      "    raise ConnectionError(err, request=request)\n",
      "requests.exceptions.ConnectionError: ('Connection aborted.', ConnectionResetError(54, 'Connection reset by peer'))\n",
      "127.0.0.1 - - [24/Feb/2022 10:44:05] \"\u001b[35m\u001b[1mGET /getmem/ HTTP/1.1\u001b[0m\" 500 -\n",
      "[2022-02-24 10:44:05,763] ERROR in app: Exception on /getmem/ [GET]\n",
      "Traceback (most recent call last):\n",
      "  File \"/Users/anwar/opt/anaconda3/lib/python3.8/site-packages/urllib3/connectionpool.py\", line 699, in urlopen\n",
      "    httplib_response = self._make_request(\n",
      "  File \"/Users/anwar/opt/anaconda3/lib/python3.8/site-packages/urllib3/connectionpool.py\", line 445, in _make_request\n",
      "    six.raise_from(e, None)\n",
      "  File \"<string>\", line 3, in raise_from\n",
      "  File \"/Users/anwar/opt/anaconda3/lib/python3.8/site-packages/urllib3/connectionpool.py\", line 440, in _make_request\n",
      "    httplib_response = conn.getresponse()\n",
      "  File \"/Users/anwar/opt/anaconda3/lib/python3.8/http/client.py\", line 1347, in getresponse\n",
      "    response.begin()\n",
      "  File \"/Users/anwar/opt/anaconda3/lib/python3.8/http/client.py\", line 307, in begin\n",
      "    version, status, reason = self._read_status()\n",
      "  File \"/Users/anwar/opt/anaconda3/lib/python3.8/http/client.py\", line 268, in _read_status\n",
      "    line = str(self.fp.readline(_MAXLINE + 1), \"iso-8859-1\")\n",
      "  File \"/Users/anwar/opt/anaconda3/lib/python3.8/socket.py\", line 669, in readinto\n",
      "    return self._sock.recv_into(b)\n",
      "ConnectionResetError: [Errno 54] Connection reset by peer\n",
      "\n",
      "During handling of the above exception, another exception occurred:\n",
      "\n",
      "Traceback (most recent call last):\n",
      "  File \"/Users/anwar/opt/anaconda3/lib/python3.8/site-packages/requests/adapters.py\", line 439, in send\n",
      "    resp = conn.urlopen(\n",
      "  File \"/Users/anwar/opt/anaconda3/lib/python3.8/site-packages/urllib3/connectionpool.py\", line 755, in urlopen\n",
      "    retries = retries.increment(\n",
      "  File \"/Users/anwar/opt/anaconda3/lib/python3.8/site-packages/urllib3/util/retry.py\", line 532, in increment\n",
      "    raise six.reraise(type(error), error, _stacktrace)\n",
      "  File \"/Users/anwar/opt/anaconda3/lib/python3.8/site-packages/urllib3/packages/six.py\", line 734, in reraise\n",
      "    raise value.with_traceback(tb)\n",
      "  File \"/Users/anwar/opt/anaconda3/lib/python3.8/site-packages/urllib3/connectionpool.py\", line 699, in urlopen\n",
      "    httplib_response = self._make_request(\n",
      "  File \"/Users/anwar/opt/anaconda3/lib/python3.8/site-packages/urllib3/connectionpool.py\", line 445, in _make_request\n",
      "    six.raise_from(e, None)\n",
      "  File \"<string>\", line 3, in raise_from\n",
      "  File \"/Users/anwar/opt/anaconda3/lib/python3.8/site-packages/urllib3/connectionpool.py\", line 440, in _make_request\n",
      "    httplib_response = conn.getresponse()\n",
      "  File \"/Users/anwar/opt/anaconda3/lib/python3.8/http/client.py\", line 1347, in getresponse\n",
      "    response.begin()\n",
      "  File \"/Users/anwar/opt/anaconda3/lib/python3.8/http/client.py\", line 307, in begin\n",
      "    version, status, reason = self._read_status()\n",
      "  File \"/Users/anwar/opt/anaconda3/lib/python3.8/http/client.py\", line 268, in _read_status\n",
      "    line = str(self.fp.readline(_MAXLINE + 1), \"iso-8859-1\")\n",
      "  File \"/Users/anwar/opt/anaconda3/lib/python3.8/socket.py\", line 669, in readinto\n",
      "    return self._sock.recv_into(b)\n",
      "urllib3.exceptions.ProtocolError: ('Connection aborted.', ConnectionResetError(54, 'Connection reset by peer'))\n",
      "\n",
      "During handling of the above exception, another exception occurred:\n",
      "\n",
      "Traceback (most recent call last):\n",
      "  File \"/Users/anwar/opt/anaconda3/lib/python3.8/site-packages/flask/app.py\", line 2447, in wsgi_app\n",
      "    response = self.full_dispatch_request()\n",
      "  File \"/Users/anwar/opt/anaconda3/lib/python3.8/site-packages/flask/app.py\", line 1952, in full_dispatch_request\n",
      "    rv = self.handle_user_exception(e)\n",
      "  File \"/Users/anwar/opt/anaconda3/lib/python3.8/site-packages/flask_cors/extension.py\", line 165, in wrapped_function\n",
      "    return cors_after_request(app.make_response(f(*args, **kwargs)))\n",
      "  File \"/Users/anwar/opt/anaconda3/lib/python3.8/site-packages/flask_restful/__init__.py\", line 271, in error_router\n",
      "    return original_handler(e)\n",
      "  File \"/Users/anwar/opt/anaconda3/lib/python3.8/site-packages/flask/app.py\", line 1821, in handle_user_exception\n",
      "    reraise(exc_type, exc_value, tb)\n",
      "  File \"/Users/anwar/opt/anaconda3/lib/python3.8/site-packages/flask/_compat.py\", line 39, in reraise\n",
      "    raise value\n",
      "  File \"/Users/anwar/opt/anaconda3/lib/python3.8/site-packages/flask/app.py\", line 1950, in full_dispatch_request\n",
      "    rv = self.dispatch_request()\n",
      "  File \"/Users/anwar/opt/anaconda3/lib/python3.8/site-packages/flask/app.py\", line 1936, in dispatch_request\n",
      "    return self.view_functions[rule.endpoint](**req.view_args)\n",
      "  File \"<ipython-input-1-bb216e7d2d1c>\", line 291, in get_mem_per_container\n",
      "    r = requests.get(url+'api/v1/query?query=avg_over_time(container_memory_usage_bytes%7Bcontainer_label_com_docker_swarm_node_id%3D~\"'+str(node.cluster_id[0])+'\"%2C%20id%3D~\"%2Fdocker%2F.*\"%7D%5B5m%5D)%2F1024%2F1024&g0.tab=1')\n",
      "  File \"/Users/anwar/opt/anaconda3/lib/python3.8/site-packages/requests/api.py\", line 76, in get\n",
      "    return request('get', url, params=params, **kwargs)\n",
      "  File \"/Users/anwar/opt/anaconda3/lib/python3.8/site-packages/requests/api.py\", line 61, in request\n",
      "    return session.request(method=method, url=url, **kwargs)\n",
      "  File \"/Users/anwar/opt/anaconda3/lib/python3.8/site-packages/requests/sessions.py\", line 542, in request\n",
      "    resp = self.send(prep, **send_kwargs)\n",
      "  File \"/Users/anwar/opt/anaconda3/lib/python3.8/site-packages/requests/sessions.py\", line 655, in send\n",
      "    r = adapter.send(request, **kwargs)\n",
      "  File \"/Users/anwar/opt/anaconda3/lib/python3.8/site-packages/requests/adapters.py\", line 498, in send\n",
      "    raise ConnectionError(err, request=request)\n",
      "requests.exceptions.ConnectionError: ('Connection aborted.', ConnectionResetError(54, 'Connection reset by peer'))\n"
     ]
    },
    {
     "name": "stderr",
     "output_type": "stream",
     "text": [
      "127.0.0.1 - - [24/Feb/2022 10:44:05] \"\u001b[35m\u001b[1mGET /getmem/ HTTP/1.1\u001b[0m\" 500 -\n",
      "[2022-02-24 10:44:05,774] ERROR in app: Exception on /getmem/ [GET]\n",
      "Traceback (most recent call last):\n",
      "  File \"/Users/anwar/opt/anaconda3/lib/python3.8/site-packages/urllib3/connectionpool.py\", line 699, in urlopen\n",
      "    httplib_response = self._make_request(\n",
      "  File \"/Users/anwar/opt/anaconda3/lib/python3.8/site-packages/urllib3/connectionpool.py\", line 445, in _make_request\n",
      "    six.raise_from(e, None)\n",
      "  File \"<string>\", line 3, in raise_from\n",
      "  File \"/Users/anwar/opt/anaconda3/lib/python3.8/site-packages/urllib3/connectionpool.py\", line 440, in _make_request\n",
      "    httplib_response = conn.getresponse()\n",
      "  File \"/Users/anwar/opt/anaconda3/lib/python3.8/http/client.py\", line 1347, in getresponse\n",
      "    response.begin()\n",
      "  File \"/Users/anwar/opt/anaconda3/lib/python3.8/http/client.py\", line 307, in begin\n",
      "    version, status, reason = self._read_status()\n",
      "  File \"/Users/anwar/opt/anaconda3/lib/python3.8/http/client.py\", line 268, in _read_status\n",
      "    line = str(self.fp.readline(_MAXLINE + 1), \"iso-8859-1\")\n",
      "  File \"/Users/anwar/opt/anaconda3/lib/python3.8/socket.py\", line 669, in readinto\n",
      "    return self._sock.recv_into(b)\n",
      "ConnectionResetError: [Errno 54] Connection reset by peer\n",
      "\n",
      "During handling of the above exception, another exception occurred:\n",
      "\n",
      "Traceback (most recent call last):\n",
      "  File \"/Users/anwar/opt/anaconda3/lib/python3.8/site-packages/requests/adapters.py\", line 439, in send\n",
      "    resp = conn.urlopen(\n",
      "  File \"/Users/anwar/opt/anaconda3/lib/python3.8/site-packages/urllib3/connectionpool.py\", line 755, in urlopen\n",
      "    retries = retries.increment(\n",
      "  File \"/Users/anwar/opt/anaconda3/lib/python3.8/site-packages/urllib3/util/retry.py\", line 532, in increment\n",
      "    raise six.reraise(type(error), error, _stacktrace)\n",
      "  File \"/Users/anwar/opt/anaconda3/lib/python3.8/site-packages/urllib3/packages/six.py\", line 734, in reraise\n",
      "    raise value.with_traceback(tb)\n",
      "  File \"/Users/anwar/opt/anaconda3/lib/python3.8/site-packages/urllib3/connectionpool.py\", line 699, in urlopen\n",
      "    httplib_response = self._make_request(\n",
      "  File \"/Users/anwar/opt/anaconda3/lib/python3.8/site-packages/urllib3/connectionpool.py\", line 445, in _make_request\n",
      "    six.raise_from(e, None)\n",
      "  File \"<string>\", line 3, in raise_from\n",
      "  File \"/Users/anwar/opt/anaconda3/lib/python3.8/site-packages/urllib3/connectionpool.py\", line 440, in _make_request\n",
      "    httplib_response = conn.getresponse()\n",
      "  File \"/Users/anwar/opt/anaconda3/lib/python3.8/http/client.py\", line 1347, in getresponse\n",
      "    response.begin()\n",
      "  File \"/Users/anwar/opt/anaconda3/lib/python3.8/http/client.py\", line 307, in begin\n",
      "    version, status, reason = self._read_status()\n",
      "  File \"/Users/anwar/opt/anaconda3/lib/python3.8/http/client.py\", line 268, in _read_status\n",
      "    line = str(self.fp.readline(_MAXLINE + 1), \"iso-8859-1\")\n",
      "  File \"/Users/anwar/opt/anaconda3/lib/python3.8/socket.py\", line 669, in readinto\n",
      "    return self._sock.recv_into(b)\n",
      "urllib3.exceptions.ProtocolError: ('Connection aborted.', ConnectionResetError(54, 'Connection reset by peer'))\n",
      "\n",
      "During handling of the above exception, another exception occurred:\n",
      "\n",
      "Traceback (most recent call last):\n",
      "  File \"/Users/anwar/opt/anaconda3/lib/python3.8/site-packages/flask/app.py\", line 2447, in wsgi_app\n",
      "    response = self.full_dispatch_request()\n",
      "  File \"/Users/anwar/opt/anaconda3/lib/python3.8/site-packages/flask/app.py\", line 1952, in full_dispatch_request\n",
      "    rv = self.handle_user_exception(e)\n",
      "  File \"/Users/anwar/opt/anaconda3/lib/python3.8/site-packages/flask_cors/extension.py\", line 165, in wrapped_function\n",
      "    return cors_after_request(app.make_response(f(*args, **kwargs)))\n",
      "  File \"/Users/anwar/opt/anaconda3/lib/python3.8/site-packages/flask_restful/__init__.py\", line 271, in error_router\n",
      "    return original_handler(e)\n",
      "  File \"/Users/anwar/opt/anaconda3/lib/python3.8/site-packages/flask/app.py\", line 1821, in handle_user_exception\n",
      "    reraise(exc_type, exc_value, tb)\n",
      "  File \"/Users/anwar/opt/anaconda3/lib/python3.8/site-packages/flask/_compat.py\", line 39, in reraise\n",
      "    raise value\n",
      "  File \"/Users/anwar/opt/anaconda3/lib/python3.8/site-packages/flask/app.py\", line 1950, in full_dispatch_request\n",
      "    rv = self.dispatch_request()\n",
      "  File \"/Users/anwar/opt/anaconda3/lib/python3.8/site-packages/flask/app.py\", line 1936, in dispatch_request\n",
      "    return self.view_functions[rule.endpoint](**req.view_args)\n",
      "  File \"<ipython-input-1-bb216e7d2d1c>\", line 291, in get_mem_per_container\n",
      "    r = requests.get(url+'api/v1/query?query=avg_over_time(container_memory_usage_bytes%7Bcontainer_label_com_docker_swarm_node_id%3D~\"'+str(node.cluster_id[0])+'\"%2C%20id%3D~\"%2Fdocker%2F.*\"%7D%5B5m%5D)%2F1024%2F1024&g0.tab=1')\n",
      "  File \"/Users/anwar/opt/anaconda3/lib/python3.8/site-packages/requests/api.py\", line 76, in get\n",
      "    return request('get', url, params=params, **kwargs)\n",
      "  File \"/Users/anwar/opt/anaconda3/lib/python3.8/site-packages/requests/api.py\", line 61, in request\n",
      "    return session.request(method=method, url=url, **kwargs)\n",
      "  File \"/Users/anwar/opt/anaconda3/lib/python3.8/site-packages/requests/sessions.py\", line 542, in request\n",
      "    resp = self.send(prep, **send_kwargs)\n",
      "  File \"/Users/anwar/opt/anaconda3/lib/python3.8/site-packages/requests/sessions.py\", line 655, in send\n",
      "    r = adapter.send(request, **kwargs)\n",
      "  File \"/Users/anwar/opt/anaconda3/lib/python3.8/site-packages/requests/adapters.py\", line 498, in send\n",
      "    raise ConnectionError(err, request=request)\n",
      "requests.exceptions.ConnectionError: ('Connection aborted.', ConnectionResetError(54, 'Connection reset by peer'))\n",
      "127.0.0.1 - - [24/Feb/2022 10:44:05] \"\u001b[35m\u001b[1mGET /getmem/ HTTP/1.1\u001b[0m\" 500 -\n",
      "[2022-02-24 10:44:05,787] ERROR in app: Exception on /getmem/ [GET]\n",
      "Traceback (most recent call last):\n",
      "  File \"/Users/anwar/opt/anaconda3/lib/python3.8/site-packages/urllib3/connectionpool.py\", line 699, in urlopen\n",
      "    httplib_response = self._make_request(\n",
      "  File \"/Users/anwar/opt/anaconda3/lib/python3.8/site-packages/urllib3/connectionpool.py\", line 445, in _make_request\n",
      "    six.raise_from(e, None)\n",
      "  File \"<string>\", line 3, in raise_from\n",
      "  File \"/Users/anwar/opt/anaconda3/lib/python3.8/site-packages/urllib3/connectionpool.py\", line 440, in _make_request\n",
      "    httplib_response = conn.getresponse()\n",
      "  File \"/Users/anwar/opt/anaconda3/lib/python3.8/http/client.py\", line 1347, in getresponse\n",
      "    response.begin()\n",
      "  File \"/Users/anwar/opt/anaconda3/lib/python3.8/http/client.py\", line 307, in begin\n",
      "    version, status, reason = self._read_status()\n",
      "  File \"/Users/anwar/opt/anaconda3/lib/python3.8/http/client.py\", line 268, in _read_status\n",
      "    line = str(self.fp.readline(_MAXLINE + 1), \"iso-8859-1\")\n",
      "  File \"/Users/anwar/opt/anaconda3/lib/python3.8/socket.py\", line 669, in readinto\n",
      "    return self._sock.recv_into(b)\n",
      "ConnectionResetError: [Errno 54] Connection reset by peer\n",
      "\n",
      "During handling of the above exception, another exception occurred:\n",
      "\n",
      "Traceback (most recent call last):\n",
      "  File \"/Users/anwar/opt/anaconda3/lib/python3.8/site-packages/requests/adapters.py\", line 439, in send\n",
      "    resp = conn.urlopen(\n",
      "  File \"/Users/anwar/opt/anaconda3/lib/python3.8/site-packages/urllib3/connectionpool.py\", line 755, in urlopen\n",
      "    retries = retries.increment(\n",
      "  File \"/Users/anwar/opt/anaconda3/lib/python3.8/site-packages/urllib3/util/retry.py\", line 532, in increment\n",
      "    raise six.reraise(type(error), error, _stacktrace)\n",
      "  File \"/Users/anwar/opt/anaconda3/lib/python3.8/site-packages/urllib3/packages/six.py\", line 734, in reraise\n",
      "    raise value.with_traceback(tb)\n",
      "  File \"/Users/anwar/opt/anaconda3/lib/python3.8/site-packages/urllib3/connectionpool.py\", line 699, in urlopen\n",
      "    httplib_response = self._make_request(\n",
      "  File \"/Users/anwar/opt/anaconda3/lib/python3.8/site-packages/urllib3/connectionpool.py\", line 445, in _make_request\n",
      "    six.raise_from(e, None)\n",
      "  File \"<string>\", line 3, in raise_from\n",
      "  File \"/Users/anwar/opt/anaconda3/lib/python3.8/site-packages/urllib3/connectionpool.py\", line 440, in _make_request\n",
      "    httplib_response = conn.getresponse()\n",
      "  File \"/Users/anwar/opt/anaconda3/lib/python3.8/http/client.py\", line 1347, in getresponse\n",
      "    response.begin()\n",
      "  File \"/Users/anwar/opt/anaconda3/lib/python3.8/http/client.py\", line 307, in begin\n",
      "    version, status, reason = self._read_status()\n",
      "  File \"/Users/anwar/opt/anaconda3/lib/python3.8/http/client.py\", line 268, in _read_status\n",
      "    line = str(self.fp.readline(_MAXLINE + 1), \"iso-8859-1\")\n",
      "  File \"/Users/anwar/opt/anaconda3/lib/python3.8/socket.py\", line 669, in readinto\n",
      "    return self._sock.recv_into(b)\n",
      "urllib3.exceptions.ProtocolError: ('Connection aborted.', ConnectionResetError(54, 'Connection reset by peer'))\n",
      "\n",
      "During handling of the above exception, another exception occurred:\n",
      "\n",
      "Traceback (most recent call last):\n",
      "  File \"/Users/anwar/opt/anaconda3/lib/python3.8/site-packages/flask/app.py\", line 2447, in wsgi_app\n",
      "    response = self.full_dispatch_request()\n",
      "  File \"/Users/anwar/opt/anaconda3/lib/python3.8/site-packages/flask/app.py\", line 1952, in full_dispatch_request\n",
      "    rv = self.handle_user_exception(e)\n",
      "  File \"/Users/anwar/opt/anaconda3/lib/python3.8/site-packages/flask_cors/extension.py\", line 165, in wrapped_function\n",
      "    return cors_after_request(app.make_response(f(*args, **kwargs)))\n",
      "  File \"/Users/anwar/opt/anaconda3/lib/python3.8/site-packages/flask_restful/__init__.py\", line 271, in error_router\n",
      "    return original_handler(e)\n",
      "  File \"/Users/anwar/opt/anaconda3/lib/python3.8/site-packages/flask/app.py\", line 1821, in handle_user_exception\n",
      "    reraise(exc_type, exc_value, tb)\n",
      "  File \"/Users/anwar/opt/anaconda3/lib/python3.8/site-packages/flask/_compat.py\", line 39, in reraise\n",
      "    raise value\n",
      "  File \"/Users/anwar/opt/anaconda3/lib/python3.8/site-packages/flask/app.py\", line 1950, in full_dispatch_request\n",
      "    rv = self.dispatch_request()\n",
      "  File \"/Users/anwar/opt/anaconda3/lib/python3.8/site-packages/flask/app.py\", line 1936, in dispatch_request\n",
      "    return self.view_functions[rule.endpoint](**req.view_args)\n",
      "  File \"<ipython-input-1-bb216e7d2d1c>\", line 291, in get_mem_per_container\n",
      "    r = requests.get(url+'api/v1/query?query=avg_over_time(container_memory_usage_bytes%7Bcontainer_label_com_docker_swarm_node_id%3D~\"'+str(node.cluster_id[0])+'\"%2C%20id%3D~\"%2Fdocker%2F.*\"%7D%5B5m%5D)%2F1024%2F1024&g0.tab=1')\n",
      "  File \"/Users/anwar/opt/anaconda3/lib/python3.8/site-packages/requests/api.py\", line 76, in get\n",
      "    return request('get', url, params=params, **kwargs)\n",
      "  File \"/Users/anwar/opt/anaconda3/lib/python3.8/site-packages/requests/api.py\", line 61, in request\n",
      "    return session.request(method=method, url=url, **kwargs)\n",
      "  File \"/Users/anwar/opt/anaconda3/lib/python3.8/site-packages/requests/sessions.py\", line 542, in request\n",
      "    resp = self.send(prep, **send_kwargs)\n",
      "  File \"/Users/anwar/opt/anaconda3/lib/python3.8/site-packages/requests/sessions.py\", line 655, in send\n",
      "    r = adapter.send(request, **kwargs)\n",
      "  File \"/Users/anwar/opt/anaconda3/lib/python3.8/site-packages/requests/adapters.py\", line 498, in send\n",
      "    raise ConnectionError(err, request=request)\n",
      "requests.exceptions.ConnectionError: ('Connection aborted.', ConnectionResetError(54, 'Connection reset by peer'))\n"
     ]
    },
    {
     "name": "stderr",
     "output_type": "stream",
     "text": [
      "127.0.0.1 - - [24/Feb/2022 10:44:05] \"\u001b[35m\u001b[1mGET /getmem/ HTTP/1.1\u001b[0m\" 500 -\n",
      "[2022-02-24 10:44:05,795] ERROR in app: Exception on /getmem/ [GET]\n",
      "Traceback (most recent call last):\n",
      "  File \"/Users/anwar/opt/anaconda3/lib/python3.8/site-packages/urllib3/connectionpool.py\", line 699, in urlopen\n",
      "    httplib_response = self._make_request(\n",
      "  File \"/Users/anwar/opt/anaconda3/lib/python3.8/site-packages/urllib3/connectionpool.py\", line 445, in _make_request\n",
      "    six.raise_from(e, None)\n",
      "  File \"<string>\", line 3, in raise_from\n",
      "  File \"/Users/anwar/opt/anaconda3/lib/python3.8/site-packages/urllib3/connectionpool.py\", line 440, in _make_request\n",
      "    httplib_response = conn.getresponse()\n",
      "  File \"/Users/anwar/opt/anaconda3/lib/python3.8/http/client.py\", line 1347, in getresponse\n",
      "    response.begin()\n",
      "  File \"/Users/anwar/opt/anaconda3/lib/python3.8/http/client.py\", line 307, in begin\n",
      "    version, status, reason = self._read_status()\n",
      "  File \"/Users/anwar/opt/anaconda3/lib/python3.8/http/client.py\", line 268, in _read_status\n",
      "    line = str(self.fp.readline(_MAXLINE + 1), \"iso-8859-1\")\n",
      "  File \"/Users/anwar/opt/anaconda3/lib/python3.8/socket.py\", line 669, in readinto\n",
      "    return self._sock.recv_into(b)\n",
      "ConnectionResetError: [Errno 54] Connection reset by peer\n",
      "\n",
      "During handling of the above exception, another exception occurred:\n",
      "\n",
      "Traceback (most recent call last):\n",
      "  File \"/Users/anwar/opt/anaconda3/lib/python3.8/site-packages/requests/adapters.py\", line 439, in send\n",
      "    resp = conn.urlopen(\n",
      "  File \"/Users/anwar/opt/anaconda3/lib/python3.8/site-packages/urllib3/connectionpool.py\", line 755, in urlopen\n",
      "    retries = retries.increment(\n",
      "  File \"/Users/anwar/opt/anaconda3/lib/python3.8/site-packages/urllib3/util/retry.py\", line 532, in increment\n",
      "    raise six.reraise(type(error), error, _stacktrace)\n",
      "  File \"/Users/anwar/opt/anaconda3/lib/python3.8/site-packages/urllib3/packages/six.py\", line 734, in reraise\n",
      "    raise value.with_traceback(tb)\n",
      "  File \"/Users/anwar/opt/anaconda3/lib/python3.8/site-packages/urllib3/connectionpool.py\", line 699, in urlopen\n",
      "    httplib_response = self._make_request(\n",
      "  File \"/Users/anwar/opt/anaconda3/lib/python3.8/site-packages/urllib3/connectionpool.py\", line 445, in _make_request\n",
      "    six.raise_from(e, None)\n",
      "  File \"<string>\", line 3, in raise_from\n",
      "  File \"/Users/anwar/opt/anaconda3/lib/python3.8/site-packages/urllib3/connectionpool.py\", line 440, in _make_request\n",
      "    httplib_response = conn.getresponse()\n",
      "  File \"/Users/anwar/opt/anaconda3/lib/python3.8/http/client.py\", line 1347, in getresponse\n",
      "    response.begin()\n",
      "  File \"/Users/anwar/opt/anaconda3/lib/python3.8/http/client.py\", line 307, in begin\n",
      "    version, status, reason = self._read_status()\n",
      "  File \"/Users/anwar/opt/anaconda3/lib/python3.8/http/client.py\", line 268, in _read_status\n",
      "    line = str(self.fp.readline(_MAXLINE + 1), \"iso-8859-1\")\n",
      "  File \"/Users/anwar/opt/anaconda3/lib/python3.8/socket.py\", line 669, in readinto\n",
      "    return self._sock.recv_into(b)\n",
      "urllib3.exceptions.ProtocolError: ('Connection aborted.', ConnectionResetError(54, 'Connection reset by peer'))\n",
      "\n",
      "During handling of the above exception, another exception occurred:\n",
      "\n",
      "Traceback (most recent call last):\n",
      "  File \"/Users/anwar/opt/anaconda3/lib/python3.8/site-packages/flask/app.py\", line 2447, in wsgi_app\n",
      "    response = self.full_dispatch_request()\n",
      "  File \"/Users/anwar/opt/anaconda3/lib/python3.8/site-packages/flask/app.py\", line 1952, in full_dispatch_request\n",
      "    rv = self.handle_user_exception(e)\n",
      "  File \"/Users/anwar/opt/anaconda3/lib/python3.8/site-packages/flask_cors/extension.py\", line 165, in wrapped_function\n",
      "    return cors_after_request(app.make_response(f(*args, **kwargs)))\n",
      "  File \"/Users/anwar/opt/anaconda3/lib/python3.8/site-packages/flask_restful/__init__.py\", line 271, in error_router\n",
      "    return original_handler(e)\n",
      "  File \"/Users/anwar/opt/anaconda3/lib/python3.8/site-packages/flask/app.py\", line 1821, in handle_user_exception\n",
      "    reraise(exc_type, exc_value, tb)\n",
      "  File \"/Users/anwar/opt/anaconda3/lib/python3.8/site-packages/flask/_compat.py\", line 39, in reraise\n",
      "    raise value\n",
      "  File \"/Users/anwar/opt/anaconda3/lib/python3.8/site-packages/flask/app.py\", line 1950, in full_dispatch_request\n",
      "    rv = self.dispatch_request()\n",
      "  File \"/Users/anwar/opt/anaconda3/lib/python3.8/site-packages/flask/app.py\", line 1936, in dispatch_request\n",
      "    return self.view_functions[rule.endpoint](**req.view_args)\n",
      "  File \"<ipython-input-1-bb216e7d2d1c>\", line 291, in get_mem_per_container\n",
      "    r = requests.get(url+'api/v1/query?query=avg_over_time(container_memory_usage_bytes%7Bcontainer_label_com_docker_swarm_node_id%3D~\"'+str(node.cluster_id[0])+'\"%2C%20id%3D~\"%2Fdocker%2F.*\"%7D%5B5m%5D)%2F1024%2F1024&g0.tab=1')\n",
      "  File \"/Users/anwar/opt/anaconda3/lib/python3.8/site-packages/requests/api.py\", line 76, in get\n",
      "    return request('get', url, params=params, **kwargs)\n",
      "  File \"/Users/anwar/opt/anaconda3/lib/python3.8/site-packages/requests/api.py\", line 61, in request\n",
      "    return session.request(method=method, url=url, **kwargs)\n",
      "  File \"/Users/anwar/opt/anaconda3/lib/python3.8/site-packages/requests/sessions.py\", line 542, in request\n",
      "    resp = self.send(prep, **send_kwargs)\n",
      "  File \"/Users/anwar/opt/anaconda3/lib/python3.8/site-packages/requests/sessions.py\", line 655, in send\n",
      "    r = adapter.send(request, **kwargs)\n",
      "  File \"/Users/anwar/opt/anaconda3/lib/python3.8/site-packages/requests/adapters.py\", line 498, in send\n",
      "    raise ConnectionError(err, request=request)\n",
      "requests.exceptions.ConnectionError: ('Connection aborted.', ConnectionResetError(54, 'Connection reset by peer'))\n",
      "127.0.0.1 - - [24/Feb/2022 10:44:05] \"\u001b[35m\u001b[1mGET /getmem/ HTTP/1.1\u001b[0m\" 500 -\n",
      "[2022-02-24 10:44:05,815] ERROR in app: Exception on /getmem/ [GET]\n",
      "Traceback (most recent call last):\n",
      "  File \"/Users/anwar/opt/anaconda3/lib/python3.8/site-packages/urllib3/connectionpool.py\", line 699, in urlopen\n",
      "    httplib_response = self._make_request(\n",
      "  File \"/Users/anwar/opt/anaconda3/lib/python3.8/site-packages/urllib3/connectionpool.py\", line 445, in _make_request\n",
      "    six.raise_from(e, None)\n",
      "  File \"<string>\", line 3, in raise_from\n",
      "  File \"/Users/anwar/opt/anaconda3/lib/python3.8/site-packages/urllib3/connectionpool.py\", line 440, in _make_request\n",
      "    httplib_response = conn.getresponse()\n",
      "  File \"/Users/anwar/opt/anaconda3/lib/python3.8/http/client.py\", line 1347, in getresponse\n",
      "    response.begin()\n",
      "  File \"/Users/anwar/opt/anaconda3/lib/python3.8/http/client.py\", line 307, in begin\n",
      "    version, status, reason = self._read_status()\n",
      "  File \"/Users/anwar/opt/anaconda3/lib/python3.8/http/client.py\", line 268, in _read_status\n",
      "    line = str(self.fp.readline(_MAXLINE + 1), \"iso-8859-1\")\n",
      "  File \"/Users/anwar/opt/anaconda3/lib/python3.8/socket.py\", line 669, in readinto\n",
      "    return self._sock.recv_into(b)\n",
      "ConnectionResetError: [Errno 54] Connection reset by peer\n",
      "\n",
      "During handling of the above exception, another exception occurred:\n",
      "\n",
      "Traceback (most recent call last):\n",
      "  File \"/Users/anwar/opt/anaconda3/lib/python3.8/site-packages/requests/adapters.py\", line 439, in send\n",
      "    resp = conn.urlopen(\n",
      "  File \"/Users/anwar/opt/anaconda3/lib/python3.8/site-packages/urllib3/connectionpool.py\", line 755, in urlopen\n",
      "    retries = retries.increment(\n",
      "  File \"/Users/anwar/opt/anaconda3/lib/python3.8/site-packages/urllib3/util/retry.py\", line 532, in increment\n",
      "    raise six.reraise(type(error), error, _stacktrace)\n",
      "  File \"/Users/anwar/opt/anaconda3/lib/python3.8/site-packages/urllib3/packages/six.py\", line 734, in reraise\n",
      "    raise value.with_traceback(tb)\n",
      "  File \"/Users/anwar/opt/anaconda3/lib/python3.8/site-packages/urllib3/connectionpool.py\", line 699, in urlopen\n",
      "    httplib_response = self._make_request(\n",
      "  File \"/Users/anwar/opt/anaconda3/lib/python3.8/site-packages/urllib3/connectionpool.py\", line 445, in _make_request\n",
      "    six.raise_from(e, None)\n",
      "  File \"<string>\", line 3, in raise_from\n",
      "  File \"/Users/anwar/opt/anaconda3/lib/python3.8/site-packages/urllib3/connectionpool.py\", line 440, in _make_request\n",
      "    httplib_response = conn.getresponse()\n",
      "  File \"/Users/anwar/opt/anaconda3/lib/python3.8/http/client.py\", line 1347, in getresponse\n",
      "    response.begin()\n",
      "  File \"/Users/anwar/opt/anaconda3/lib/python3.8/http/client.py\", line 307, in begin\n",
      "    version, status, reason = self._read_status()\n",
      "  File \"/Users/anwar/opt/anaconda3/lib/python3.8/http/client.py\", line 268, in _read_status\n",
      "    line = str(self.fp.readline(_MAXLINE + 1), \"iso-8859-1\")\n",
      "  File \"/Users/anwar/opt/anaconda3/lib/python3.8/socket.py\", line 669, in readinto\n",
      "    return self._sock.recv_into(b)\n",
      "urllib3.exceptions.ProtocolError: ('Connection aborted.', ConnectionResetError(54, 'Connection reset by peer'))\n",
      "\n",
      "During handling of the above exception, another exception occurred:\n",
      "\n",
      "Traceback (most recent call last):\n",
      "  File \"/Users/anwar/opt/anaconda3/lib/python3.8/site-packages/flask/app.py\", line 2447, in wsgi_app\n",
      "    response = self.full_dispatch_request()\n",
      "  File \"/Users/anwar/opt/anaconda3/lib/python3.8/site-packages/flask/app.py\", line 1952, in full_dispatch_request\n",
      "    rv = self.handle_user_exception(e)\n",
      "  File \"/Users/anwar/opt/anaconda3/lib/python3.8/site-packages/flask_cors/extension.py\", line 165, in wrapped_function\n",
      "    return cors_after_request(app.make_response(f(*args, **kwargs)))\n",
      "  File \"/Users/anwar/opt/anaconda3/lib/python3.8/site-packages/flask_restful/__init__.py\", line 271, in error_router\n",
      "    return original_handler(e)\n",
      "  File \"/Users/anwar/opt/anaconda3/lib/python3.8/site-packages/flask/app.py\", line 1821, in handle_user_exception\n",
      "    reraise(exc_type, exc_value, tb)\n",
      "  File \"/Users/anwar/opt/anaconda3/lib/python3.8/site-packages/flask/_compat.py\", line 39, in reraise\n",
      "    raise value\n",
      "  File \"/Users/anwar/opt/anaconda3/lib/python3.8/site-packages/flask/app.py\", line 1950, in full_dispatch_request\n",
      "    rv = self.dispatch_request()\n",
      "  File \"/Users/anwar/opt/anaconda3/lib/python3.8/site-packages/flask/app.py\", line 1936, in dispatch_request\n",
      "    return self.view_functions[rule.endpoint](**req.view_args)\n",
      "  File \"<ipython-input-1-bb216e7d2d1c>\", line 291, in get_mem_per_container\n",
      "    r = requests.get(url+'api/v1/query?query=avg_over_time(container_memory_usage_bytes%7Bcontainer_label_com_docker_swarm_node_id%3D~\"'+str(node.cluster_id[0])+'\"%2C%20id%3D~\"%2Fdocker%2F.*\"%7D%5B5m%5D)%2F1024%2F1024&g0.tab=1')\n",
      "  File \"/Users/anwar/opt/anaconda3/lib/python3.8/site-packages/requests/api.py\", line 76, in get\n",
      "    return request('get', url, params=params, **kwargs)\n",
      "  File \"/Users/anwar/opt/anaconda3/lib/python3.8/site-packages/requests/api.py\", line 61, in request\n",
      "    return session.request(method=method, url=url, **kwargs)\n",
      "  File \"/Users/anwar/opt/anaconda3/lib/python3.8/site-packages/requests/sessions.py\", line 542, in request\n",
      "    resp = self.send(prep, **send_kwargs)\n",
      "  File \"/Users/anwar/opt/anaconda3/lib/python3.8/site-packages/requests/sessions.py\", line 655, in send\n",
      "    r = adapter.send(request, **kwargs)\n",
      "  File \"/Users/anwar/opt/anaconda3/lib/python3.8/site-packages/requests/adapters.py\", line 498, in send\n",
      "    raise ConnectionError(err, request=request)\n",
      "requests.exceptions.ConnectionError: ('Connection aborted.', ConnectionResetError(54, 'Connection reset by peer'))\n"
     ]
    },
    {
     "name": "stderr",
     "output_type": "stream",
     "text": [
      "127.0.0.1 - - [24/Feb/2022 10:44:05] \"\u001b[35m\u001b[1mGET /getmem/ HTTP/1.1\u001b[0m\" 500 -\n",
      "127.0.0.1 - - [24/Feb/2022 10:50:59] \"\u001b[37mPOST /geturl/ HTTP/1.1\u001b[0m\" 200 -\n",
      "127.0.0.1 - - [24/Feb/2022 10:50:59] \"\u001b[37mGET /getexectime/ HTTP/1.1\u001b[0m\" 200 -\n"
     ]
    },
    {
     "name": "stdout",
     "output_type": "stream",
     "text": [
      "manager\n",
      "content http://192.168.99.119:9090/\n",
      "url http://192.168.99.119:9090/api/v1/query?query=avg_over_time(container_memory_usage_bytes%7Bcontainer_label_com_docker_swarm_node_id%3D~\"gobb5gs2ea0l3hqnqoo597rje\"%2C%20id%3D~\"%2Fdocker%2F.*\"%7D%5B5m%5D)%2F1024%2F1024&g0.tab=1\n"
     ]
    },
    {
     "name": "stderr",
     "output_type": "stream",
     "text": [
      "127.0.0.1 - - [24/Feb/2022 10:50:59] \"\u001b[37mGET /UpdateStatus/ HTTP/1.1\u001b[0m\" 200 -\n"
     ]
    },
    {
     "name": "stdout",
     "output_type": "stream",
     "text": [
      "[['ID', 'HOSTNAME', 'STATUS', 'AVAILABILITY', 'MANAGER', 'STATUS', 'ENGINE', 'VERSION'], ['gobb5gs2ea0l3hqnqoo597rje', 'manager', 'Ready', 'Active', 'Leader', '19.03.12'], ['j4mij6hfk3pdl7igmt6jy0em3', 'worker1', 'Ready', 'Active', '19.03.12'], ['ykueqwkeyy0whed9ar3eielhz', 'worker2', 'Ready', 'Active', '19.03.12']]\n",
      "Ready\n",
      "Ready\n",
      "Ready\n"
     ]
    },
    {
     "name": "stderr",
     "output_type": "stream",
     "text": [
      "127.0.0.1 - - [24/Feb/2022 10:51:04] \"\u001b[37mGET /getjson/ HTTP/1.1\u001b[0m\" 200 -\n"
     ]
    },
    {
     "name": "stdout",
     "output_type": "stream",
     "text": [
      "url http://192.168.99.119:9090/api/v1/query?query=avg_over_time(container_memory_usage_bytes%7Bcontainer_label_com_docker_swarm_node_id%3D~\"j4mij6hfk3pdl7igmt6jy0em3\"%2C%20id%3D~\"%2Fdocker%2F.*\"%7D%5B5m%5D)%2F1024%2F1024&g0.tab=1\n",
      "url http://192.168.99.119:9090/api/v1/query?query=avg_over_time(container_memory_usage_bytes%7Bcontainer_label_com_docker_swarm_node_id%3D~\"ykueqwkeyy0whed9ar3eielhz\"%2C%20id%3D~\"%2Fdocker%2F.*\"%7D%5B5m%5D)%2F1024%2F1024&g0.tab=1\n",
      "manager\n"
     ]
    },
    {
     "name": "stderr",
     "output_type": "stream",
     "text": [
      "127.0.0.1 - - [24/Feb/2022 10:51:08] \"\u001b[37mPOST /geturl/ HTTP/1.1\u001b[0m\" 200 -\n",
      "127.0.0.1 - - [24/Feb/2022 10:51:08] \"\u001b[37mGET /getexectime/ HTTP/1.1\u001b[0m\" 200 -\n"
     ]
    },
    {
     "name": "stdout",
     "output_type": "stream",
     "text": [
      "content http://192.168.99.119:9090/\n",
      "url http://192.168.99.119:9090/api/v1/query?query=avg_over_time(container_memory_usage_bytes%7Bcontainer_label_com_docker_swarm_node_id%3D~\"gobb5gs2ea0l3hqnqoo597rje\"%2C%20id%3D~\"%2Fdocker%2F.*\"%7D%5B5m%5D)%2F1024%2F1024&g0.tab=1\n"
     ]
    },
    {
     "name": "stderr",
     "output_type": "stream",
     "text": [
      "127.0.0.1 - - [24/Feb/2022 10:51:08] \"\u001b[37mGET /UpdateStatus/ HTTP/1.1\u001b[0m\" 200 -\n"
     ]
    },
    {
     "name": "stdout",
     "output_type": "stream",
     "text": [
      "[['ID', 'HOSTNAME', 'STATUS', 'AVAILABILITY', 'MANAGER', 'STATUS', 'ENGINE', 'VERSION'], ['gobb5gs2ea0l3hqnqoo597rje', 'manager', 'Ready', 'Active', 'Leader', '19.03.12'], ['j4mij6hfk3pdl7igmt6jy0em3', 'worker1', 'Ready', 'Active', '19.03.12'], ['ykueqwkeyy0whed9ar3eielhz', 'worker2', 'Ready', 'Active', '19.03.12']]\n",
      "Ready\n",
      "Ready\n",
      "Ready\n"
     ]
    },
    {
     "name": "stderr",
     "output_type": "stream",
     "text": [
      "127.0.0.1 - - [24/Feb/2022 10:51:09] \"\u001b[37mGET /getjson/ HTTP/1.1\u001b[0m\" 200 -\n",
      "[2022-02-24 10:51:10,986] ERROR in app: Exception on /getmem/ [GET]\n",
      "Traceback (most recent call last):\n",
      "  File \"/Users/anwar/opt/anaconda3/lib/python3.8/site-packages/flask/app.py\", line 2447, in wsgi_app\n",
      "    response = self.full_dispatch_request()\n",
      "  File \"/Users/anwar/opt/anaconda3/lib/python3.8/site-packages/flask/app.py\", line 1952, in full_dispatch_request\n",
      "    rv = self.handle_user_exception(e)\n",
      "  File \"/Users/anwar/opt/anaconda3/lib/python3.8/site-packages/flask_cors/extension.py\", line 165, in wrapped_function\n",
      "    return cors_after_request(app.make_response(f(*args, **kwargs)))\n",
      "  File \"/Users/anwar/opt/anaconda3/lib/python3.8/site-packages/flask_restful/__init__.py\", line 271, in error_router\n",
      "    return original_handler(e)\n",
      "  File \"/Users/anwar/opt/anaconda3/lib/python3.8/site-packages/flask/app.py\", line 1821, in handle_user_exception\n",
      "    reraise(exc_type, exc_value, tb)\n",
      "  File \"/Users/anwar/opt/anaconda3/lib/python3.8/site-packages/flask/_compat.py\", line 39, in reraise\n",
      "    raise value\n",
      "  File \"/Users/anwar/opt/anaconda3/lib/python3.8/site-packages/flask/app.py\", line 1950, in full_dispatch_request\n",
      "    rv = self.dispatch_request()\n",
      "  File \"/Users/anwar/opt/anaconda3/lib/python3.8/site-packages/flask/app.py\", line 1936, in dispatch_request\n",
      "    return self.view_functions[rule.endpoint](**req.view_args)\n",
      "  File \"<ipython-input-1-bb216e7d2d1c>\", line 298, in get_mem_per_container\n",
      "    data= json.load(file)\n",
      "  File \"/Users/anwar/opt/anaconda3/lib/python3.8/json/__init__.py\", line 293, in load\n",
      "    return loads(fp.read(),\n",
      "  File \"/Users/anwar/opt/anaconda3/lib/python3.8/json/__init__.py\", line 357, in loads\n",
      "    return _default_decoder.decode(s)\n",
      "  File \"/Users/anwar/opt/anaconda3/lib/python3.8/json/decoder.py\", line 337, in decode\n",
      "    obj, end = self.raw_decode(s, idx=_w(s, 0).end())\n",
      "  File \"/Users/anwar/opt/anaconda3/lib/python3.8/json/decoder.py\", line 355, in raw_decode\n",
      "    raise JSONDecodeError(\"Expecting value\", s, err.value) from None\n",
      "json.decoder.JSONDecodeError: Expecting value: line 1 column 1 (char 0)\n",
      "127.0.0.1 - - [24/Feb/2022 10:51:10] \"\u001b[35m\u001b[1mGET /getmem/ HTTP/1.1\u001b[0m\" 500 -\n"
     ]
    },
    {
     "name": "stdout",
     "output_type": "stream",
     "text": [
      "url http://192.168.99.119:9090/api/v1/query?query=avg_over_time(container_memory_usage_bytes%7Bcontainer_label_com_docker_swarm_node_id%3D~\"j4mij6hfk3pdl7igmt6jy0em3\"%2C%20id%3D~\"%2Fdocker%2F.*\"%7D%5B5m%5D)%2F1024%2F1024&g0.tab=1\n",
      "url http://192.168.99.119:9090/api/v1/query?query=avg_over_time(container_memory_usage_bytes%7Bcontainer_label_com_docker_swarm_node_id%3D~\"ykueqwkeyy0whed9ar3eielhz\"%2C%20id%3D~\"%2Fdocker%2F.*\"%7D%5B5m%5D)%2F1024%2F1024&g0.tab=1\n"
     ]
    },
    {
     "name": "stderr",
     "output_type": "stream",
     "text": [
      "127.0.0.1 - - [24/Feb/2022 10:51:17] \"\u001b[37mGET /getmem/ HTTP/1.1\u001b[0m\" 200 -\n",
      "127.0.0.1 - - [24/Feb/2022 10:51:42] \"\u001b[37mPOST /geturl/ HTTP/1.1\u001b[0m\" 200 -\n",
      "127.0.0.1 - - [24/Feb/2022 10:51:42] \"\u001b[37mGET /getexectime/ HTTP/1.1\u001b[0m\" 200 -\n"
     ]
    },
    {
     "name": "stdout",
     "output_type": "stream",
     "text": [
      "manager\n",
      "contenturl  http://192.168.99.119:9090/api/v1/query?query=avg_over_time(container_memory_usage_bytes%7Bcontainer_label_com_docker_swarm_node_id%3D~\"gobb5gs2ea0l3hqnqoo597rje\"%2C%20id%3D~\"%2Fdocker%2F.*\"%7D%5B5m%5D)%2F1024%2F1024&g0.tab=1\n",
      "http://192.168.99.119:9090/\n"
     ]
    },
    {
     "name": "stderr",
     "output_type": "stream",
     "text": [
      "127.0.0.1 - - [24/Feb/2022 10:51:43] \"\u001b[37mGET /UpdateStatus/ HTTP/1.1\u001b[0m\" 200 -\n",
      "127.0.0.1 - - [24/Feb/2022 10:51:43] \"\u001b[37mGET /getjson/ HTTP/1.1\u001b[0m\" 200 -\n"
     ]
    },
    {
     "name": "stdout",
     "output_type": "stream",
     "text": [
      "[['ID', 'HOSTNAME', 'STATUS', 'AVAILABILITY', 'MANAGER', 'STATUS', 'ENGINE', 'VERSION'], ['gobb5gs2ea0l3hqnqoo597rje', 'manager', 'Ready', 'Active', 'Leader', '19.03.12'], ['j4mij6hfk3pdl7igmt6jy0em3', 'worker1', 'Ready', 'Active', '19.03.12'], ['ykueqwkeyy0whed9ar3eielhz', 'worker2', 'Ready', 'Active', '19.03.12']]\n",
      "Ready\n",
      "Ready\n",
      "Ready\n",
      "url http://192.168.99.119:9090/api/v1/query?query=avg_over_time(container_memory_usage_bytes%7Bcontainer_label_com_docker_swarm_node_id%3D~\"j4mij6hfk3pdl7igmt6jy0em3\"%2C%20id%3D~\"%2Fdocker%2F.*\"%7D%5B5m%5D)%2F1024%2F1024&g0.tab=1\n",
      "url http://192.168.99.119:9090/api/v1/query?query=avg_over_time(container_memory_usage_bytes%7Bcontainer_label_com_docker_swarm_node_id%3D~\"ykueqwkeyy0whed9ar3eielhz\"%2C%20id%3D~\"%2Fdocker%2F.*\"%7D%5B5m%5D)%2F1024%2F1024&g0.tab=1\n"
     ]
    },
    {
     "name": "stderr",
     "output_type": "stream",
     "text": [
      "127.0.0.1 - - [24/Feb/2022 10:51:44] \"\u001b[37mGET /getmem/ HTTP/1.1\u001b[0m\" 200 -\n",
      "127.0.0.1 - - [24/Feb/2022 10:51:53] \"\u001b[37mPOST /geturl/ HTTP/1.1\u001b[0m\" 200 -\n",
      "127.0.0.1 - - [24/Feb/2022 10:51:53] \"\u001b[37mGET /getexectime/ HTTP/1.1\u001b[0m\" 200 -\n"
     ]
    },
    {
     "name": "stdout",
     "output_type": "stream",
     "text": [
      "manager\n",
      "content http://192.168.99.119:9090/\n",
      "url http://192.168.99.119:9090/api/v1/query?query=avg_over_time(container_memory_usage_bytes%7Bcontainer_label_com_docker_swarm_node_id%3D~\"gobb5gs2ea0l3hqnqoo597rje\"%2C%20id%3D~\"%2Fdocker%2F.*\"%7D%5B5m%5D)%2F1024%2F1024&g0.tab=1\n"
     ]
    },
    {
     "name": "stderr",
     "output_type": "stream",
     "text": [
      "127.0.0.1 - - [24/Feb/2022 10:51:54] \"\u001b[37mGET /getjson/ HTTP/1.1\u001b[0m\" 200 -\n",
      "127.0.0.1 - - [24/Feb/2022 10:51:54] \"\u001b[37mGET /UpdateStatus/ HTTP/1.1\u001b[0m\" 200 -\n"
     ]
    },
    {
     "name": "stdout",
     "output_type": "stream",
     "text": [
      "[['ID', 'HOSTNAME', 'STATUS', 'AVAILABILITY', 'MANAGER', 'STATUS', 'ENGINE', 'VERSION'], ['gobb5gs2ea0l3hqnqoo597rje', 'manager', 'Ready', 'Active', 'Leader', '19.03.12'], ['j4mij6hfk3pdl7igmt6jy0em3', 'worker1', 'Ready', 'Active', '19.03.12'], ['ykueqwkeyy0whed9ar3eielhz', 'worker2', 'Ready', 'Active', '19.03.12']]\n",
      "Ready\n",
      "Ready\n",
      "Ready\n",
      "url http://192.168.99.119:9090/api/v1/query?query=avg_over_time(container_memory_usage_bytes%7Bcontainer_label_com_docker_swarm_node_id%3D~\"j4mij6hfk3pdl7igmt6jy0em3\"%2C%20id%3D~\"%2Fdocker%2F.*\"%7D%5B5m%5D)%2F1024%2F1024&g0.tab=1\n",
      "url http://192.168.99.119:9090/api/v1/query?query=avg_over_time(container_memory_usage_bytes%7Bcontainer_label_com_docker_swarm_node_id%3D~\"ykueqwkeyy0whed9ar3eielhz\"%2C%20id%3D~\"%2Fdocker%2F.*\"%7D%5B5m%5D)%2F1024%2F1024&g0.tab=1\n"
     ]
    },
    {
     "name": "stderr",
     "output_type": "stream",
     "text": [
      "127.0.0.1 - - [24/Feb/2022 10:51:56] \"\u001b[37mGET /getmem/ HTTP/1.1\u001b[0m\" 200 -\n",
      "127.0.0.1 - - [24/Feb/2022 10:52:06] \"\u001b[37mPOST /geturl/ HTTP/1.1\u001b[0m\" 200 -\n",
      "127.0.0.1 - - [24/Feb/2022 10:52:06] \"\u001b[37mGET /getexectime/ HTTP/1.1\u001b[0m\" 200 -\n"
     ]
    },
    {
     "name": "stdout",
     "output_type": "stream",
     "text": [
      "manager\n",
      "content http://192.168.99.119:9090/\n",
      "url http://192.168.99.119:9090/api/v1/query?query=avg_over_time(container_memory_usage_bytes%7Bcontainer_label_com_docker_swarm_node_id%3D~\"gobb5gs2ea0l3hqnqoo597rje\"%2C%20id%3D~\"%2Fdocker%2F.*\"%7D%5B5m%5D)%2F1024%2F1024&g0.tab=1\n",
      "url http://192.168.99.119:9090/api/v1/query?query=avg_over_time(container_memory_usage_bytes%7Bcontainer_label_com_docker_swarm_node_id%3D~\"j4mij6hfk3pdl7igmt6jy0em3\"%2C%20id%3D~\"%2Fdocker%2F.*\"%7D%5B5m%5D)%2F1024%2F1024&g0.tab=1\n"
     ]
    },
    {
     "name": "stderr",
     "output_type": "stream",
     "text": [
      "127.0.0.1 - - [24/Feb/2022 10:52:06] \"\u001b[37mGET /getjson/ HTTP/1.1\u001b[0m\" 200 -\n",
      "127.0.0.1 - - [24/Feb/2022 10:52:06] \"\u001b[37mGET /UpdateStatus/ HTTP/1.1\u001b[0m\" 200 -\n"
     ]
    },
    {
     "name": "stdout",
     "output_type": "stream",
     "text": [
      "url http://192.168.99.119:9090/api/v1/query?query=avg_over_time(container_memory_usage_bytes%7Bcontainer_label_com_docker_swarm_node_id%3D~\"ykueqwkeyy0whed9ar3eielhz\"%2C%20id%3D~\"%2Fdocker%2F.*\"%7D%5B5m%5D)%2F1024%2F1024&g0.tab=1\n",
      "[['ID', 'HOSTNAME', 'STATUS', 'AVAILABILITY', 'MANAGER', 'STATUS', 'ENGINE', 'VERSION'], ['gobb5gs2ea0l3hqnqoo597rje', 'manager', 'Ready', 'Active', 'Leader', '19.03.12'], ['j4mij6hfk3pdl7igmt6jy0em3', 'worker1', 'Ready', 'Active', '19.03.12'], ['ykueqwkeyy0whed9ar3eielhz', 'worker2', 'Ready', 'Active', '19.03.12']]\n",
      "Ready\n",
      "Ready\n",
      "Ready\n"
     ]
    },
    {
     "name": "stderr",
     "output_type": "stream",
     "text": [
      "127.0.0.1 - - [24/Feb/2022 10:52:07] \"\u001b[37mGET /getmem/ HTTP/1.1\u001b[0m\" 200 -\n",
      "127.0.0.1 - - [24/Feb/2022 10:53:07] \"\u001b[37mPOST /geturl/ HTTP/1.1\u001b[0m\" 200 -\n",
      "127.0.0.1 - - [24/Feb/2022 10:53:07] \"\u001b[37mGET /getexectime/ HTTP/1.1\u001b[0m\" 200 -\n"
     ]
    },
    {
     "name": "stdout",
     "output_type": "stream",
     "text": [
      "manager\n",
      "content http://192.168.99.119:9090/\n",
      "url http://192.168.99.119:9090/api/v1/query?query=avg_over_time(container_memory_usage_bytes%7Bcontainer_label_com_docker_swarm_node_id%3D~\"gobb5gs2ea0l3hqnqoo597rje\"%2C%20id%3D~\"%2Fdocker%2F.*\"%7D%5B5m%5D)%2F1024%2F1024&g0.tab=1\n"
     ]
    },
    {
     "name": "stderr",
     "output_type": "stream",
     "text": [
      "127.0.0.1 - - [24/Feb/2022 10:53:07] \"\u001b[37mGET /getjson/ HTTP/1.1\u001b[0m\" 200 -\n",
      "127.0.0.1 - - [24/Feb/2022 10:53:07] \"\u001b[37mGET /UpdateStatus/ HTTP/1.1\u001b[0m\" 200 -\n"
     ]
    },
    {
     "name": "stdout",
     "output_type": "stream",
     "text": [
      "url http://192.168.99.119:9090/api/v1/query?query=avg_over_time(container_memory_usage_bytes%7Bcontainer_label_com_docker_swarm_node_id%3D~\"j4mij6hfk3pdl7igmt6jy0em3\"%2C%20id%3D~\"%2Fdocker%2F.*\"%7D%5B5m%5D)%2F1024%2F1024&g0.tab=1\n",
      "[['ID', 'HOSTNAME', 'STATUS', 'AVAILABILITY', 'MANAGER', 'STATUS', 'ENGINE', 'VERSION'], ['gobb5gs2ea0l3hqnqoo597rje', 'manager', 'Ready', 'Active', 'Leader', '19.03.12'], ['j4mij6hfk3pdl7igmt6jy0em3', 'worker1', 'Ready', 'Active', '19.03.12'], ['ykueqwkeyy0whed9ar3eielhz', 'worker2', 'Ready', 'Active', '19.03.12']]\n",
      "Ready\n",
      "Ready\n",
      "Ready\n",
      "url http://192.168.99.119:9090/api/v1/query?query=avg_over_time(container_memory_usage_bytes%7Bcontainer_label_com_docker_swarm_node_id%3D~\"ykueqwkeyy0whed9ar3eielhz\"%2C%20id%3D~\"%2Fdocker%2F.*\"%7D%5B5m%5D)%2F1024%2F1024&g0.tab=1\n"
     ]
    },
    {
     "name": "stderr",
     "output_type": "stream",
     "text": [
      "127.0.0.1 - - [24/Feb/2022 10:53:08] \"\u001b[37mGET /getmem/ HTTP/1.1\u001b[0m\" 200 -\n",
      "127.0.0.1 - - [24/Feb/2022 10:53:32] \"\u001b[37mGET /getjson/ HTTP/1.1\u001b[0m\" 200 -\n",
      "127.0.0.1 - - [24/Feb/2022 10:53:33] \"\u001b[37mPOST /geturl/ HTTP/1.1\u001b[0m\" 200 -\n",
      "127.0.0.1 - - [24/Feb/2022 10:53:33] \"\u001b[37mGET /getexectime/ HTTP/1.1\u001b[0m\" 200 -\n",
      "127.0.0.1 - - [24/Feb/2022 10:53:33] \"\u001b[37mGET /getjson/ HTTP/1.1\u001b[0m\" 200 -\n"
     ]
    },
    {
     "name": "stdout",
     "output_type": "stream",
     "text": [
      "manager\n",
      "contenturl http://192.168.99.119:9090/api/v1/query?query=avg_over_time(container_memory_usage_bytes%7Bcontainer_label_com_docker_swarm_node_id%3D~\"gobb5gs2ea0l3hqnqoo597rje\"%2C%20id%3D~\"%2Fdocker%2F.*\"%7D%5B5m%5D)%2F1024%2F1024&g0.tab=1\n",
      " http://192.168.99.119:9090/\n"
     ]
    },
    {
     "name": "stderr",
     "output_type": "stream",
     "text": [
      "127.0.0.1 - - [24/Feb/2022 10:53:33] \"\u001b[37mGET /UpdateStatus/ HTTP/1.1\u001b[0m\" 200 -\n"
     ]
    },
    {
     "name": "stdout",
     "output_type": "stream",
     "text": [
      "[['ID', 'HOSTNAME', 'STATUS', 'AVAILABILITY', 'MANAGER', 'STATUS', 'ENGINE', 'VERSION'], ['gobb5gs2ea0l3hqnqoo597rje', 'manager', 'Ready', 'Active', 'Leader', '19.03.12'], ['j4mij6hfk3pdl7igmt6jy0em3', 'worker1', 'Ready', 'Active', '19.03.12'], ['ykueqwkeyy0whed9ar3eielhz', 'worker2', 'Ready', 'Active', '19.03.12']]\n",
      "Ready\n",
      "Ready\n",
      "Ready\n",
      "url http://192.168.99.119:9090/api/v1/query?query=avg_over_time(container_memory_usage_bytes%7Bcontainer_label_com_docker_swarm_node_id%3D~\"j4mij6hfk3pdl7igmt6jy0em3\"%2C%20id%3D~\"%2Fdocker%2F.*\"%7D%5B5m%5D)%2F1024%2F1024&g0.tab=1\n",
      "url http://192.168.99.119:9090/api/v1/query?query=avg_over_time(container_memory_usage_bytes%7Bcontainer_label_com_docker_swarm_node_id%3D~\"ykueqwkeyy0whed9ar3eielhz\"%2C%20id%3D~\"%2Fdocker%2F.*\"%7D%5B5m%5D)%2F1024%2F1024&g0.tab=1\n"
     ]
    },
    {
     "name": "stderr",
     "output_type": "stream",
     "text": [
      "127.0.0.1 - - [24/Feb/2022 10:53:33] \"\u001b[37mGET /getmem/ HTTP/1.1\u001b[0m\" 200 -\n",
      "127.0.0.1 - - [24/Feb/2022 10:53:37] \"\u001b[37mPOST /geturl/ HTTP/1.1\u001b[0m\" 200 -\n",
      "127.0.0.1 - - [24/Feb/2022 10:53:37] \"\u001b[37mGET /getexectime/ HTTP/1.1\u001b[0m\" 200 -\n",
      "[2022-02-24 10:53:37,288] ERROR in app: Exception on /getjson/ [GET]\n",
      "Traceback (most recent call last):\n",
      "  File \"/Users/anwar/opt/anaconda3/lib/python3.8/site-packages/flask/app.py\", line 2447, in wsgi_app\n",
      "    response = self.full_dispatch_request()\n",
      "  File \"/Users/anwar/opt/anaconda3/lib/python3.8/site-packages/flask/app.py\", line 1952, in full_dispatch_request\n",
      "    rv = self.handle_user_exception(e)\n",
      "  File \"/Users/anwar/opt/anaconda3/lib/python3.8/site-packages/flask_cors/extension.py\", line 165, in wrapped_function\n",
      "    return cors_after_request(app.make_response(f(*args, **kwargs)))\n",
      "  File \"/Users/anwar/opt/anaconda3/lib/python3.8/site-packages/flask_restful/__init__.py\", line 271, in error_router\n",
      "    return original_handler(e)\n",
      "  File \"/Users/anwar/opt/anaconda3/lib/python3.8/site-packages/flask/app.py\", line 1821, in handle_user_exception\n",
      "    reraise(exc_type, exc_value, tb)\n",
      "  File \"/Users/anwar/opt/anaconda3/lib/python3.8/site-packages/flask/_compat.py\", line 39, in reraise\n",
      "    raise value\n",
      "  File \"/Users/anwar/opt/anaconda3/lib/python3.8/site-packages/flask/app.py\", line 1950, in full_dispatch_request\n",
      "    rv = self.dispatch_request()\n",
      "  File \"/Users/anwar/opt/anaconda3/lib/python3.8/site-packages/flask/app.py\", line 1936, in dispatch_request\n",
      "    return self.view_functions[rule.endpoint](**req.view_args)\n",
      "  File \"<ipython-input-1-bb216e7d2d1c>\", line 37, in getjson\n",
      "    data = json.load(f)\n",
      "  File \"/Users/anwar/opt/anaconda3/lib/python3.8/json/__init__.py\", line 293, in load\n",
      "    return loads(fp.read(),\n",
      "  File \"/Users/anwar/opt/anaconda3/lib/python3.8/json/__init__.py\", line 357, in loads\n",
      "    return _default_decoder.decode(s)\n",
      "  File \"/Users/anwar/opt/anaconda3/lib/python3.8/json/decoder.py\", line 337, in decode\n",
      "    obj, end = self.raw_decode(s, idx=_w(s, 0).end())\n",
      "  File \"/Users/anwar/opt/anaconda3/lib/python3.8/json/decoder.py\", line 355, in raw_decode\n",
      "    raise JSONDecodeError(\"Expecting value\", s, err.value) from None\n",
      "json.decoder.JSONDecodeError: Expecting value: line 1 column 1 (char 0)\n",
      "127.0.0.1 - - [24/Feb/2022 10:53:37] \"\u001b[35m\u001b[1mGET /getjson/ HTTP/1.1\u001b[0m\" 500 -\n"
     ]
    },
    {
     "name": "stdout",
     "output_type": "stream",
     "text": [
      "manager\n",
      "content http://192.168.99.119:9090/\n",
      "url http://192.168.99.119:9090/api/v1/query?query=avg_over_time(container_memory_usage_bytes%7Bcontainer_label_com_docker_swarm_node_id%3D~\"gobb5gs2ea0l3hqnqoo597rje\"%2C%20id%3D~\"%2Fdocker%2F.*\"%7D%5B5m%5D)%2F1024%2F1024&g0.tab=1\n",
      "url http://192.168.99.119:9090/api/v1/query?query=avg_over_time(container_memory_usage_bytes%7Bcontainer_label_com_docker_swarm_node_id%3D~\"j4mij6hfk3pdl7igmt6jy0em3\"%2C%20id%3D~\"%2Fdocker%2F.*\"%7D%5B5m%5D)%2F1024%2F1024&g0.tab=1\n"
     ]
    },
    {
     "name": "stderr",
     "output_type": "stream",
     "text": [
      "127.0.0.1 - - [24/Feb/2022 10:53:37] \"\u001b[37mGET /UpdateStatus/ HTTP/1.1\u001b[0m\" 200 -\n"
     ]
    },
    {
     "name": "stdout",
     "output_type": "stream",
     "text": [
      "[['ID', 'HOSTNAME', 'STATUS', 'AVAILABILITY', 'MANAGER', 'STATUS', 'ENGINE', 'VERSION'], ['gobb5gs2ea0l3hqnqoo597rje', 'manager', 'Ready', 'Active', 'Leader', '19.03.12'], ['j4mij6hfk3pdl7igmt6jy0em3', 'worker1', 'Ready', 'Active', '19.03.12'], ['ykueqwkeyy0whed9ar3eielhz', 'worker2', 'Ready', 'Active', '19.03.12']]\n",
      "Ready\n",
      "Ready\n",
      "Ready\n",
      "url http://192.168.99.119:9090/api/v1/query?query=avg_over_time(container_memory_usage_bytes%7Bcontainer_label_com_docker_swarm_node_id%3D~\"ykueqwkeyy0whed9ar3eielhz\"%2C%20id%3D~\"%2Fdocker%2F.*\"%7D%5B5m%5D)%2F1024%2F1024&g0.tab=1\n"
     ]
    },
    {
     "name": "stderr",
     "output_type": "stream",
     "text": [
      "127.0.0.1 - - [24/Feb/2022 10:53:37] \"\u001b[37mGET /getmem/ HTTP/1.1\u001b[0m\" 200 -\n",
      "127.0.0.1 - - [24/Feb/2022 10:53:44] \"\u001b[37mGET /getjson/ HTTP/1.1\u001b[0m\" 200 -\n",
      "127.0.0.1 - - [24/Feb/2022 10:53:45] \"\u001b[37mPOST /geturl/ HTTP/1.1\u001b[0m\" 200 -\n",
      "127.0.0.1 - - [24/Feb/2022 10:53:45] \"\u001b[37mGET /getexectime/ HTTP/1.1\u001b[0m\" 200 -\n",
      "127.0.0.1 - - [24/Feb/2022 10:53:45] \"\u001b[37mGET /getjson/ HTTP/1.1\u001b[0m\" 200 -\n"
     ]
    },
    {
     "name": "stdout",
     "output_type": "stream",
     "text": [
      "manager\n",
      "contenturl  http://192.168.99.119:9090/api/v1/query?query=avg_over_time(container_memory_usage_bytes%7Bcontainer_label_com_docker_swarm_node_id%3D~\"gobb5gs2ea0l3hqnqoo597rje\"%2C%20id%3D~\"%2Fdocker%2F.*\"%7D%5B5m%5D)%2F1024%2F1024&g0.tab=1\n",
      "http://192.168.99.119:9090/\n"
     ]
    },
    {
     "name": "stderr",
     "output_type": "stream",
     "text": [
      "127.0.0.1 - - [24/Feb/2022 10:53:45] \"\u001b[37mGET /UpdateStatus/ HTTP/1.1\u001b[0m\" 200 -\n"
     ]
    },
    {
     "name": "stdout",
     "output_type": "stream",
     "text": [
      "url http://192.168.99.119:9090/api/v1/query?query=avg_over_time(container_memory_usage_bytes%7Bcontainer_label_com_docker_swarm_node_id%3D~\"j4mij6hfk3pdl7igmt6jy0em3\"%2C%20id%3D~\"%2Fdocker%2F.*\"%7D%5B5m%5D)%2F1024%2F1024&g0.tab=1\n",
      "url http://192.168.99.119:9090/api/v1/query?query=avg_over_time(container_memory_usage_bytes%7Bcontainer_label_com_docker_swarm_node_id%3D~\"ykueqwkeyy0whed9ar3eielhz\"%2C%20id%3D~\"%2Fdocker%2F.*\"%7D%5B5m%5D)%2F1024%2F1024&g0.tab=1\n",
      "[['ID', 'HOSTNAME', 'STATUS', 'AVAILABILITY', 'MANAGER', 'STATUS', 'ENGINE', 'VERSION'], ['gobb5gs2ea0l3hqnqoo597rje', 'manager', 'Ready', 'Active', 'Leader', '19.03.12'], ['j4mij6hfk3pdl7igmt6jy0em3', 'worker1', 'Ready', 'Active', '19.03.12'], ['ykueqwkeyy0whed9ar3eielhz', 'worker2', 'Ready', 'Active', '19.03.12']]\n",
      "Ready\n",
      "Ready\n",
      "Ready\n"
     ]
    },
    {
     "name": "stderr",
     "output_type": "stream",
     "text": [
      "127.0.0.1 - - [24/Feb/2022 10:53:46] \"\u001b[37mGET /getmem/ HTTP/1.1\u001b[0m\" 200 -\n",
      "127.0.0.1 - - [24/Feb/2022 10:53:57] \"\u001b[37mGET /getjson/ HTTP/1.1\u001b[0m\" 200 -\n",
      "127.0.0.1 - - [24/Feb/2022 10:53:58] \"\u001b[37mPOST /geturl/ HTTP/1.1\u001b[0m\" 200 -\n",
      "127.0.0.1 - - [24/Feb/2022 10:53:58] \"\u001b[37mGET /getexectime/ HTTP/1.1\u001b[0m\" 200 -\n",
      "127.0.0.1 - - [24/Feb/2022 10:53:58] \"\u001b[37mGET /getjson/ HTTP/1.1\u001b[0m\" 200 -\n"
     ]
    },
    {
     "name": "stdout",
     "output_type": "stream",
     "text": [
      "manager\n",
      "contenturl  http://192.168.99.119:9090/api/v1/query?query=avg_over_time(container_memory_usage_bytes%7Bcontainer_label_com_docker_swarm_node_id%3D~\"gobb5gs2ea0l3hqnqoo597rje\"%2C%20id%3D~\"%2Fdocker%2F.*\"%7D%5B5m%5D)%2F1024%2F1024&g0.tab=1\n",
      "http://192.168.99.119:9090/\n"
     ]
    },
    {
     "name": "stderr",
     "output_type": "stream",
     "text": [
      "127.0.0.1 - - [24/Feb/2022 10:53:58] \"\u001b[37mGET /UpdateStatus/ HTTP/1.1\u001b[0m\" 200 -\n"
     ]
    },
    {
     "name": "stdout",
     "output_type": "stream",
     "text": [
      "url http://192.168.99.119:9090/api/v1/query?query=avg_over_time(container_memory_usage_bytes%7Bcontainer_label_com_docker_swarm_node_id%3D~\"j4mij6hfk3pdl7igmt6jy0em3\"%2C%20id%3D~\"%2Fdocker%2F.*\"%7D%5B5m%5D)%2F1024%2F1024&g0.tab=1\n",
      "[['ID', 'HOSTNAME', 'STATUS', 'AVAILABILITY', 'MANAGER', 'STATUS', 'ENGINE', 'VERSION'], ['gobb5gs2ea0l3hqnqoo597rje', 'manager', 'Ready', 'Active', 'Leader', '19.03.12'], ['j4mij6hfk3pdl7igmt6jy0em3', 'worker1', 'Ready', 'Active', '19.03.12'], ['ykueqwkeyy0whed9ar3eielhz', 'worker2', 'Ready', 'Active', '19.03.12']]\n",
      "Ready\n",
      "Ready\n",
      "Ready\n",
      "url http://192.168.99.119:9090/api/v1/query?query=avg_over_time(container_memory_usage_bytes%7Bcontainer_label_com_docker_swarm_node_id%3D~\"ykueqwkeyy0whed9ar3eielhz\"%2C%20id%3D~\"%2Fdocker%2F.*\"%7D%5B5m%5D)%2F1024%2F1024&g0.tab=1\n"
     ]
    },
    {
     "name": "stderr",
     "output_type": "stream",
     "text": [
      "127.0.0.1 - - [24/Feb/2022 10:53:59] \"\u001b[37mGET /getmem/ HTTP/1.1\u001b[0m\" 200 -\n",
      "127.0.0.1 - - [24/Feb/2022 10:54:30] \"\u001b[37mGET /getjson/ HTTP/1.1\u001b[0m\" 200 -\n",
      "127.0.0.1 - - [24/Feb/2022 10:54:31] \"\u001b[37mPOST /geturl/ HTTP/1.1\u001b[0m\" 200 -\n",
      "127.0.0.1 - - [24/Feb/2022 10:54:31] \"\u001b[37mGET /getexectime/ HTTP/1.1\u001b[0m\" 200 -\n",
      "127.0.0.1 - - [24/Feb/2022 10:54:31] \"\u001b[37mGET /getjson/ HTTP/1.1\u001b[0m\" 200 -\n"
     ]
    },
    {
     "name": "stdout",
     "output_type": "stream",
     "text": [
      "manager\n",
      "contenturl http://192.168.99.119:9090/api/v1/query?query=avg_over_time(container_memory_usage_bytes%7Bcontainer_label_com_docker_swarm_node_id%3D~\"gobb5gs2ea0l3hqnqoo597rje\"%2C%20id%3D~\"%2Fdocker%2F.*\"%7D%5B5m%5D)%2F1024%2F1024&g0.tab=1\n",
      " http://192.168.99.119:9090/\n"
     ]
    },
    {
     "name": "stderr",
     "output_type": "stream",
     "text": [
      "127.0.0.1 - - [24/Feb/2022 10:54:31] \"\u001b[37mGET /UpdateStatus/ HTTP/1.1\u001b[0m\" 200 -\n"
     ]
    },
    {
     "name": "stdout",
     "output_type": "stream",
     "text": [
      "url http://192.168.99.119:9090/api/v1/query?query=avg_over_time(container_memory_usage_bytes%7Bcontainer_label_com_docker_swarm_node_id%3D~\"j4mij6hfk3pdl7igmt6jy0em3\"%2C%20id%3D~\"%2Fdocker%2F.*\"%7D%5B5m%5D)%2F1024%2F1024&g0.tab=1\n",
      "[['ID', 'HOSTNAME', 'STATUS', 'AVAILABILITY', 'MANAGER', 'STATUS', 'ENGINE', 'VERSION'], ['gobb5gs2ea0l3hqnqoo597rje', 'manager', 'Ready', 'Active', 'Leader', '19.03.12'], ['j4mij6hfk3pdl7igmt6jy0em3', 'worker1', 'Ready', 'Active', '19.03.12'], ['ykueqwkeyy0whed9ar3eielhz', 'worker2', 'Ready', 'Active', '19.03.12']]\n",
      "Ready\n",
      "Ready\n",
      "Ready\n",
      "url http://192.168.99.119:9090/api/v1/query?query=avg_over_time(container_memory_usage_bytes%7Bcontainer_label_com_docker_swarm_node_id%3D~\"ykueqwkeyy0whed9ar3eielhz\"%2C%20id%3D~\"%2Fdocker%2F.*\"%7D%5B5m%5D)%2F1024%2F1024&g0.tab=1\n"
     ]
    },
    {
     "name": "stderr",
     "output_type": "stream",
     "text": [
      "127.0.0.1 - - [24/Feb/2022 10:54:31] \"\u001b[37mGET /getmem/ HTTP/1.1\u001b[0m\" 200 -\n",
      "127.0.0.1 - - [24/Feb/2022 10:54:45] \"\u001b[37mGET /getjson/ HTTP/1.1\u001b[0m\" 200 -\n",
      "127.0.0.1 - - [24/Feb/2022 10:54:45] \"\u001b[37mGET /getexectime/ HTTP/1.1\u001b[0m\" 200 -\n",
      "127.0.0.1 - - [24/Feb/2022 10:54:45] \"\u001b[37mPOST /geturl/ HTTP/1.1\u001b[0m\" 200 -\n",
      "127.0.0.1 - - [24/Feb/2022 10:54:45] \"\u001b[37mGET /getjson/ HTTP/1.1\u001b[0m\" 200 -\n"
     ]
    },
    {
     "name": "stdout",
     "output_type": "stream",
     "text": [
      "manager\n",
      "content urlhttp://192.168.99.119:9090/ http://192.168.99.119:9090/api/v1/query?query=avg_over_time(container_memory_usage_bytes%7Bcontainer_label_com_docker_swarm_node_id%3D~\"gobb5gs2ea0l3hqnqoo597rje\"%2C%20id%3D~\"%2Fdocker%2F.*\"%7D%5B5m%5D)%2F1024%2F1024&g0.tab=1\n",
      "\n",
      "url http://192.168.99.119:9090/api/v1/query?query=avg_over_time(container_memory_usage_bytes%7Bcontainer_label_com_docker_swarm_node_id%3D~\"j4mij6hfk3pdl7igmt6jy0em3\"%2C%20id%3D~\"%2Fdocker%2F.*\"%7D%5B5m%5D)%2F1024%2F1024&g0.tab=1\n"
     ]
    },
    {
     "name": "stderr",
     "output_type": "stream",
     "text": [
      "127.0.0.1 - - [24/Feb/2022 10:54:46] \"\u001b[37mGET /UpdateStatus/ HTTP/1.1\u001b[0m\" 200 -\n"
     ]
    },
    {
     "name": "stdout",
     "output_type": "stream",
     "text": [
      "[['ID', 'HOSTNAME', 'STATUS', 'AVAILABILITY', 'MANAGER', 'STATUS', 'ENGINE', 'VERSION'], ['gobb5gs2ea0l3hqnqoo597rje', 'manager', 'Ready', 'Active', 'Leader', '19.03.12'], ['j4mij6hfk3pdl7igmt6jy0em3', 'worker1', 'Ready', 'Active', '19.03.12'], ['ykueqwkeyy0whed9ar3eielhz', 'worker2', 'Ready', 'Active', '19.03.12']]\n",
      "Ready\n",
      "Ready\n",
      "Ready\n",
      "url http://192.168.99.119:9090/api/v1/query?query=avg_over_time(container_memory_usage_bytes%7Bcontainer_label_com_docker_swarm_node_id%3D~\"ykueqwkeyy0whed9ar3eielhz\"%2C%20id%3D~\"%2Fdocker%2F.*\"%7D%5B5m%5D)%2F1024%2F1024&g0.tab=1\n"
     ]
    },
    {
     "name": "stderr",
     "output_type": "stream",
     "text": [
      "127.0.0.1 - - [24/Feb/2022 10:54:46] \"\u001b[37mGET /getmem/ HTTP/1.1\u001b[0m\" 200 -\n",
      "127.0.0.1 - - [24/Feb/2022 10:55:11] \"\u001b[37mGET /getjson/ HTTP/1.1\u001b[0m\" 200 -\n",
      "127.0.0.1 - - [24/Feb/2022 10:55:12] \"\u001b[37mPOST /geturl/ HTTP/1.1\u001b[0m\" 200 -\n",
      "127.0.0.1 - - [24/Feb/2022 10:55:12] \"\u001b[37mGET /getexectime/ HTTP/1.1\u001b[0m\" 200 -\n",
      "127.0.0.1 - - [24/Feb/2022 10:55:12] \"\u001b[37mGET /getjson/ HTTP/1.1\u001b[0m\" 200 -\n"
     ]
    },
    {
     "name": "stdout",
     "output_type": "stream",
     "text": [
      "manager\n",
      "content http://192.168.99.119:9090/\n",
      "url http://192.168.99.119:9090/api/v1/query?query=avg_over_time(container_memory_usage_bytes%7Bcontainer_label_com_docker_swarm_node_id%3D~\"gobb5gs2ea0l3hqnqoo597rje\"%2C%20id%3D~\"%2Fdocker%2F.*\"%7D%5B5m%5D)%2F1024%2F1024&g0.tab=1\n"
     ]
    },
    {
     "name": "stderr",
     "output_type": "stream",
     "text": [
      "127.0.0.1 - - [24/Feb/2022 10:55:12] \"\u001b[37mGET /UpdateStatus/ HTTP/1.1\u001b[0m\" 200 -\n"
     ]
    },
    {
     "name": "stdout",
     "output_type": "stream",
     "text": [
      "url http://192.168.99.119:9090/api/v1/query?query=avg_over_time(container_memory_usage_bytes%7Bcontainer_label_com_docker_swarm_node_id%3D~\"j4mij6hfk3pdl7igmt6jy0em3\"%2C%20id%3D~\"%2Fdocker%2F.*\"%7D%5B5m%5D)%2F1024%2F1024&g0.tab=1\n",
      "url http://192.168.99.119:9090/api/v1/query?query=avg_over_time(container_memory_usage_bytes%7Bcontainer_label_com_docker_swarm_node_id%3D~\"ykueqwkeyy0whed9ar3eielhz\"%2C%20id%3D~\"%2Fdocker%2F.*\"%7D%5B5m%5D)%2F1024%2F1024&g0.tab=1\n",
      "[['ID', 'HOSTNAME', 'STATUS', 'AVAILABILITY', 'MANAGER', 'STATUS', 'ENGINE', 'VERSION'], ['gobb5gs2ea0l3hqnqoo597rje', 'manager', 'Ready', 'Active', 'Leader', '19.03.12'], ['j4mij6hfk3pdl7igmt6jy0em3', 'worker1', 'Ready', 'Active', '19.03.12'], ['ykueqwkeyy0whed9ar3eielhz', 'worker2', 'Ready', 'Active', '19.03.12']]\n",
      "Ready\n",
      "Ready\n",
      "Ready\n"
     ]
    },
    {
     "name": "stderr",
     "output_type": "stream",
     "text": [
      "127.0.0.1 - - [24/Feb/2022 10:55:13] \"\u001b[37mGET /getmem/ HTTP/1.1\u001b[0m\" 200 -\n",
      "127.0.0.1 - - [24/Feb/2022 10:55:49] \"\u001b[37mGET /getjson/ HTTP/1.1\u001b[0m\" 200 -\n",
      "127.0.0.1 - - [24/Feb/2022 10:55:49] \"\u001b[37mPOST /geturl/ HTTP/1.1\u001b[0m\" 200 -\n",
      "127.0.0.1 - - [24/Feb/2022 10:55:49] \"\u001b[37mGET /getexectime/ HTTP/1.1\u001b[0m\" 200 -\n"
     ]
    },
    {
     "name": "stdout",
     "output_type": "stream",
     "text": [
      "manager\n",
      "content http://192.168.99.119:9090/\n",
      "url http://192.168.99.119:9090/api/v1/query?query=avg_over_time(container_memory_usage_bytes%7Bcontainer_label_com_docker_swarm_node_id%3D~\"gobb5gs2ea0l3hqnqoo597rje\"%2C%20id%3D~\"%2Fdocker%2F.*\"%7D%5B5m%5D)%2F1024%2F1024&g0.tab=1\n",
      "url http://192.168.99.119:9090/api/v1/query?query=avg_over_time(container_memory_usage_bytes%7Bcontainer_label_com_docker_swarm_node_id%3D~\"j4mij6hfk3pdl7igmt6jy0em3\"%2C%20id%3D~\"%2Fdocker%2F.*\"%7D%5B5m%5D)%2F1024%2F1024&g0.tab=1\n"
     ]
    },
    {
     "name": "stderr",
     "output_type": "stream",
     "text": [
      "127.0.0.1 - - [24/Feb/2022 10:55:49] \"\u001b[37mGET /getjson/ HTTP/1.1\u001b[0m\" 200 -\n",
      "127.0.0.1 - - [24/Feb/2022 10:55:50] \"\u001b[37mGET /UpdateStatus/ HTTP/1.1\u001b[0m\" 200 -\n"
     ]
    },
    {
     "name": "stdout",
     "output_type": "stream",
     "text": [
      "url http://192.168.99.119:9090/api/v1/query?query=avg_over_time(container_memory_usage_bytes%7Bcontainer_label_com_docker_swarm_node_id%3D~\"ykueqwkeyy0whed9ar3eielhz\"%2C%20id%3D~\"%2Fdocker%2F.*\"%7D%5B5m%5D)%2F1024%2F1024&g0.tab=1\n",
      "[['ID', 'HOSTNAME', 'STATUS', 'AVAILABILITY', 'MANAGER', 'STATUS', 'ENGINE', 'VERSION'], ['gobb5gs2ea0l3hqnqoo597rje', 'manager', 'Ready', 'Active', 'Leader', '19.03.12'], ['j4mij6hfk3pdl7igmt6jy0em3', 'worker1', 'Ready', 'Active', '19.03.12'], ['ykueqwkeyy0whed9ar3eielhz', 'worker2', 'Ready', 'Active', '19.03.12']]\n",
      "Ready\n",
      "Ready\n",
      "Ready\n"
     ]
    },
    {
     "name": "stderr",
     "output_type": "stream",
     "text": [
      "127.0.0.1 - - [24/Feb/2022 10:55:50] \"\u001b[37mGET /getmem/ HTTP/1.1\u001b[0m\" 200 -\n",
      "127.0.0.1 - - [24/Feb/2022 11:00:34] \"\u001b[37mPOST /geturl/ HTTP/1.1\u001b[0m\" 200 -\n",
      "127.0.0.1 - - [24/Feb/2022 11:00:34] \"\u001b[37mGET /getexectime/ HTTP/1.1\u001b[0m\" 200 -\n"
     ]
    },
    {
     "name": "stdout",
     "output_type": "stream",
     "text": [
      "manager\n",
      "content http://192.168.99.119:9090/\n",
      "url http://192.168.99.119:9090/api/v1/query?query=avg_over_time(container_memory_usage_bytes%7Bcontainer_label_com_docker_swarm_node_id%3D~\"gobb5gs2ea0l3hqnqoo597rje\"%2C%20id%3D~\"%2Fdocker%2F.*\"%7D%5B5m%5D)%2F1024%2F1024&g0.tab=1\n",
      "url http://192.168.99.119:9090/api/v1/query?query=avg_over_time(container_memory_usage_bytes%7Bcontainer_label_com_docker_swarm_node_id%3D~\"j4mij6hfk3pdl7igmt6jy0em3\"%2C%20id%3D~\"%2Fdocker%2F.*\"%7D%5B5m%5D)%2F1024%2F1024&g0.tab=1\n"
     ]
    },
    {
     "name": "stderr",
     "output_type": "stream",
     "text": [
      "127.0.0.1 - - [24/Feb/2022 11:00:34] \"\u001b[37mGET /getjson/ HTTP/1.1\u001b[0m\" 200 -\n",
      "127.0.0.1 - - [24/Feb/2022 11:00:34] \"\u001b[37mGET /UpdateStatus/ HTTP/1.1\u001b[0m\" 200 -\n"
     ]
    },
    {
     "name": "stdout",
     "output_type": "stream",
     "text": [
      "url http://192.168.99.119:9090/api/v1/query?query=avg_over_time(container_memory_usage_bytes%7Bcontainer_label_com_docker_swarm_node_id%3D~\"ykueqwkeyy0whed9ar3eielhz\"%2C%20id%3D~\"%2Fdocker%2F.*\"%7D%5B5m%5D)%2F1024%2F1024&g0.tab=1\n",
      "[['ID', 'HOSTNAME', 'STATUS', 'AVAILABILITY', 'MANAGER', 'STATUS', 'ENGINE', 'VERSION'], ['gobb5gs2ea0l3hqnqoo597rje', 'manager', 'Ready', 'Active', 'Leader', '19.03.12'], ['j4mij6hfk3pdl7igmt6jy0em3', 'worker1', 'Ready', 'Active', '19.03.12'], ['ykueqwkeyy0whed9ar3eielhz', 'worker2', 'Ready', 'Active', '19.03.12']]\n",
      "Ready\n",
      "Ready\n",
      "Ready\n"
     ]
    },
    {
     "name": "stderr",
     "output_type": "stream",
     "text": [
      "127.0.0.1 - - [24/Feb/2022 11:00:34] \"\u001b[37mGET /getmem/ HTTP/1.1\u001b[0m\" 200 -\n",
      "127.0.0.1 - - [24/Feb/2022 11:00:51] \"\u001b[37mPOST /geturl/ HTTP/1.1\u001b[0m\" 200 -\n",
      "127.0.0.1 - - [24/Feb/2022 11:00:51] \"\u001b[37mGET /getexectime/ HTTP/1.1\u001b[0m\" 200 -\n"
     ]
    },
    {
     "name": "stdout",
     "output_type": "stream",
     "text": [
      "manager\n",
      "content url http://192.168.99.119:9090/api/v1/query?query=avg_over_time(container_memory_usage_bytes%7Bcontainer_label_com_docker_swarm_node_id%3D~\"gobb5gs2ea0l3hqnqoo597rje\"%2C%20id%3D~\"%2Fdocker%2F.*\"%7D%5B5m%5D)%2F1024%2F1024&g0.tab=1\n",
      "http://192.168.99.119:9090/\n",
      "url http://192.168.99.119:9090/api/v1/query?query=avg_over_time(container_memory_usage_bytes%7Bcontainer_label_com_docker_swarm_node_id%3D~\"j4mij6hfk3pdl7igmt6jy0em3\"%2C%20id%3D~\"%2Fdocker%2F.*\"%7D%5B5m%5D)%2F1024%2F1024&g0.tab=1\n"
     ]
    },
    {
     "name": "stderr",
     "output_type": "stream",
     "text": [
      "[2022-02-24 11:00:51,693] ERROR in app: Exception on /getjson/ [GET]\n",
      "Traceback (most recent call last):\n",
      "  File \"/Users/anwar/opt/anaconda3/lib/python3.8/site-packages/flask/app.py\", line 2447, in wsgi_app\n",
      "    response = self.full_dispatch_request()\n",
      "  File \"/Users/anwar/opt/anaconda3/lib/python3.8/site-packages/flask/app.py\", line 1952, in full_dispatch_request\n",
      "    rv = self.handle_user_exception(e)\n",
      "  File \"/Users/anwar/opt/anaconda3/lib/python3.8/site-packages/flask_cors/extension.py\", line 165, in wrapped_function\n",
      "    return cors_after_request(app.make_response(f(*args, **kwargs)))\n",
      "  File \"/Users/anwar/opt/anaconda3/lib/python3.8/site-packages/flask_restful/__init__.py\", line 271, in error_router\n",
      "    return original_handler(e)\n",
      "  File \"/Users/anwar/opt/anaconda3/lib/python3.8/site-packages/flask/app.py\", line 1821, in handle_user_exception\n",
      "    reraise(exc_type, exc_value, tb)\n",
      "  File \"/Users/anwar/opt/anaconda3/lib/python3.8/site-packages/flask/_compat.py\", line 39, in reraise\n",
      "    raise value\n",
      "  File \"/Users/anwar/opt/anaconda3/lib/python3.8/site-packages/flask/app.py\", line 1950, in full_dispatch_request\n",
      "    rv = self.dispatch_request()\n",
      "  File \"/Users/anwar/opt/anaconda3/lib/python3.8/site-packages/flask/app.py\", line 1936, in dispatch_request\n",
      "    return self.view_functions[rule.endpoint](**req.view_args)\n",
      "  File \"<ipython-input-1-bb216e7d2d1c>\", line 37, in getjson\n",
      "    data = json.load(f)\n",
      "  File \"/Users/anwar/opt/anaconda3/lib/python3.8/json/__init__.py\", line 293, in load\n",
      "    return loads(fp.read(),\n",
      "  File \"/Users/anwar/opt/anaconda3/lib/python3.8/json/__init__.py\", line 357, in loads\n",
      "    return _default_decoder.decode(s)\n",
      "  File \"/Users/anwar/opt/anaconda3/lib/python3.8/json/decoder.py\", line 337, in decode\n",
      "    obj, end = self.raw_decode(s, idx=_w(s, 0).end())\n",
      "  File \"/Users/anwar/opt/anaconda3/lib/python3.8/json/decoder.py\", line 355, in raw_decode\n",
      "    raise JSONDecodeError(\"Expecting value\", s, err.value) from None\n",
      "json.decoder.JSONDecodeError: Expecting value: line 1 column 1 (char 0)\n",
      "127.0.0.1 - - [24/Feb/2022 11:00:51] \"\u001b[35m\u001b[1mGET /getjson/ HTTP/1.1\u001b[0m\" 500 -\n"
     ]
    },
    {
     "name": "stdout",
     "output_type": "stream",
     "text": [
      "url http://192.168.99.119:9090/api/v1/query?query=avg_over_time(container_memory_usage_bytes%7Bcontainer_label_com_docker_swarm_node_id%3D~\"ykueqwkeyy0whed9ar3eielhz\"%2C%20id%3D~\"%2Fdocker%2F.*\"%7D%5B5m%5D)%2F1024%2F1024&g0.tab=1\n",
      "[['ID', 'HOSTNAME', 'STATUS', 'AVAILABILITY', 'MANAGER', 'STATUS', 'ENGINE', 'VERSION'], ['gobb5gs2ea0l3hqnqoo597rje', 'manager', 'Ready', 'Active', 'Leader', '19.03.12'], ['j4mij6hfk3pdl7igmt6jy0em3', 'worker1', 'Ready', 'Active', '19.03.12'], ['ykueqwkeyy0whed9ar3eielhz', 'worker2', 'Ready', 'Active', '19.03.12']]"
     ]
    },
    {
     "name": "stderr",
     "output_type": "stream",
     "text": [
      "127.0.0.1 - - [24/Feb/2022 11:00:51] \"\u001b[37mGET /UpdateStatus/ HTTP/1.1\u001b[0m\" 200 -\n"
     ]
    },
    {
     "name": "stdout",
     "output_type": "stream",
     "text": [
      "\n",
      "Ready\n",
      "Ready\n",
      "Ready\n"
     ]
    },
    {
     "name": "stderr",
     "output_type": "stream",
     "text": [
      "127.0.0.1 - - [24/Feb/2022 11:00:52] \"\u001b[37mGET /getmem/ HTTP/1.1\u001b[0m\" 200 -\n",
      "127.0.0.1 - - [24/Feb/2022 11:00:58] \"\u001b[37mGET /getexectime/ HTTP/1.1\u001b[0m\" 200 -\n",
      "127.0.0.1 - - [24/Feb/2022 11:00:58] \"\u001b[37mPOST /geturl/ HTTP/1.1\u001b[0m\" 200 -\n",
      "127.0.0.1 - - [24/Feb/2022 11:00:59] \"\u001b[37mGET /getjson/ HTTP/1.1\u001b[0m\" 200 -\n"
     ]
    },
    {
     "name": "stdout",
     "output_type": "stream",
     "text": [
      "manager\n",
      "contenturl  http://192.168.99.119:9090/api/v1/query?query=avg_over_time(container_memory_usage_bytes%7Bcontainer_label_com_docker_swarm_node_id%3D~\"gobb5gs2ea0l3hqnqoo597rje\"%2C%20id%3D~\"%2Fdocker%2F.*\"%7D%5B5m%5D)%2F1024%2F1024&g0.tab=1\n",
      "http://192.168.99.119:9090/\n",
      "url http://192.168.99.119:9090/api/v1/query?query=avg_over_time(container_memory_usage_bytes%7Bcontainer_label_com_docker_swarm_node_id%3D~\"j4mij6hfk3pdl7igmt6jy0em3\"%2C%20id%3D~\"%2Fdocker%2F.*\"%7D%5B5m%5D)%2F1024%2F1024&g0.tab=1\n"
     ]
    },
    {
     "name": "stderr",
     "output_type": "stream",
     "text": [
      "127.0.0.1 - - [24/Feb/2022 11:00:59] \"\u001b[37mGET /UpdateStatus/ HTTP/1.1\u001b[0m\" 200 -\n"
     ]
    },
    {
     "name": "stdout",
     "output_type": "stream",
     "text": [
      "url http://192.168.99.119:9090/api/v1/query?query=avg_over_time(container_memory_usage_bytes%7Bcontainer_label_com_docker_swarm_node_id%3D~\"ykueqwkeyy0whed9ar3eielhz\"%2C%20id%3D~\"%2Fdocker%2F.*\"%7D%5B5m%5D)%2F1024%2F1024&g0.tab=1\n",
      "[['ID', 'HOSTNAME', 'STATUS', 'AVAILABILITY', 'MANAGER', 'STATUS', 'ENGINE', 'VERSION'], ['gobb5gs2ea0l3hqnqoo597rje', 'manager', 'Ready', 'Active', 'Leader', '19.03.12'], ['j4mij6hfk3pdl7igmt6jy0em3', 'worker1', 'Ready', 'Active', '19.03.12'], ['ykueqwkeyy0whed9ar3eielhz', 'worker2', 'Ready', 'Active', '19.03.12']]\n",
      "Ready\n",
      "Ready\n",
      "Ready\n"
     ]
    },
    {
     "name": "stderr",
     "output_type": "stream",
     "text": [
      "127.0.0.1 - - [24/Feb/2022 11:00:59] \"\u001b[37mGET /getmem/ HTTP/1.1\u001b[0m\" 200 -\n",
      "127.0.0.1 - - [24/Feb/2022 11:01:04] \"\u001b[37mPOST /geturl/ HTTP/1.1\u001b[0m\" 200 -\n",
      "127.0.0.1 - - [24/Feb/2022 11:01:04] \"\u001b[37mGET /getexectime/ HTTP/1.1\u001b[0m\" 200 -\n"
     ]
    },
    {
     "name": "stdout",
     "output_type": "stream",
     "text": [
      "manager\n",
      "contenturl http://192.168.99.119:9090/\n",
      " http://192.168.99.119:9090/api/v1/query?query=avg_over_time(container_memory_usage_bytes%7Bcontainer_label_com_docker_swarm_node_id%3D~\"gobb5gs2ea0l3hqnqoo597rje\"%2C%20id%3D~\"%2Fdocker%2F.*\"%7D%5B5m%5D)%2F1024%2F1024&g0.tab=1\n",
      "url http://192.168.99.119:9090/api/v1/query?query=avg_over_time(container_memory_usage_bytes%7Bcontainer_label_com_docker_swarm_node_id%3D~\"j4mij6hfk3pdl7igmt6jy0em3\"%2C%20id%3D~\"%2Fdocker%2F.*\"%7D%5B5m%5D)%2F1024%2F1024&g0.tab=1\n"
     ]
    },
    {
     "name": "stderr",
     "output_type": "stream",
     "text": [
      "127.0.0.1 - - [24/Feb/2022 11:01:04] \"\u001b[37mGET /getjson/ HTTP/1.1\u001b[0m\" 200 -\n",
      "127.0.0.1 - - [24/Feb/2022 11:01:04] \"\u001b[37mGET /UpdateStatus/ HTTP/1.1\u001b[0m\" 200 -\n"
     ]
    },
    {
     "name": "stdout",
     "output_type": "stream",
     "text": [
      "url http://192.168.99.119:9090/api/v1/query?query=avg_over_time(container_memory_usage_bytes%7Bcontainer_label_com_docker_swarm_node_id%3D~\"ykueqwkeyy0whed9ar3eielhz\"%2C%20id%3D~\"%2Fdocker%2F.*\"%7D%5B5m%5D)%2F1024%2F1024&g0.tab=1\n",
      "[['ID', 'HOSTNAME', 'STATUS', 'AVAILABILITY', 'MANAGER', 'STATUS', 'ENGINE', 'VERSION'], ['gobb5gs2ea0l3hqnqoo597rje', 'manager', 'Ready', 'Active', 'Leader', '19.03.12'], ['j4mij6hfk3pdl7igmt6jy0em3', 'worker1', 'Ready', 'Active', '19.03.12'], ['ykueqwkeyy0whed9ar3eielhz', 'worker2', 'Ready', 'Active', '19.03.12']]\n",
      "Ready\n",
      "Ready\n",
      "Ready\n"
     ]
    },
    {
     "name": "stderr",
     "output_type": "stream",
     "text": [
      "127.0.0.1 - - [24/Feb/2022 11:01:05] \"\u001b[37mGET /getmem/ HTTP/1.1\u001b[0m\" 200 -\n",
      "127.0.0.1 - - [24/Feb/2022 11:02:45] \"\u001b[37mGET /getjson/ HTTP/1.1\u001b[0m\" 200 -\n",
      "127.0.0.1 - - [24/Feb/2022 11:02:46] \"\u001b[37mPOST /geturl/ HTTP/1.1\u001b[0m\" 200 -\n",
      "127.0.0.1 - - [24/Feb/2022 11:02:46] \"\u001b[37mGET /getexectime/ HTTP/1.1\u001b[0m\" 200 -\n",
      "127.0.0.1 - - [24/Feb/2022 11:02:46] \"\u001b[37mGET /getjson/ HTTP/1.1\u001b[0m\" 200 -\n"
     ]
    },
    {
     "name": "stdout",
     "output_type": "stream",
     "text": [
      "manager\n",
      "contenturl http://192.168.99.119:9090/api/v1/query?query=avg_over_time(container_memory_usage_bytes%7Bcontainer_label_com_docker_swarm_node_id%3D~\"gobb5gs2ea0l3hqnqoo597rje\"%2C%20id%3D~\"%2Fdocker%2F.*\"%7D%5B5m%5D)%2F1024%2F1024&g0.tab=1\n",
      " http://192.168.99.119:9090/\n"
     ]
    },
    {
     "name": "stderr",
     "output_type": "stream",
     "text": [
      "127.0.0.1 - - [24/Feb/2022 11:02:46] \"\u001b[37mGET /UpdateStatus/ HTTP/1.1\u001b[0m\" 200 -\n"
     ]
    },
    {
     "name": "stdout",
     "output_type": "stream",
     "text": [
      "url http://192.168.99.119:9090/api/v1/query?query=avg_over_time(container_memory_usage_bytes%7Bcontainer_label_com_docker_swarm_node_id%3D~\"j4mij6hfk3pdl7igmt6jy0em3\"%2C%20id%3D~\"%2Fdocker%2F.*\"%7D%5B5m%5D)%2F1024%2F1024&g0.tab=1\n",
      "[['ID', 'HOSTNAME', 'STATUS', 'AVAILABILITY', 'MANAGER', 'STATUS', 'ENGINE', 'VERSION'], ['gobb5gs2ea0l3hqnqoo597rje', 'manager', 'Ready', 'Active', 'Leader', '19.03.12'], ['j4mij6hfk3pdl7igmt6jy0em3', 'worker1', 'Ready', 'Active', '19.03.12'], ['ykueqwkeyy0whed9ar3eielhz', 'worker2', 'Ready', 'Active', '19.03.12']]\n",
      "Ready\n",
      "Ready\n",
      "Ready\n",
      "url http://192.168.99.119:9090/api/v1/query?query=avg_over_time(container_memory_usage_bytes%7Bcontainer_label_com_docker_swarm_node_id%3D~\"ykueqwkeyy0whed9ar3eielhz\"%2C%20id%3D~\"%2Fdocker%2F.*\"%7D%5B5m%5D)%2F1024%2F1024&g0.tab=1\n"
     ]
    },
    {
     "name": "stderr",
     "output_type": "stream",
     "text": [
      "127.0.0.1 - - [24/Feb/2022 11:02:47] \"\u001b[37mGET /getmem/ HTTP/1.1\u001b[0m\" 200 -\n",
      "127.0.0.1 - - [24/Feb/2022 11:07:32] \"\u001b[37mGET /getjson/ HTTP/1.1\u001b[0m\" 200 -\n",
      "127.0.0.1 - - [24/Feb/2022 11:07:33] \"\u001b[37mPOST /geturl/ HTTP/1.1\u001b[0m\" 200 -\n",
      "127.0.0.1 - - [24/Feb/2022 11:07:33] \"\u001b[37mGET /getexectime/ HTTP/1.1\u001b[0m\" 200 -\n",
      "127.0.0.1 - - [24/Feb/2022 11:07:33] \"\u001b[37mGET /getjson/ HTTP/1.1\u001b[0m\" 200 -\n"
     ]
    },
    {
     "name": "stdout",
     "output_type": "stream",
     "text": [
      "manager\n",
      "content http://192.168.99.119:9090/\n",
      "url http://192.168.99.119:9090/api/v1/query?query=avg_over_time(container_memory_usage_bytes%7Bcontainer_label_com_docker_swarm_node_id%3D~\"gobb5gs2ea0l3hqnqoo597rje\"%2C%20id%3D~\"%2Fdocker%2F.*\"%7D%5B5m%5D)%2F1024%2F1024&g0.tab=1\n",
      "url http://192.168.99.119:9090/api/v1/query?query=avg_over_time(container_memory_usage_bytes%7Bcontainer_label_com_docker_swarm_node_id%3D~\"j4mij6hfk3pdl7igmt6jy0em3\"%2C%20id%3D~\"%2Fdocker%2F.*\"%7D%5B5m%5D)%2F1024%2F1024&g0.tab=1\n"
     ]
    },
    {
     "name": "stderr",
     "output_type": "stream",
     "text": [
      "127.0.0.1 - - [24/Feb/2022 11:07:33] \"\u001b[37mGET /UpdateStatus/ HTTP/1.1\u001b[0m\" 200 -\n"
     ]
    },
    {
     "name": "stdout",
     "output_type": "stream",
     "text": [
      "url http://192.168.99.119:9090/api/v1/query?query=avg_over_time(container_memory_usage_bytes%7Bcontainer_label_com_docker_swarm_node_id%3D~\"ykueqwkeyy0whed9ar3eielhz\"%2C%20id%3D~\"%2Fdocker%2F.*\"%7D%5B5m%5D)%2F1024%2F1024&g0.tab=1\n",
      "[['ID', 'HOSTNAME', 'STATUS', 'AVAILABILITY', 'MANAGER', 'STATUS', 'ENGINE', 'VERSION'], ['gobb5gs2ea0l3hqnqoo597rje', 'manager', 'Ready', 'Active', 'Leader', '19.03.12'], ['j4mij6hfk3pdl7igmt6jy0em3', 'worker1', 'Ready', 'Active', '19.03.12'], ['ykueqwkeyy0whed9ar3eielhz', 'worker2', 'Ready', 'Active', '19.03.12']]\n",
      "Ready\n",
      "Ready\n",
      "Ready\n"
     ]
    },
    {
     "name": "stderr",
     "output_type": "stream",
     "text": [
      "127.0.0.1 - - [24/Feb/2022 11:07:34] \"\u001b[37mGET /getmem/ HTTP/1.1\u001b[0m\" 200 -\n",
      "127.0.0.1 - - [24/Feb/2022 11:09:06] \"\u001b[37mPOST /geturl/ HTTP/1.1\u001b[0m\" 200 -\n",
      "127.0.0.1 - - [24/Feb/2022 11:09:06] \"\u001b[37mGET /getexectime/ HTTP/1.1\u001b[0m\" 200 -\n"
     ]
    },
    {
     "name": "stdout",
     "output_type": "stream",
     "text": [
      "manager\n",
      "content http://192.168.99.119:9090/\n",
      "url http://192.168.99.119:9090/api/v1/query?query=avg_over_time(container_memory_usage_bytes%7Bcontainer_label_com_docker_swarm_node_id%3D~\"gobb5gs2ea0l3hqnqoo597rje\"%2C%20id%3D~\"%2Fdocker%2F.*\"%7D%5B5m%5D)%2F1024%2F1024&g0.tab=1\n",
      "url http://192.168.99.119:9090/api/v1/query?query=avg_over_time(container_memory_usage_bytes%7Bcontainer_label_com_docker_swarm_node_id%3D~\"j4mij6hfk3pdl7igmt6jy0em3\"%2C%20id%3D~\"%2Fdocker%2F.*\"%7D%5B5m%5D)%2F1024%2F1024&g0.tab=1\n"
     ]
    },
    {
     "name": "stderr",
     "output_type": "stream",
     "text": [
      "127.0.0.1 - - [24/Feb/2022 11:09:06] \"\u001b[37mGET /getjson/ HTTP/1.1\u001b[0m\" 200 -\n",
      "127.0.0.1 - - [24/Feb/2022 11:09:06] \"\u001b[37mGET /UpdateStatus/ HTTP/1.1\u001b[0m\" 200 -\n"
     ]
    },
    {
     "name": "stdout",
     "output_type": "stream",
     "text": [
      "url http://192.168.99.119:9090/api/v1/query?query=avg_over_time(container_memory_usage_bytes%7Bcontainer_label_com_docker_swarm_node_id%3D~\"ykueqwkeyy0whed9ar3eielhz\"%2C%20id%3D~\"%2Fdocker%2F.*\"%7D%5B5m%5D)%2F1024%2F1024&g0.tab=1\n",
      "[['ID', 'HOSTNAME', 'STATUS', 'AVAILABILITY', 'MANAGER', 'STATUS', 'ENGINE', 'VERSION'], ['gobb5gs2ea0l3hqnqoo597rje', 'manager', 'Ready', 'Active', 'Leader', '19.03.12'], ['j4mij6hfk3pdl7igmt6jy0em3', 'worker1', 'Ready', 'Active', '19.03.12'], ['ykueqwkeyy0whed9ar3eielhz', 'worker2', 'Ready', 'Active', '19.03.12']]\n",
      "Ready\n",
      "Ready\n",
      "Ready\n"
     ]
    },
    {
     "name": "stderr",
     "output_type": "stream",
     "text": [
      "127.0.0.1 - - [24/Feb/2022 11:09:07] \"\u001b[37mGET /getmem/ HTTP/1.1\u001b[0m\" 200 -\n",
      "127.0.0.1 - - [24/Feb/2022 11:09:24] \"\u001b[37mPOST /geturl/ HTTP/1.1\u001b[0m\" 200 -\n",
      "127.0.0.1 - - [24/Feb/2022 11:09:24] \"\u001b[37mGET /getexectime/ HTTP/1.1\u001b[0m\" 200 -\n"
     ]
    },
    {
     "name": "stdout",
     "output_type": "stream",
     "text": [
      "manager\n",
      "content http://192.168.99.119:9090/\n",
      "url http://192.168.99.119:9090/api/v1/query?query=avg_over_time(container_memory_usage_bytes%7Bcontainer_label_com_docker_swarm_node_id%3D~\"gobb5gs2ea0l3hqnqoo597rje\"%2C%20id%3D~\"%2Fdocker%2F.*\"%7D%5B5m%5D)%2F1024%2F1024&g0.tab=1\n",
      "url http://192.168.99.119:9090/api/v1/query?query=avg_over_time(container_memory_usage_bytes%7Bcontainer_label_com_docker_swarm_node_id%3D~\"j4mij6hfk3pdl7igmt6jy0em3\"%2C%20id%3D~\"%2Fdocker%2F.*\"%7D%5B5m%5D)%2F1024%2F1024&g0.tab=1\n"
     ]
    },
    {
     "name": "stderr",
     "output_type": "stream",
     "text": [
      "127.0.0.1 - - [24/Feb/2022 11:09:25] \"\u001b[37mGET /getjson/ HTTP/1.1\u001b[0m\" 200 -\n"
     ]
    },
    {
     "name": "stdout",
     "output_type": "stream",
     "text": [
      "url http://192.168.99.119:9090/api/v1/query?query=avg_over_time(container_memory_usage_bytes%7Bcontainer_label_com_docker_swarm_node_id%3D~\"ykueqwkeyy0whed9ar3eielhz\"%2C%20id%3D~\"%2Fdocker%2F.*\"%7D%5B5m%5D)%2F1024%2F1024&g0.tab=1\n"
     ]
    },
    {
     "name": "stderr",
     "output_type": "stream",
     "text": [
      "127.0.0.1 - - [24/Feb/2022 11:09:25] \"\u001b[37mGET /UpdateStatus/ HTTP/1.1\u001b[0m\" 200 -\n"
     ]
    },
    {
     "name": "stdout",
     "output_type": "stream",
     "text": [
      "[['ID', 'HOSTNAME', 'STATUS', 'AVAILABILITY', 'MANAGER', 'STATUS', 'ENGINE', 'VERSION'], ['gobb5gs2ea0l3hqnqoo597rje', 'manager', 'Ready', 'Active', 'Leader', '19.03.12'], ['j4mij6hfk3pdl7igmt6jy0em3', 'worker1', 'Ready', 'Active', '19.03.12'], ['ykueqwkeyy0whed9ar3eielhz', 'worker2', 'Ready', 'Active', '19.03.12']]\n",
      "Ready\n",
      "Ready\n",
      "Ready\n"
     ]
    },
    {
     "name": "stderr",
     "output_type": "stream",
     "text": [
      "127.0.0.1 - - [24/Feb/2022 11:09:25] \"\u001b[37mGET /getmem/ HTTP/1.1\u001b[0m\" 200 -\n",
      "127.0.0.1 - - [24/Feb/2022 11:09:31] \"\u001b[37mPOST /geturl/ HTTP/1.1\u001b[0m\" 200 -\n",
      "127.0.0.1 - - [24/Feb/2022 11:09:31] \"\u001b[37mGET /getexectime/ HTTP/1.1\u001b[0m\" 200 -\n",
      "127.0.0.1 - - [24/Feb/2022 11:09:31] \"\u001b[37mGET /getjson/ HTTP/1.1\u001b[0m\" 200 -\n"
     ]
    },
    {
     "name": "stdout",
     "output_type": "stream",
     "text": [
      "manager\n",
      "content http://192.168.99.119:9090/\n",
      "url http://192.168.99.119:9090/api/v1/query?query=avg_over_time(container_memory_usage_bytes%7Bcontainer_label_com_docker_swarm_node_id%3D~\"gobb5gs2ea0l3hqnqoo597rje\"%2C%20id%3D~\"%2Fdocker%2F.*\"%7D%5B5m%5D)%2F1024%2F1024&g0.tab=1\n",
      "url http://192.168.99.119:9090/api/v1/query?query=avg_over_time(container_memory_usage_bytes%7Bcontainer_label_com_docker_swarm_node_id%3D~\"j4mij6hfk3pdl7igmt6jy0em3\"%2C%20id%3D~\"%2Fdocker%2F.*\"%7D%5B5m%5D)%2F1024%2F1024&g0.tab=1\n",
      "url http://192.168.99.119:9090/api/v1/query?query=avg_over_time(container_memory_usage_bytes%7Bcontainer_label_com_docker_swarm_node_id%3D~\"ykueqwkeyy0whed9ar3eielhz\"%2C%20id%3D~\"%2Fdocker%2F.*\"%7D%5B5m%5D)%2F1024%2F1024&g0.tab=1\n"
     ]
    },
    {
     "name": "stderr",
     "output_type": "stream",
     "text": [
      "127.0.0.1 - - [24/Feb/2022 11:09:31] \"\u001b[37mGET /UpdateStatus/ HTTP/1.1\u001b[0m\" 200 -\n"
     ]
    },
    {
     "name": "stdout",
     "output_type": "stream",
     "text": [
      "[['ID', 'HOSTNAME', 'STATUS', 'AVAILABILITY', 'MANAGER', 'STATUS', 'ENGINE', 'VERSION'], ['gobb5gs2ea0l3hqnqoo597rje', 'manager', 'Ready', 'Active', 'Leader', '19.03.12'], ['j4mij6hfk3pdl7igmt6jy0em3', 'worker1', 'Ready', 'Active', '19.03.12'], ['ykueqwkeyy0whed9ar3eielhz', 'worker2', 'Ready', 'Active', '19.03.12']]\n",
      "Ready\n",
      "Ready\n",
      "Ready\n"
     ]
    },
    {
     "name": "stderr",
     "output_type": "stream",
     "text": [
      "127.0.0.1 - - [24/Feb/2022 11:09:32] \"\u001b[37mGET /getmem/ HTTP/1.1\u001b[0m\" 200 -\n",
      "127.0.0.1 - - [24/Feb/2022 11:20:57] \"\u001b[37mPOST /geturl/ HTTP/1.1\u001b[0m\" 200 -\n",
      "127.0.0.1 - - [24/Feb/2022 11:20:57] \"\u001b[37mGET /getexectime/ HTTP/1.1\u001b[0m\" 200 -\n"
     ]
    },
    {
     "name": "stdout",
     "output_type": "stream",
     "text": [
      "managercontent http://192.168.99.119:9090/\n",
      "\n",
      "url http://192.168.99.119:9090/api/v1/query?query=avg_over_time(container_memory_usage_bytes%7Bcontainer_label_com_docker_swarm_node_id%3D~\"gobb5gs2ea0l3hqnqoo597rje\"%2C%20id%3D~\"%2Fdocker%2F.*\"%7D%5B5m%5D)%2F1024%2F1024&g0.tab=1\n",
      "url http://192.168.99.119:9090/api/v1/query?query=avg_over_time(container_memory_usage_bytes%7Bcontainer_label_com_docker_swarm_node_id%3D~\"j4mij6hfk3pdl7igmt6jy0em3\"%2C%20id%3D~\"%2Fdocker%2F.*\"%7D%5B5m%5D)%2F1024%2F1024&g0.tab=1\n",
      "url http://192.168.99.119:9090/api/v1/query?query=avg_over_time(container_memory_usage_bytes%7Bcontainer_label_com_docker_swarm_node_id%3D~\"ykueqwkeyy0whed9ar3eielhz\"%2C%20id%3D~\"%2Fdocker%2F.*\"%7D%5B5m%5D)%2F1024%2F1024&g0.tab=1\n"
     ]
    },
    {
     "name": "stderr",
     "output_type": "stream",
     "text": [
      "127.0.0.1 - - [24/Feb/2022 11:20:57] \"\u001b[37mGET /getjson/ HTTP/1.1\u001b[0m\" 200 -\n",
      "127.0.0.1 - - [24/Feb/2022 11:20:57] \"\u001b[37mGET /UpdateStatus/ HTTP/1.1\u001b[0m\" 200 -\n"
     ]
    },
    {
     "name": "stdout",
     "output_type": "stream",
     "text": [
      "[['ID', 'HOSTNAME', 'STATUS', 'AVAILABILITY', 'MANAGER', 'STATUS', 'ENGINE', 'VERSION'], ['gobb5gs2ea0l3hqnqoo597rje', 'manager', 'Ready', 'Active', 'Leader', '19.03.12'], ['j4mij6hfk3pdl7igmt6jy0em3', 'worker1', 'Ready', 'Active', '19.03.12'], ['ykueqwkeyy0whed9ar3eielhz', 'worker2', 'Ready', 'Active', '19.03.12']]\n",
      "Ready\n",
      "Ready\n",
      "Ready\n"
     ]
    },
    {
     "name": "stderr",
     "output_type": "stream",
     "text": [
      "127.0.0.1 - - [24/Feb/2022 11:20:58] \"\u001b[37mGET /getmem/ HTTP/1.1\u001b[0m\" 200 -\n",
      "127.0.0.1 - - [24/Feb/2022 11:23:36] \"\u001b[37mGET /getjson/ HTTP/1.1\u001b[0m\" 200 -\n",
      "127.0.0.1 - - [24/Feb/2022 11:23:36] \"\u001b[37mPOST /geturl/ HTTP/1.1\u001b[0m\" 200 -\n",
      "127.0.0.1 - - [24/Feb/2022 11:23:36] \"\u001b[37mGET /getexectime/ HTTP/1.1\u001b[0m\" 200 -\n",
      "127.0.0.1 - - [24/Feb/2022 11:23:36] \"\u001b[37mGET /getjson/ HTTP/1.1\u001b[0m\" 200 -\n"
     ]
    },
    {
     "name": "stdout",
     "output_type": "stream",
     "text": [
      "manager\n",
      "content http://192.168.99.119:9090/url\n",
      " http://192.168.99.119:9090/api/v1/query?query=avg_over_time(container_memory_usage_bytes%7Bcontainer_label_com_docker_swarm_node_id%3D~\"gobb5gs2ea0l3hqnqoo597rje\"%2C%20id%3D~\"%2Fdocker%2F.*\"%7D%5B5m%5D)%2F1024%2F1024&g0.tab=1\n",
      "url http://192.168.99.119:9090/api/v1/query?query=avg_over_time(container_memory_usage_bytes%7Bcontainer_label_com_docker_swarm_node_id%3D~\"j4mij6hfk3pdl7igmt6jy0em3\"%2C%20id%3D~\"%2Fdocker%2F.*\"%7D%5B5m%5D)%2F1024%2F1024&g0.tab=1\n"
     ]
    },
    {
     "name": "stderr",
     "output_type": "stream",
     "text": [
      "127.0.0.1 - - [24/Feb/2022 11:23:37] \"\u001b[37mGET /UpdateStatus/ HTTP/1.1\u001b[0m\" 200 -\n"
     ]
    },
    {
     "name": "stdout",
     "output_type": "stream",
     "text": [
      "url http://192.168.99.119:9090/api/v1/query?query=avg_over_time(container_memory_usage_bytes%7Bcontainer_label_com_docker_swarm_node_id%3D~\"ykueqwkeyy0whed9ar3eielhz\"%2C%20id%3D~\"%2Fdocker%2F.*\"%7D%5B5m%5D)%2F1024%2F1024&g0.tab=1\n",
      "[['ID', 'HOSTNAME', 'STATUS', 'AVAILABILITY', 'MANAGER', 'STATUS', 'ENGINE', 'VERSION'], ['gobb5gs2ea0l3hqnqoo597rje', 'manager', 'Ready', 'Active', 'Leader', '19.03.12'], ['j4mij6hfk3pdl7igmt6jy0em3', 'worker1', 'Ready', 'Active', '19.03.12'], ['ykueqwkeyy0whed9ar3eielhz', 'worker2', 'Ready', 'Active', '19.03.12']]\n",
      "Ready\n",
      "Ready\n",
      "Ready\n"
     ]
    },
    {
     "name": "stderr",
     "output_type": "stream",
     "text": [
      "127.0.0.1 - - [24/Feb/2022 11:23:37] \"\u001b[37mGET /getmem/ HTTP/1.1\u001b[0m\" 200 -\n",
      "127.0.0.1 - - [24/Feb/2022 11:31:48] \"\u001b[37mGET /getjson/ HTTP/1.1\u001b[0m\" 200 -\n",
      "127.0.0.1 - - [24/Feb/2022 11:31:49] \"\u001b[37mPOST /geturl/ HTTP/1.1\u001b[0m\" 200 -\n",
      "127.0.0.1 - - [24/Feb/2022 11:31:49] \"\u001b[37mGET /getexectime/ HTTP/1.1\u001b[0m\" 200 -\n",
      "127.0.0.1 - - [24/Feb/2022 11:31:49] \"\u001b[37mGET /getjson/ HTTP/1.1\u001b[0m\" 200 -\n"
     ]
    },
    {
     "name": "stdout",
     "output_type": "stream",
     "text": [
      "manager\n",
      "contenturl http://192.168.99.119:9090/ http://192.168.99.119:9090/api/v1/query?query=avg_over_time(container_memory_usage_bytes%7Bcontainer_label_com_docker_swarm_node_id%3D~\"gobb5gs2ea0l3hqnqoo597rje\"%2C%20id%3D~\"%2Fdocker%2F.*\"%7D%5B5m%5D)%2F1024%2F1024&g0.tab=1\n",
      "\n"
     ]
    },
    {
     "name": "stderr",
     "output_type": "stream",
     "text": [
      "127.0.0.1 - - [24/Feb/2022 11:31:49] \"\u001b[37mGET /UpdateStatus/ HTTP/1.1\u001b[0m\" 200 -\n"
     ]
    },
    {
     "name": "stdout",
     "output_type": "stream",
     "text": [
      "url http://192.168.99.119:9090/api/v1/query?query=avg_over_time(container_memory_usage_bytes%7Bcontainer_label_com_docker_swarm_node_id%3D~\"j4mij6hfk3pdl7igmt6jy0em3\"%2C%20id%3D~\"%2Fdocker%2F.*\"%7D%5B5m%5D)%2F1024%2F1024&g0.tab=1\n",
      "[['ID', 'HOSTNAME', 'STATUS', 'AVAILABILITY', 'MANAGER', 'STATUS', 'ENGINE', 'VERSION'], ['gobb5gs2ea0l3hqnqoo597rje', 'manager', 'Ready', 'Active', 'Leader', '19.03.12'], ['j4mij6hfk3pdl7igmt6jy0em3', 'worker1', 'Ready', 'Active', '19.03.12'], ['ykueqwkeyy0whed9ar3eielhz', 'worker2', 'Ready', 'Active', '19.03.12']]\n",
      "Ready\n",
      "Ready\n",
      "Ready\n",
      "url http://192.168.99.119:9090/api/v1/query?query=avg_over_time(container_memory_usage_bytes%7Bcontainer_label_com_docker_swarm_node_id%3D~\"ykueqwkeyy0whed9ar3eielhz\"%2C%20id%3D~\"%2Fdocker%2F.*\"%7D%5B5m%5D)%2F1024%2F1024&g0.tab=1\n"
     ]
    },
    {
     "name": "stderr",
     "output_type": "stream",
     "text": [
      "127.0.0.1 - - [24/Feb/2022 11:31:50] \"\u001b[37mGET /getmem/ HTTP/1.1\u001b[0m\" 200 -\n",
      "127.0.0.1 - - [24/Feb/2022 11:32:05] \"\u001b[37mGET /getjson/ HTTP/1.1\u001b[0m\" 200 -\n",
      "127.0.0.1 - - [24/Feb/2022 11:32:07] \"\u001b[37mPOST /geturl/ HTTP/1.1\u001b[0m\" 200 -\n",
      "127.0.0.1 - - [24/Feb/2022 11:32:07] \"\u001b[37mGET /getexectime/ HTTP/1.1\u001b[0m\" 200 -\n",
      "127.0.0.1 - - [24/Feb/2022 11:32:07] \"\u001b[37mGET /getjson/ HTTP/1.1\u001b[0m\" 200 -\n"
     ]
    },
    {
     "name": "stdout",
     "output_type": "stream",
     "text": [
      "manager\n",
      "content http://192.168.99.119:9090/\n",
      "url http://192.168.99.119:9090/api/v1/query?query=avg_over_time(container_memory_usage_bytes%7Bcontainer_label_com_docker_swarm_node_id%3D~\"gobb5gs2ea0l3hqnqoo597rje\"%2C%20id%3D~\"%2Fdocker%2F.*\"%7D%5B5m%5D)%2F1024%2F1024&g0.tab=1\n"
     ]
    },
    {
     "name": "stderr",
     "output_type": "stream",
     "text": [
      "127.0.0.1 - - [24/Feb/2022 11:32:07] \"\u001b[37mGET /UpdateStatus/ HTTP/1.1\u001b[0m\" 200 -\n"
     ]
    },
    {
     "name": "stdout",
     "output_type": "stream",
     "text": [
      "url http://192.168.99.119:9090/api/v1/query?query=avg_over_time(container_memory_usage_bytes%7Bcontainer_label_com_docker_swarm_node_id%3D~\"j4mij6hfk3pdl7igmt6jy0em3\"%2C%20id%3D~\"%2Fdocker%2F.*\"%7D%5B5m%5D)%2F1024%2F1024&g0.tab=1\n",
      "[['ID', 'HOSTNAME', 'STATUS', 'AVAILABILITY', 'MANAGER', 'STATUS', 'ENGINE', 'VERSION'], ['gobb5gs2ea0l3hqnqoo597rje', 'manager', 'Ready', 'Active', 'Leader', '19.03.12'], ['j4mij6hfk3pdl7igmt6jy0em3', 'worker1', 'Ready', 'Active', '19.03.12'], ['ykueqwkeyy0whed9ar3eielhz', 'worker2', 'Ready', 'Active', '19.03.12']]\n",
      "Ready\n",
      "Ready\n",
      "Ready\n",
      "url http://192.168.99.119:9090/api/v1/query?query=avg_over_time(container_memory_usage_bytes%7Bcontainer_label_com_docker_swarm_node_id%3D~\"ykueqwkeyy0whed9ar3eielhz\"%2C%20id%3D~\"%2Fdocker%2F.*\"%7D%5B5m%5D)%2F1024%2F1024&g0.tab=1\n"
     ]
    },
    {
     "name": "stderr",
     "output_type": "stream",
     "text": [
      "127.0.0.1 - - [24/Feb/2022 11:32:08] \"\u001b[37mGET /getmem/ HTTP/1.1\u001b[0m\" 200 -\n",
      "127.0.0.1 - - [24/Feb/2022 11:39:51] \"\u001b[37mPOST /geturl/ HTTP/1.1\u001b[0m\" 200 -\n",
      "127.0.0.1 - - [24/Feb/2022 11:39:51] \"\u001b[37mGET /getexectime/ HTTP/1.1\u001b[0m\" 200 -\n"
     ]
    },
    {
     "name": "stdout",
     "output_type": "stream",
     "text": [
      "managercontent\n",
      " http://192.168.99.119:9090/\n",
      "url http://192.168.99.119:9090/api/v1/query?query=avg_over_time(container_memory_usage_bytes%7Bcontainer_label_com_docker_swarm_node_id%3D~\"gobb5gs2ea0l3hqnqoo597rje\"%2C%20id%3D~\"%2Fdocker%2F.*\"%7D%5B5m%5D)%2F1024%2F1024&g0.tab=1\n"
     ]
    },
    {
     "name": "stderr",
     "output_type": "stream",
     "text": [
      "127.0.0.1 - - [24/Feb/2022 11:39:51] \"\u001b[37mGET /getjson/ HTTP/1.1\u001b[0m\" 200 -\n"
     ]
    },
    {
     "name": "stdout",
     "output_type": "stream",
     "text": [
      "url http://192.168.99.119:9090/api/v1/query?query=avg_over_time(container_memory_usage_bytes%7Bcontainer_label_com_docker_swarm_node_id%3D~\"j4mij6hfk3pdl7igmt6jy0em3\"%2C%20id%3D~\"%2Fdocker%2F.*\"%7D%5B5m%5D)%2F1024%2F1024&g0.tab=1\n"
     ]
    },
    {
     "name": "stderr",
     "output_type": "stream",
     "text": [
      "127.0.0.1 - - [24/Feb/2022 11:39:52] \"\u001b[37mGET /UpdateStatus/ HTTP/1.1\u001b[0m\" 200 -\n"
     ]
    },
    {
     "name": "stdout",
     "output_type": "stream",
     "text": [
      "[['ID', 'HOSTNAME', 'STATUS', 'AVAILABILITY', 'MANAGER', 'STATUS', 'ENGINE', 'VERSION'], ['gobb5gs2ea0l3hqnqoo597rje', 'manager', 'Ready', 'Active', 'Leader', '19.03.12'], ['j4mij6hfk3pdl7igmt6jy0em3', 'worker1', 'Ready', 'Active', '19.03.12'], ['ykueqwkeyy0whed9ar3eielhz', 'worker2', 'Ready', 'Active', '19.03.12']]\n",
      "Ready\n",
      "Ready\n",
      "Ready\n",
      "url http://192.168.99.119:9090/api/v1/query?query=avg_over_time(container_memory_usage_bytes%7Bcontainer_label_com_docker_swarm_node_id%3D~\"ykueqwkeyy0whed9ar3eielhz\"%2C%20id%3D~\"%2Fdocker%2F.*\"%7D%5B5m%5D)%2F1024%2F1024&g0.tab=1\n"
     ]
    },
    {
     "name": "stderr",
     "output_type": "stream",
     "text": [
      "127.0.0.1 - - [24/Feb/2022 11:39:52] \"\u001b[37mGET /getmem/ HTTP/1.1\u001b[0m\" 200 -\n",
      "127.0.0.1 - - [24/Feb/2022 11:42:48] \"\u001b[37mPOST /geturl/ HTTP/1.1\u001b[0m\" 200 -\n",
      "127.0.0.1 - - [24/Feb/2022 11:42:48] \"\u001b[37mGET /getexectime/ HTTP/1.1\u001b[0m\" 200 -\n"
     ]
    },
    {
     "name": "stdout",
     "output_type": "stream",
     "text": [
      "managercontent\n",
      "url  http://192.168.99.119:9090/http://192.168.99.119:9090/api/v1/query?query=avg_over_time(container_memory_usage_bytes%7Bcontainer_label_com_docker_swarm_node_id%3D~\"gobb5gs2ea0l3hqnqoo597rje\"%2C%20id%3D~\"%2Fdocker%2F.*\"%7D%5B5m%5D)%2F1024%2F1024&g0.tab=1\n",
      "\n"
     ]
    },
    {
     "name": "stderr",
     "output_type": "stream",
     "text": [
      "127.0.0.1 - - [24/Feb/2022 11:42:48] \"\u001b[37mGET /getjson/ HTTP/1.1\u001b[0m\" 200 -\n"
     ]
    },
    {
     "name": "stdout",
     "output_type": "stream",
     "text": [
      "url http://192.168.99.119:9090/api/v1/query?query=avg_over_time(container_memory_usage_bytes%7Bcontainer_label_com_docker_swarm_node_id%3D~\"j4mij6hfk3pdl7igmt6jy0em3\"%2C%20id%3D~\"%2Fdocker%2F.*\"%7D%5B5m%5D)%2F1024%2F1024&g0.tab=1\n"
     ]
    },
    {
     "name": "stderr",
     "output_type": "stream",
     "text": [
      "127.0.0.1 - - [24/Feb/2022 11:42:48] \"\u001b[37mGET /UpdateStatus/ HTTP/1.1\u001b[0m\" 200 -\n"
     ]
    },
    {
     "name": "stdout",
     "output_type": "stream",
     "text": [
      "url http://192.168.99.119:9090/api/v1/query?query=avg_over_time(container_memory_usage_bytes%7Bcontainer_label_com_docker_swarm_node_id%3D~\"ykueqwkeyy0whed9ar3eielhz\"%2C%20id%3D~\"%2Fdocker%2F.*\"%7D%5B5m%5D)%2F1024%2F1024&g0.tab=1\n",
      "[['ID', 'HOSTNAME', 'STATUS', 'AVAILABILITY', 'MANAGER', 'STATUS', 'ENGINE', 'VERSION'], ['gobb5gs2ea0l3hqnqoo597rje', 'manager', 'Ready', 'Active', 'Leader', '19.03.12'], ['j4mij6hfk3pdl7igmt6jy0em3', 'worker1', 'Ready', 'Active', '19.03.12'], ['ykueqwkeyy0whed9ar3eielhz', 'worker2', 'Ready', 'Active', '19.03.12']]\n",
      "Ready\n",
      "Ready\n",
      "Ready\n"
     ]
    },
    {
     "name": "stderr",
     "output_type": "stream",
     "text": [
      "127.0.0.1 - - [24/Feb/2022 11:42:49] \"\u001b[37mGET /getmem/ HTTP/1.1\u001b[0m\" 200 -\n",
      "127.0.0.1 - - [24/Feb/2022 11:43:38] \"\u001b[37mGET /getjson/ HTTP/1.1\u001b[0m\" 200 -\n",
      "127.0.0.1 - - [24/Feb/2022 11:43:39] \"\u001b[37mPOST /geturl/ HTTP/1.1\u001b[0m\" 200 -\n",
      "127.0.0.1 - - [24/Feb/2022 11:43:39] \"\u001b[37mGET /getexectime/ HTTP/1.1\u001b[0m\" 200 -\n",
      "127.0.0.1 - - [24/Feb/2022 11:43:39] \"\u001b[37mGET /getjson/ HTTP/1.1\u001b[0m\" 200 -\n"
     ]
    },
    {
     "name": "stdout",
     "output_type": "stream",
     "text": [
      "manager\n",
      "content http://192.168.99.119:9090/\n",
      "url http://192.168.99.119:9090/api/v1/query?query=avg_over_time(container_memory_usage_bytes%7Bcontainer_label_com_docker_swarm_node_id%3D~\"gobb5gs2ea0l3hqnqoo597rje\"%2C%20id%3D~\"%2Fdocker%2F.*\"%7D%5B5m%5D)%2F1024%2F1024&g0.tab=1\n"
     ]
    },
    {
     "name": "stderr",
     "output_type": "stream",
     "text": [
      "127.0.0.1 - - [24/Feb/2022 11:43:39] \"\u001b[37mGET /UpdateStatus/ HTTP/1.1\u001b[0m\" 200 -\n"
     ]
    },
    {
     "name": "stdout",
     "output_type": "stream",
     "text": [
      "[['ID', 'HOSTNAME', 'STATUS', 'AVAILABILITY', 'MANAGER', 'STATUS', 'ENGINE', 'VERSION'], ['gobb5gs2ea0l3hqnqoo597rje', 'manager', 'Ready', 'Active', 'Leader', '19.03.12'], ['j4mij6hfk3pdl7igmt6jy0em3', 'worker1', 'Ready', 'Active', '19.03.12'], ['ykueqwkeyy0whed9ar3eielhz', 'worker2', 'Ready', 'Active', '19.03.12']]\n",
      "Ready\n",
      "Ready\n",
      "Ready\n",
      "url http://192.168.99.119:9090/api/v1/query?query=avg_over_time(container_memory_usage_bytes%7Bcontainer_label_com_docker_swarm_node_id%3D~\"j4mij6hfk3pdl7igmt6jy0em3\"%2C%20id%3D~\"%2Fdocker%2F.*\"%7D%5B5m%5D)%2F1024%2F1024&g0.tab=1\n",
      "url http://192.168.99.119:9090/api/v1/query?query=avg_over_time(container_memory_usage_bytes%7Bcontainer_label_com_docker_swarm_node_id%3D~\"ykueqwkeyy0whed9ar3eielhz\"%2C%20id%3D~\"%2Fdocker%2F.*\"%7D%5B5m%5D)%2F1024%2F1024&g0.tab=1\n"
     ]
    },
    {
     "name": "stderr",
     "output_type": "stream",
     "text": [
      "127.0.0.1 - - [24/Feb/2022 11:43:40] \"\u001b[37mGET /getmem/ HTTP/1.1\u001b[0m\" 200 -\n",
      "127.0.0.1 - - [24/Feb/2022 11:43:58] \"\u001b[37mGET /getjson/ HTTP/1.1\u001b[0m\" 200 -\n",
      "127.0.0.1 - - [24/Feb/2022 11:43:58] \"\u001b[37mPOST /geturl/ HTTP/1.1\u001b[0m\" 200 -\n",
      "127.0.0.1 - - [24/Feb/2022 11:43:58] \"\u001b[37mGET /getexectime/ HTTP/1.1\u001b[0m\" 200 -\n"
     ]
    },
    {
     "name": "stdout",
     "output_type": "stream",
     "text": [
      "manager\n",
      "urlcontent http://192.168.99.119:9090/\n",
      " http://192.168.99.119:9090/api/v1/query?query=avg_over_time(container_memory_usage_bytes%7Bcontainer_label_com_docker_swarm_node_id%3D~\"gobb5gs2ea0l3hqnqoo597rje\"%2C%20id%3D~\"%2Fdocker%2F.*\"%7D%5B5m%5D)%2F1024%2F1024&g0.tab=1\n",
      "url http://192.168.99.119:9090/api/v1/query?query=avg_over_time(container_memory_usage_bytes%7Bcontainer_label_com_docker_swarm_node_id%3D~\"j4mij6hfk3pdl7igmt6jy0em3\"%2C%20id%3D~\"%2Fdocker%2F.*\"%7D%5B5m%5D)%2F1024%2F1024&g0.tab=1\n"
     ]
    },
    {
     "name": "stderr",
     "output_type": "stream",
     "text": [
      "127.0.0.1 - - [24/Feb/2022 11:43:59] \"\u001b[37mGET /getjson/ HTTP/1.1\u001b[0m\" 200 -\n",
      "127.0.0.1 - - [24/Feb/2022 11:43:59] \"\u001b[37mGET /UpdateStatus/ HTTP/1.1\u001b[0m\" 200 -\n"
     ]
    },
    {
     "name": "stdout",
     "output_type": "stream",
     "text": [
      "[['ID', 'HOSTNAME', 'STATUS', 'AVAILABILITY', 'MANAGER', 'STATUS', 'ENGINE', 'VERSION'], ['gobb5gs2ea0l3hqnqoo597rje', 'manager', 'Ready', 'Active', 'Leader', '19.03.12'], ['j4mij6hfk3pdl7igmt6jy0em3', 'worker1', 'Ready', 'Active', '19.03.12'], ['ykueqwkeyy0whed9ar3eielhz', 'worker2', 'Ready', 'Active', '19.03.12']]\n",
      "Ready\n",
      "Ready\n",
      "Ready\n",
      "url http://192.168.99.119:9090/api/v1/query?query=avg_over_time(container_memory_usage_bytes%7Bcontainer_label_com_docker_swarm_node_id%3D~\"ykueqwkeyy0whed9ar3eielhz\"%2C%20id%3D~\"%2Fdocker%2F.*\"%7D%5B5m%5D)%2F1024%2F1024&g0.tab=1\n"
     ]
    },
    {
     "name": "stderr",
     "output_type": "stream",
     "text": [
      "127.0.0.1 - - [24/Feb/2022 11:43:59] \"\u001b[37mGET /getmem/ HTTP/1.1\u001b[0m\" 200 -\n",
      "127.0.0.1 - - [24/Feb/2022 11:45:23] \"\u001b[37mGET /getjson/ HTTP/1.1\u001b[0m\" 200 -\n",
      "127.0.0.1 - - [24/Feb/2022 12:01:56] \"\u001b[37mPOST /geturl/ HTTP/1.1\u001b[0m\" 200 -\n",
      "127.0.0.1 - - [24/Feb/2022 12:01:56] \"\u001b[37mGET /getexectime/ HTTP/1.1\u001b[0m\" 200 -\n"
     ]
    },
    {
     "name": "stdout",
     "output_type": "stream",
     "text": [
      "managercontenturl http://192.168.99.119:9090/api/v1/query?query=avg_over_time(container_memory_usage_bytes%7Bcontainer_label_com_docker_swarm_node_id%3D~\"gobb5gs2ea0l3hqnqoo597rje\"%2C%20id%3D~\"%2Fdocker%2F.*\"%7D%5B5m%5D)%2F1024%2F1024&g0.tab=1\n",
      " \n",
      "http://192.168.99.119:9090/\n"
     ]
    },
    {
     "name": "stderr",
     "output_type": "stream",
     "text": [
      "127.0.0.1 - - [24/Feb/2022 12:01:56] \"\u001b[37mGET /UpdateStatus/ HTTP/1.1\u001b[0m\" 200 -\n"
     ]
    },
    {
     "name": "stdout",
     "output_type": "stream",
     "text": [
      "url http://192.168.99.119:9090/api/v1/query?query=avg_over_time(container_memory_usage_bytes%7Bcontainer_label_com_docker_swarm_node_id%3D~\"j4mij6hfk3pdl7igmt6jy0em3\"%2C%20id%3D~\"%2Fdocker%2F.*\"%7D%5B5m%5D)%2F1024%2F1024&g0.tab=1\n",
      "[['ID', 'HOSTNAME', 'STATUS', 'AVAILABILITY', 'MANAGER', 'STATUS', 'ENGINE', 'VERSION'], ['gobb5gs2ea0l3hqnqoo597rje', 'manager', 'Ready', 'Active', 'Leader', '19.03.12'], ['j4mij6hfk3pdl7igmt6jy0em3', 'worker1', 'Ready', 'Active', '19.03.12'], ['ykueqwkeyy0whed9ar3eielhz', 'worker2', 'Ready', 'Active', '19.03.12']]\n",
      "Ready\n",
      "Ready\n",
      "Ready\n",
      "url http://192.168.99.119:9090/api/v1/query?query=avg_over_time(container_memory_usage_bytes%7Bcontainer_label_com_docker_swarm_node_id%3D~\"ykueqwkeyy0whed9ar3eielhz\"%2C%20id%3D~\"%2Fdocker%2F.*\"%7D%5B5m%5D)%2F1024%2F1024&g0.tab=1\n"
     ]
    },
    {
     "name": "stderr",
     "output_type": "stream",
     "text": [
      "127.0.0.1 - - [24/Feb/2022 12:01:58] \"\u001b[37mGET /getmem/ HTTP/1.1\u001b[0m\" 200 -\n",
      "127.0.0.1 - - [24/Feb/2022 12:02:02] \"\u001b[37mGET /getjson/ HTTP/1.1\u001b[0m\" 200 -\n",
      "127.0.0.1 - - [24/Feb/2022 12:02:06] \"\u001b[37mGET /getjson/ HTTP/1.1\u001b[0m\" 200 -\n",
      "127.0.0.1 - - [24/Feb/2022 12:02:14] \"\u001b[37mPOST /geturl/ HTTP/1.1\u001b[0m\" 200 -\n",
      "127.0.0.1 - - [24/Feb/2022 12:02:14] \"\u001b[37mGET /getexectime/ HTTP/1.1\u001b[0m\" 200 -\n"
     ]
    },
    {
     "name": "stdout",
     "output_type": "stream",
     "text": [
      "manager\n",
      "content http://192.168.99.119:9090/\n",
      "url http://192.168.99.119:9090/api/v1/query?query=avg_over_time(container_memory_usage_bytes%7Bcontainer_label_com_docker_swarm_node_id%3D~\"gobb5gs2ea0l3hqnqoo597rje\"%2C%20id%3D~\"%2Fdocker%2F.*\"%7D%5B5m%5D)%2F1024%2F1024&g0.tab=1\n"
     ]
    },
    {
     "name": "stderr",
     "output_type": "stream",
     "text": [
      "127.0.0.1 - - [24/Feb/2022 12:02:14] \"\u001b[37mGET /UpdateStatus/ HTTP/1.1\u001b[0m\" 200 -\n"
     ]
    },
    {
     "name": "stdout",
     "output_type": "stream",
     "text": [
      "url http://192.168.99.119:9090/api/v1/query?query=avg_over_time(container_memory_usage_bytes%7Bcontainer_label_com_docker_swarm_node_id%3D~\"j4mij6hfk3pdl7igmt6jy0em3\"%2C%20id%3D~\"%2Fdocker%2F.*\"%7D%5B5m%5D)%2F1024%2F1024&g0.tab=1\n",
      "[['ID', 'HOSTNAME', 'STATUS', 'AVAILABILITY', 'MANAGER', 'STATUS', 'ENGINE', 'VERSION'], ['gobb5gs2ea0l3hqnqoo597rje', 'manager', 'Ready', 'Active', 'Leader', '19.03.12'], ['j4mij6hfk3pdl7igmt6jy0em3', 'worker1', 'Ready', 'Active', '19.03.12'], ['ykueqwkeyy0whed9ar3eielhz', 'worker2', 'Ready', 'Active', '19.03.12']]\n",
      "Ready\n",
      "Ready\n",
      "Ready\n",
      "url http://192.168.99.119:9090/api/v1/query?query=avg_over_time(container_memory_usage_bytes%7Bcontainer_label_com_docker_swarm_node_id%3D~\"ykueqwkeyy0whed9ar3eielhz\"%2C%20id%3D~\"%2Fdocker%2F.*\"%7D%5B5m%5D)%2F1024%2F1024&g0.tab=1\n"
     ]
    },
    {
     "name": "stderr",
     "output_type": "stream",
     "text": [
      "127.0.0.1 - - [24/Feb/2022 12:02:16] \"\u001b[37mGET /getmem/ HTTP/1.1\u001b[0m\" 200 -\n",
      "127.0.0.1 - - [24/Feb/2022 12:02:22] \"\u001b[37mGET /getjson/ HTTP/1.1\u001b[0m\" 200 -\n",
      "127.0.0.1 - - [24/Feb/2022 12:02:28] \"\u001b[37mGET /getjson/ HTTP/1.1\u001b[0m\" 200 -\n",
      "127.0.0.1 - - [24/Feb/2022 12:02:29] \"\u001b[37mPOST /geturl/ HTTP/1.1\u001b[0m\" 200 -\n",
      "127.0.0.1 - - [24/Feb/2022 12:02:29] \"\u001b[37mGET /getexectime/ HTTP/1.1\u001b[0m\" 200 -\n"
     ]
    },
    {
     "name": "stdout",
     "output_type": "stream",
     "text": [
      "manager\n",
      "content http://192.168.99.119:9090/\n",
      "url http://192.168.99.119:9090/api/v1/query?query=avg_over_time(container_memory_usage_bytes%7Bcontainer_label_com_docker_swarm_node_id%3D~\"gobb5gs2ea0l3hqnqoo597rje\"%2C%20id%3D~\"%2Fdocker%2F.*\"%7D%5B5m%5D)%2F1024%2F1024&g0.tab=1\n"
     ]
    },
    {
     "name": "stderr",
     "output_type": "stream",
     "text": [
      "127.0.0.1 - - [24/Feb/2022 12:02:29] \"\u001b[37mGET /UpdateStatus/ HTTP/1.1\u001b[0m\" 200 -\n"
     ]
    },
    {
     "name": "stdout",
     "output_type": "stream",
     "text": [
      "[['ID', 'HOSTNAME', 'STATUS', 'AVAILABILITY', 'MANAGER', 'STATUS', 'ENGINE', 'VERSION'], ['gobb5gs2ea0l3hqnqoo597rje', 'manager', 'Ready', 'Active', 'Leader', '19.03.12'], ['j4mij6hfk3pdl7igmt6jy0em3', 'worker1', 'Ready', 'Active', '19.03.12'], ['ykueqwkeyy0whed9ar3eielhz', 'worker2', 'Ready', 'Active', '19.03.12']]\n",
      "Ready\n",
      "Ready\n",
      "Ready\n",
      "url http://192.168.99.119:9090/api/v1/query?query=avg_over_time(container_memory_usage_bytes%7Bcontainer_label_com_docker_swarm_node_id%3D~\"j4mij6hfk3pdl7igmt6jy0em3\"%2C%20id%3D~\"%2Fdocker%2F.*\"%7D%5B5m%5D)%2F1024%2F1024&g0.tab=1\n",
      "url http://192.168.99.119:9090/api/v1/query?query=avg_over_time(container_memory_usage_bytes%7Bcontainer_label_com_docker_swarm_node_id%3D~\"ykueqwkeyy0whed9ar3eielhz\"%2C%20id%3D~\"%2Fdocker%2F.*\"%7D%5B5m%5D)%2F1024%2F1024&g0.tab=1\n"
     ]
    },
    {
     "name": "stderr",
     "output_type": "stream",
     "text": [
      "127.0.0.1 - - [24/Feb/2022 12:02:31] \"\u001b[37mGET /getmem/ HTTP/1.1\u001b[0m\" 200 -\n",
      "127.0.0.1 - - [24/Feb/2022 12:02:32] \"\u001b[37mPOST /geturl/ HTTP/1.1\u001b[0m\" 200 -\n",
      "127.0.0.1 - - [24/Feb/2022 12:02:32] \"\u001b[37mGET /getexectime/ HTTP/1.1\u001b[0m\" 200 -\n"
     ]
    },
    {
     "name": "stdout",
     "output_type": "stream",
     "text": [
      "manager\n",
      "content urlhttp://192.168.99.119:9090/ http://192.168.99.119:9090/api/v1/query?query=avg_over_time(container_memory_usage_bytes%7Bcontainer_label_com_docker_swarm_node_id%3D~\"gobb5gs2ea0l3hqnqoo597rje\"%2C%20id%3D~\"%2Fdocker%2F.*\"%7D%5B5m%5D)%2F1024%2F1024&g0.tab=1\n",
      "\n",
      "url http://192.168.99.119:9090/api/v1/query?query=avg_over_time(container_memory_usage_bytes%7Bcontainer_label_com_docker_swarm_node_id%3D~\"j4mij6hfk3pdl7igmt6jy0em3\"%2C%20id%3D~\"%2Fdocker%2F.*\"%7D%5B5m%5D)%2F1024%2F1024&g0.tab=1\n"
     ]
    },
    {
     "name": "stderr",
     "output_type": "stream",
     "text": [
      "127.0.0.1 - - [24/Feb/2022 12:02:33] \"\u001b[37mGET /UpdateStatus/ HTTP/1.1\u001b[0m\" 200 -\n"
     ]
    },
    {
     "name": "stdout",
     "output_type": "stream",
     "text": [
      "[['ID', 'HOSTNAME', 'STATUS', 'AVAILABILITY', 'MANAGER', 'STATUS', 'ENGINE', 'VERSION'], ['gobb5gs2ea0l3hqnqoo597rje', 'manager', 'Ready', 'Active', 'Leader', '19.03.12'], ['j4mij6hfk3pdl7igmt6jy0em3', 'worker1', 'Ready', 'Active', '19.03.12'], ['ykueqwkeyy0whed9ar3eielhz', 'worker2', 'Ready', 'Active', '19.03.12']]\n",
      "Ready\n",
      "Ready\n",
      "Ready\n",
      "url http://192.168.99.119:9090/api/v1/query?query=avg_over_time(container_memory_usage_bytes%7Bcontainer_label_com_docker_swarm_node_id%3D~\"ykueqwkeyy0whed9ar3eielhz\"%2C%20id%3D~\"%2Fdocker%2F.*\"%7D%5B5m%5D)%2F1024%2F1024&g0.tab=1\n"
     ]
    },
    {
     "name": "stderr",
     "output_type": "stream",
     "text": [
      "127.0.0.1 - - [24/Feb/2022 12:02:33] \"\u001b[37mGET /getmem/ HTTP/1.1\u001b[0m\" 200 -\n",
      "127.0.0.1 - - [24/Feb/2022 12:02:34] \"\u001b[37mGET /getjson/ HTTP/1.1\u001b[0m\" 200 -\n",
      "127.0.0.1 - - [24/Feb/2022 12:02:42] \"\u001b[37mGET /getjson/ HTTP/1.1\u001b[0m\" 200 -\n",
      "127.0.0.1 - - [24/Feb/2022 12:02:43] \"\u001b[37mPOST /geturl/ HTTP/1.1\u001b[0m\" 200 -\n",
      "127.0.0.1 - - [24/Feb/2022 12:02:43] \"\u001b[37mGET /getexectime/ HTTP/1.1\u001b[0m\" 200 -\n",
      "127.0.0.1 - - [24/Feb/2022 12:02:43] \"\u001b[37mGET /getjson/ HTTP/1.1\u001b[0m\" 200 -\n"
     ]
    },
    {
     "name": "stdout",
     "output_type": "stream",
     "text": [
      "manager\n",
      "content http://192.168.99.119:9090/\n",
      "url http://192.168.99.119:9090/api/v1/query?query=avg_over_time(container_memory_usage_bytes%7Bcontainer_label_com_docker_swarm_node_id%3D~\"gobb5gs2ea0l3hqnqoo597rje\"%2C%20id%3D~\"%2Fdocker%2F.*\"%7D%5B5m%5D)%2F1024%2F1024&g0.tab=1\n"
     ]
    },
    {
     "name": "stderr",
     "output_type": "stream",
     "text": [
      "127.0.0.1 - - [24/Feb/2022 12:02:43] \"\u001b[37mGET /UpdateStatus/ HTTP/1.1\u001b[0m\" 200 -\n"
     ]
    },
    {
     "name": "stdout",
     "output_type": "stream",
     "text": [
      "url http://192.168.99.119:9090/api/v1/query?query=avg_over_time(container_memory_usage_bytes%7Bcontainer_label_com_docker_swarm_node_id%3D~\"j4mij6hfk3pdl7igmt6jy0em3\"%2C%20id%3D~\"%2Fdocker%2F.*\"%7D%5B5m%5D)%2F1024%2F1024&g0.tab=1\n",
      "[['ID', 'HOSTNAME', 'STATUS', 'AVAILABILITY', 'MANAGER', 'STATUS', 'ENGINE', 'VERSION'], ['gobb5gs2ea0l3hqnqoo597rje', 'manager', 'Ready', 'Active', 'Leader', '19.03.12'], ['j4mij6hfk3pdl7igmt6jy0em3', 'worker1', 'Ready', 'Active', '19.03.12'], ['ykueqwkeyy0whed9ar3eielhz', 'worker2', 'Ready', 'Active', '19.03.12']]\n",
      "Ready\n",
      "Ready\n",
      "Ready\n",
      "url http://192.168.99.119:9090/api/v1/query?query=avg_over_time(container_memory_usage_bytes%7Bcontainer_label_com_docker_swarm_node_id%3D~\"ykueqwkeyy0whed9ar3eielhz\"%2C%20id%3D~\"%2Fdocker%2F.*\"%7D%5B5m%5D)%2F1024%2F1024&g0.tab=1\n"
     ]
    },
    {
     "name": "stderr",
     "output_type": "stream",
     "text": [
      "127.0.0.1 - - [24/Feb/2022 12:02:44] \"\u001b[37mGET /getmem/ HTTP/1.1\u001b[0m\" 200 -\n",
      "127.0.0.1 - - [24/Feb/2022 12:02:46] \"\u001b[37mPOST /geturl/ HTTP/1.1\u001b[0m\" 200 -\n",
      "127.0.0.1 - - [24/Feb/2022 12:02:46] \"\u001b[37mGET /getexectime/ HTTP/1.1\u001b[0m\" 200 -\n"
     ]
    },
    {
     "name": "stdout",
     "output_type": "stream",
     "text": [
      "manager\n",
      "content http://192.168.99.119:9090/\n",
      "url http://192.168.99.119:9090/api/v1/query?query=avg_over_time(container_memory_usage_bytes%7Bcontainer_label_com_docker_swarm_node_id%3D~\"gobb5gs2ea0l3hqnqoo597rje\"%2C%20id%3D~\"%2Fdocker%2F.*\"%7D%5B5m%5D)%2F1024%2F1024&g0.tab=1\n",
      "url http://192.168.99.119:9090/api/v1/query?query=avg_over_time(container_memory_usage_bytes%7Bcontainer_label_com_docker_swarm_node_id%3D~\"j4mij6hfk3pdl7igmt6jy0em3\"%2C%20id%3D~\"%2Fdocker%2F.*\"%7D%5B5m%5D)%2F1024%2F1024&g0.tab=1\n"
     ]
    },
    {
     "name": "stderr",
     "output_type": "stream",
     "text": [
      "127.0.0.1 - - [24/Feb/2022 12:02:46] \"\u001b[37mGET /getjson/ HTTP/1.1\u001b[0m\" 200 -\n",
      "127.0.0.1 - - [24/Feb/2022 12:02:46] \"\u001b[37mGET /UpdateStatus/ HTTP/1.1\u001b[0m\" 200 -\n"
     ]
    },
    {
     "name": "stdout",
     "output_type": "stream",
     "text": [
      "url http://192.168.99.119:9090/api/v1/query?query=avg_over_time(container_memory_usage_bytes%7Bcontainer_label_com_docker_swarm_node_id%3D~\"ykueqwkeyy0whed9ar3eielhz\"%2C%20id%3D~\"%2Fdocker%2F.*\"%7D%5B5m%5D)%2F1024%2F1024&g0.tab=1\n",
      "[['ID', 'HOSTNAME', 'STATUS', 'AVAILABILITY', 'MANAGER', 'STATUS', 'ENGINE', 'VERSION'], ['gobb5gs2ea0l3hqnqoo597rje', 'manager', 'Ready', 'Active', 'Leader', '19.03.12'], ['j4mij6hfk3pdl7igmt6jy0em3', 'worker1', 'Ready', 'Active', '19.03.12'], ['ykueqwkeyy0whed9ar3eielhz', 'worker2', 'Ready', 'Active', '19.03.12']]\n",
      "Ready\n",
      "Ready\n",
      "Ready\n"
     ]
    },
    {
     "name": "stderr",
     "output_type": "stream",
     "text": [
      "127.0.0.1 - - [24/Feb/2022 12:02:47] \"\u001b[37mGET /getmem/ HTTP/1.1\u001b[0m\" 200 -\n",
      "127.0.0.1 - - [24/Feb/2022 12:02:51] \"\u001b[37mGET /getjson/ HTTP/1.1\u001b[0m\" 200 -\n",
      "127.0.0.1 - - [24/Feb/2022 12:02:52] \"\u001b[37mPOST /geturl/ HTTP/1.1\u001b[0m\" 200 -\n",
      "127.0.0.1 - - [24/Feb/2022 12:02:52] \"\u001b[37mGET /getexectime/ HTTP/1.1\u001b[0m\" 200 -\n",
      "127.0.0.1 - - [24/Feb/2022 12:02:52] \"\u001b[37mGET /getjson/ HTTP/1.1\u001b[0m\" 200 -\n"
     ]
    },
    {
     "name": "stdout",
     "output_type": "stream",
     "text": [
      "manager\n",
      "contenturl  http://192.168.99.119:9090/api/v1/query?query=avg_over_time(container_memory_usage_bytes%7Bcontainer_label_com_docker_swarm_node_id%3D~\"gobb5gs2ea0l3hqnqoo597rje\"%2C%20id%3D~\"%2Fdocker%2F.*\"%7D%5B5m%5D)%2F1024%2F1024&g0.tab=1\n",
      "http://192.168.99.119:9090/\n"
     ]
    },
    {
     "name": "stderr",
     "output_type": "stream",
     "text": [
      "127.0.0.1 - - [24/Feb/2022 12:02:52] \"\u001b[37mGET /UpdateStatus/ HTTP/1.1\u001b[0m\" 200 -\n"
     ]
    },
    {
     "name": "stdout",
     "output_type": "stream",
     "text": [
      "url http://192.168.99.119:9090/api/v1/query?query=avg_over_time(container_memory_usage_bytes%7Bcontainer_label_com_docker_swarm_node_id%3D~\"j4mij6hfk3pdl7igmt6jy0em3\"%2C%20id%3D~\"%2Fdocker%2F.*\"%7D%5B5m%5D)%2F1024%2F1024&g0.tab=1\n",
      "[['ID', 'HOSTNAME', 'STATUS', 'AVAILABILITY', 'MANAGER', 'STATUS', 'ENGINE', 'VERSION'], ['gobb5gs2ea0l3hqnqoo597rje', 'manager', 'Ready', 'Active', 'Leader', '19.03.12'], ['j4mij6hfk3pdl7igmt6jy0em3', 'worker1', 'Ready', 'Active', '19.03.12'], ['ykueqwkeyy0whed9ar3eielhz', 'worker2', 'Ready', 'Active', '19.03.12']]\n",
      "Ready\n",
      "Ready\n",
      "Ready\n",
      "url http://192.168.99.119:9090/api/v1/query?query=avg_over_time(container_memory_usage_bytes%7Bcontainer_label_com_docker_swarm_node_id%3D~\"ykueqwkeyy0whed9ar3eielhz\"%2C%20id%3D~\"%2Fdocker%2F.*\"%7D%5B5m%5D)%2F1024%2F1024&g0.tab=1\n"
     ]
    },
    {
     "name": "stderr",
     "output_type": "stream",
     "text": [
      "127.0.0.1 - - [24/Feb/2022 12:02:53] \"\u001b[37mGET /getmem/ HTTP/1.1\u001b[0m\" 200 -\n",
      "127.0.0.1 - - [24/Feb/2022 12:02:57] \"\u001b[37mGET /getjson/ HTTP/1.1\u001b[0m\" 200 -\n",
      "127.0.0.1 - - [24/Feb/2022 12:02:58] \"\u001b[37mPOST /geturl/ HTTP/1.1\u001b[0m\" 200 -\n",
      "127.0.0.1 - - [24/Feb/2022 12:02:58] \"\u001b[37mGET /getexectime/ HTTP/1.1\u001b[0m\" 200 -\n",
      "127.0.0.1 - - [24/Feb/2022 12:02:58] \"\u001b[37mGET /getjson/ HTTP/1.1\u001b[0m\" 200 -\n"
     ]
    },
    {
     "name": "stdout",
     "output_type": "stream",
     "text": [
      "manager\n",
      "content http://192.168.99.119:9090/\n",
      "url http://192.168.99.119:9090/api/v1/query?query=avg_over_time(container_memory_usage_bytes%7Bcontainer_label_com_docker_swarm_node_id%3D~\"gobb5gs2ea0l3hqnqoo597rje\"%2C%20id%3D~\"%2Fdocker%2F.*\"%7D%5B5m%5D)%2F1024%2F1024&g0.tab=1\n"
     ]
    },
    {
     "name": "stderr",
     "output_type": "stream",
     "text": [
      "127.0.0.1 - - [24/Feb/2022 12:02:58] \"\u001b[37mGET /UpdateStatus/ HTTP/1.1\u001b[0m\" 200 -\n"
     ]
    },
    {
     "name": "stdout",
     "output_type": "stream",
     "text": [
      "url http://192.168.99.119:9090/api/v1/query?query=avg_over_time(container_memory_usage_bytes%7Bcontainer_label_com_docker_swarm_node_id%3D~\"j4mij6hfk3pdl7igmt6jy0em3\"%2C%20id%3D~\"%2Fdocker%2F.*\"%7D%5B5m%5D)%2F1024%2F1024&g0.tab=1\n",
      "[['ID', 'HOSTNAME', 'STATUS', 'AVAILABILITY', 'MANAGER', 'STATUS', 'ENGINE', 'VERSION'], ['gobb5gs2ea0l3hqnqoo597rje', 'manager', 'Ready', 'Active', 'Leader', '19.03.12'], ['j4mij6hfk3pdl7igmt6jy0em3', 'worker1', 'Ready', 'Active', '19.03.12'], ['ykueqwkeyy0whed9ar3eielhz', 'worker2', 'Ready', 'Active', '19.03.12']]\n",
      "Ready\n",
      "Ready\n",
      "Ready\n",
      "url http://192.168.99.119:9090/api/v1/query?query=avg_over_time(container_memory_usage_bytes%7Bcontainer_label_com_docker_swarm_node_id%3D~\"ykueqwkeyy0whed9ar3eielhz\"%2C%20id%3D~\"%2Fdocker%2F.*\"%7D%5B5m%5D)%2F1024%2F1024&g0.tab=1\n"
     ]
    },
    {
     "name": "stderr",
     "output_type": "stream",
     "text": [
      "127.0.0.1 - - [24/Feb/2022 12:02:59] \"\u001b[37mGET /getmem/ HTTP/1.1\u001b[0m\" 200 -\n",
      "127.0.0.1 - - [24/Feb/2022 12:03:01] \"\u001b[37mPOST /geturl/ HTTP/1.1\u001b[0m\" 200 -\n",
      "127.0.0.1 - - [24/Feb/2022 12:03:01] \"\u001b[37mGET /getexectime/ HTTP/1.1\u001b[0m\" 200 -\n"
     ]
    },
    {
     "name": "stdout",
     "output_type": "stream",
     "text": [
      "manager\n",
      "content http://192.168.99.119:9090/\n",
      "url http://192.168.99.119:9090/api/v1/query?query=avg_over_time(container_memory_usage_bytes%7Bcontainer_label_com_docker_swarm_node_id%3D~\"gobb5gs2ea0l3hqnqoo597rje\"%2C%20id%3D~\"%2Fdocker%2F.*\"%7D%5B5m%5D)%2F1024%2F1024&g0.tab=1\n"
     ]
    },
    {
     "name": "stderr",
     "output_type": "stream",
     "text": [
      "127.0.0.1 - - [24/Feb/2022 12:03:01] \"\u001b[37mGET /getjson/ HTTP/1.1\u001b[0m\" 200 -\n"
     ]
    },
    {
     "name": "stdout",
     "output_type": "stream",
     "text": [
      "url http://192.168.99.119:9090/api/v1/query?query=avg_over_time(container_memory_usage_bytes%7Bcontainer_label_com_docker_swarm_node_id%3D~\"j4mij6hfk3pdl7igmt6jy0em3\"%2C%20id%3D~\"%2Fdocker%2F.*\"%7D%5B5m%5D)%2F1024%2F1024&g0.tab=1\n"
     ]
    },
    {
     "name": "stderr",
     "output_type": "stream",
     "text": [
      "127.0.0.1 - - [24/Feb/2022 12:03:02] \"\u001b[37mGET /UpdateStatus/ HTTP/1.1\u001b[0m\" 200 -\n"
     ]
    },
    {
     "name": "stdout",
     "output_type": "stream",
     "text": [
      "[['ID', 'HOSTNAME', 'STATUS', 'AVAILABILITY', 'MANAGER', 'STATUS', 'ENGINE', 'VERSION'], ['gobb5gs2ea0l3hqnqoo597rje', 'manager', 'Ready', 'Active', 'Leader', '19.03.12'], ['j4mij6hfk3pdl7igmt6jy0em3', 'worker1', 'Ready', 'Active', '19.03.12'], ['ykueqwkeyy0whed9ar3eielhz', 'worker2', 'Ready', 'Active', '19.03.12']]\n",
      "Ready\n",
      "Ready\n",
      "Ready\n",
      "url http://192.168.99.119:9090/api/v1/query?query=avg_over_time(container_memory_usage_bytes%7Bcontainer_label_com_docker_swarm_node_id%3D~\"ykueqwkeyy0whed9ar3eielhz\"%2C%20id%3D~\"%2Fdocker%2F.*\"%7D%5B5m%5D)%2F1024%2F1024&g0.tab=1\n"
     ]
    },
    {
     "name": "stderr",
     "output_type": "stream",
     "text": [
      "127.0.0.1 - - [24/Feb/2022 12:03:03] \"\u001b[37mGET /getmem/ HTTP/1.1\u001b[0m\" 200 -\n",
      "127.0.0.1 - - [24/Feb/2022 12:03:07] \"\u001b[37mPOST /geturl/ HTTP/1.1\u001b[0m\" 200 -\n",
      "127.0.0.1 - - [24/Feb/2022 12:03:07] \"\u001b[37mGET /getexectime/ HTTP/1.1\u001b[0m\" 200 -\n"
     ]
    },
    {
     "name": "stdout",
     "output_type": "stream",
     "text": [
      "manager\n",
      "content urlhttp://192.168.99.119:9090/\n",
      " http://192.168.99.119:9090/api/v1/query?query=avg_over_time(container_memory_usage_bytes%7Bcontainer_label_com_docker_swarm_node_id%3D~\"gobb5gs2ea0l3hqnqoo597rje\"%2C%20id%3D~\"%2Fdocker%2F.*\"%7D%5B5m%5D)%2F1024%2F1024&g0.tab=1\n"
     ]
    },
    {
     "name": "stderr",
     "output_type": "stream",
     "text": [
      "127.0.0.1 - - [24/Feb/2022 12:03:07] \"\u001b[37mGET /UpdateStatus/ HTTP/1.1\u001b[0m\" 200 -\n"
     ]
    },
    {
     "name": "stdout",
     "output_type": "stream",
     "text": [
      "url http://192.168.99.119:9090/api/v1/query?query=avg_over_time(container_memory_usage_bytes%7Bcontainer_label_com_docker_swarm_node_id%3D~\"j4mij6hfk3pdl7igmt6jy0em3\"%2C%20id%3D~\"%2Fdocker%2F.*\"%7D%5B5m%5D)%2F1024%2F1024&g0.tab=1\n",
      "[['ID', 'HOSTNAME', 'STATUS', 'AVAILABILITY', 'MANAGER', 'STATUS', 'ENGINE', 'VERSION'], ['gobb5gs2ea0l3hqnqoo597rje', 'manager', 'Ready', 'Active', 'Leader', '19.03.12'], ['j4mij6hfk3pdl7igmt6jy0em3', 'worker1', 'Ready', 'Active', '19.03.12'], ['ykueqwkeyy0whed9ar3eielhz', 'worker2', 'Ready', 'Active', '19.03.12']]\n",
      "Ready\n",
      "Ready\n",
      "Ready\n"
     ]
    },
    {
     "name": "stderr",
     "output_type": "stream",
     "text": [
      "127.0.0.1 - - [24/Feb/2022 12:03:07] \"\u001b[37mGET /getjson/ HTTP/1.1\u001b[0m\" 200 -\n"
     ]
    },
    {
     "name": "stdout",
     "output_type": "stream",
     "text": [
      "url http://192.168.99.119:9090/api/v1/query?query=avg_over_time(container_memory_usage_bytes%7Bcontainer_label_com_docker_swarm_node_id%3D~\"ykueqwkeyy0whed9ar3eielhz\"%2C%20id%3D~\"%2Fdocker%2F.*\"%7D%5B5m%5D)%2F1024%2F1024&g0.tab=1\n"
     ]
    },
    {
     "name": "stderr",
     "output_type": "stream",
     "text": [
      "127.0.0.1 - - [24/Feb/2022 12:03:08] \"\u001b[37mGET /getmem/ HTTP/1.1\u001b[0m\" 200 -\n",
      "127.0.0.1 - - [24/Feb/2022 12:03:14] \"\u001b[37mPOST /geturl/ HTTP/1.1\u001b[0m\" 200 -\n",
      "127.0.0.1 - - [24/Feb/2022 12:03:14] \"\u001b[37mGET /getexectime/ HTTP/1.1\u001b[0m\" 200 -\n"
     ]
    },
    {
     "name": "stdout",
     "output_type": "stream",
     "text": [
      "manager\n",
      "contenturl  http://192.168.99.119:9090/api/v1/query?query=avg_over_time(container_memory_usage_bytes%7Bcontainer_label_com_docker_swarm_node_id%3D~\"gobb5gs2ea0l3hqnqoo597rje\"%2C%20id%3D~\"%2Fdocker%2F.*\"%7D%5B5m%5D)%2F1024%2F1024&g0.tab=1\n",
      "http://192.168.99.119:9090/\n",
      "url http://192.168.99.119:9090/api/v1/query?query=avg_over_time(container_memory_usage_bytes%7Bcontainer_label_com_docker_swarm_node_id%3D~\"j4mij6hfk3pdl7igmt6jy0em3\"%2C%20id%3D~\"%2Fdocker%2F.*\"%7D%5B5m%5D)%2F1024%2F1024&g0.tab=1\n"
     ]
    },
    {
     "name": "stderr",
     "output_type": "stream",
     "text": [
      "127.0.0.1 - - [24/Feb/2022 12:03:14] \"\u001b[37mGET /getjson/ HTTP/1.1\u001b[0m\" 200 -\n",
      "127.0.0.1 - - [24/Feb/2022 12:03:15] \"\u001b[37mGET /UpdateStatus/ HTTP/1.1\u001b[0m\" 200 -\n"
     ]
    },
    {
     "name": "stdout",
     "output_type": "stream",
     "text": [
      "url http://192.168.99.119:9090/api/v1/query?query=avg_over_time(container_memory_usage_bytes%7Bcontainer_label_com_docker_swarm_node_id%3D~\"ykueqwkeyy0whed9ar3eielhz\"%2C%20id%3D~\"%2Fdocker%2F.*\"%7D%5B5m%5D)%2F1024%2F1024&g0.tab=1\n",
      "[['ID', 'HOSTNAME', 'STATUS', 'AVAILABILITY', 'MANAGER', 'STATUS', 'ENGINE', 'VERSION'], ['gobb5gs2ea0l3hqnqoo597rje', 'manager', 'Ready', 'Active', 'Leader', '19.03.12'], ['j4mij6hfk3pdl7igmt6jy0em3', 'worker1', 'Ready', 'Active', '19.03.12'], ['ykueqwkeyy0whed9ar3eielhz', 'worker2', 'Ready', 'Active', '19.03.12']]\n",
      "Ready\n",
      "Ready\n",
      "Ready\n"
     ]
    },
    {
     "name": "stderr",
     "output_type": "stream",
     "text": [
      "127.0.0.1 - - [24/Feb/2022 12:03:15] \"\u001b[37mGET /getmem/ HTTP/1.1\u001b[0m\" 200 -\n",
      "127.0.0.1 - - [24/Feb/2022 12:03:18] \"\u001b[37mGET /getjson/ HTTP/1.1\u001b[0m\" 200 -\n",
      "127.0.0.1 - - [24/Feb/2022 12:03:19] \"\u001b[37mPOST /geturl/ HTTP/1.1\u001b[0m\" 200 -\n",
      "127.0.0.1 - - [24/Feb/2022 12:03:19] \"\u001b[37mGET /getexectime/ HTTP/1.1\u001b[0m\" 200 -\n",
      "127.0.0.1 - - [24/Feb/2022 12:03:19] \"\u001b[37mGET /getjson/ HTTP/1.1\u001b[0m\" 200 -\n"
     ]
    },
    {
     "name": "stdout",
     "output_type": "stream",
     "text": [
      "manager\n",
      "content http://192.168.99.119:9090/\n",
      "url http://192.168.99.119:9090/api/v1/query?query=avg_over_time(container_memory_usage_bytes%7Bcontainer_label_com_docker_swarm_node_id%3D~\"gobb5gs2ea0l3hqnqoo597rje\"%2C%20id%3D~\"%2Fdocker%2F.*\"%7D%5B5m%5D)%2F1024%2F1024&g0.tab=1\n",
      "url http://192.168.99.119:9090/api/v1/query?query=avg_over_time(container_memory_usage_bytes%7Bcontainer_label_com_docker_swarm_node_id%3D~\"j4mij6hfk3pdl7igmt6jy0em3\"%2C%20id%3D~\"%2Fdocker%2F.*\"%7D%5B5m%5D)%2F1024%2F1024&g0.tab=1\n"
     ]
    },
    {
     "name": "stderr",
     "output_type": "stream",
     "text": [
      "127.0.0.1 - - [24/Feb/2022 12:03:19] \"\u001b[37mGET /UpdateStatus/ HTTP/1.1\u001b[0m\" 200 -\n"
     ]
    },
    {
     "name": "stdout",
     "output_type": "stream",
     "text": [
      "[['ID', 'HOSTNAME', 'STATUS', 'AVAILABILITY', 'MANAGER', 'STATUS', 'ENGINE', 'VERSION'], ['gobb5gs2ea0l3hqnqoo597rje', 'manager', 'Ready', 'Active', 'Leader', '19.03.12'], ['j4mij6hfk3pdl7igmt6jy0em3', 'worker1', 'Ready', 'Active', '19.03.12'], ['ykueqwkeyy0whed9ar3eielhz', 'worker2', 'Ready', 'Active', '19.03.12']]\n",
      "Ready\n",
      "Ready\n",
      "Ready\n",
      "url http://192.168.99.119:9090/api/v1/query?query=avg_over_time(container_memory_usage_bytes%7Bcontainer_label_com_docker_swarm_node_id%3D~\"ykueqwkeyy0whed9ar3eielhz\"%2C%20id%3D~\"%2Fdocker%2F.*\"%7D%5B5m%5D)%2F1024%2F1024&g0.tab=1\n"
     ]
    },
    {
     "name": "stderr",
     "output_type": "stream",
     "text": [
      "127.0.0.1 - - [24/Feb/2022 12:03:20] \"\u001b[37mGET /getmem/ HTTP/1.1\u001b[0m\" 200 -\n",
      "127.0.0.1 - - [24/Feb/2022 12:03:23] \"\u001b[37mGET /getjson/ HTTP/1.1\u001b[0m\" 200 -\n",
      "127.0.0.1 - - [24/Feb/2022 12:03:23] \"\u001b[37mPOST /geturl/ HTTP/1.1\u001b[0m\" 200 -\n",
      "127.0.0.1 - - [24/Feb/2022 12:03:23] \"\u001b[37mGET /getexectime/ HTTP/1.1\u001b[0m\" 200 -\n",
      "127.0.0.1 - - [24/Feb/2022 12:03:23] \"\u001b[37mGET /getjson/ HTTP/1.1\u001b[0m\" 200 -\n"
     ]
    },
    {
     "name": "stdout",
     "output_type": "stream",
     "text": [
      "manager\n",
      "content http://192.168.99.119:9090/\n",
      "url http://192.168.99.119:9090/api/v1/query?query=avg_over_time(container_memory_usage_bytes%7Bcontainer_label_com_docker_swarm_node_id%3D~\"gobb5gs2ea0l3hqnqoo597rje\"%2C%20id%3D~\"%2Fdocker%2F.*\"%7D%5B5m%5D)%2F1024%2F1024&g0.tab=1\n"
     ]
    },
    {
     "name": "stderr",
     "output_type": "stream",
     "text": [
      "127.0.0.1 - - [24/Feb/2022 12:03:23] \"\u001b[37mGET /UpdateStatus/ HTTP/1.1\u001b[0m\" 200 -\n"
     ]
    },
    {
     "name": "stdout",
     "output_type": "stream",
     "text": [
      "url http://192.168.99.119:9090/api/v1/query?query=avg_over_time(container_memory_usage_bytes%7Bcontainer_label_com_docker_swarm_node_id%3D~\"j4mij6hfk3pdl7igmt6jy0em3\"%2C%20id%3D~\"%2Fdocker%2F.*\"%7D%5B5m%5D)%2F1024%2F1024&g0.tab=1\n",
      "[['ID', 'HOSTNAME', 'STATUS', 'AVAILABILITY', 'MANAGER', 'STATUS', 'ENGINE', 'VERSION'], ['gobb5gs2ea0l3hqnqoo597rje', 'manager', 'Ready', 'Active', 'Leader', '19.03.12'], ['j4mij6hfk3pdl7igmt6jy0em3', 'worker1', 'Ready', 'Active', '19.03.12'], ['ykueqwkeyy0whed9ar3eielhz', 'worker2', 'Ready', 'Active', '19.03.12']]\n",
      "Ready\n",
      "Ready\n",
      "Ready\n",
      "url http://192.168.99.119:9090/api/v1/query?query=avg_over_time(container_memory_usage_bytes%7Bcontainer_label_com_docker_swarm_node_id%3D~\"ykueqwkeyy0whed9ar3eielhz\"%2C%20id%3D~\"%2Fdocker%2F.*\"%7D%5B5m%5D)%2F1024%2F1024&g0.tab=1\n"
     ]
    },
    {
     "name": "stderr",
     "output_type": "stream",
     "text": [
      "127.0.0.1 - - [24/Feb/2022 12:03:25] \"\u001b[37mGET /getmem/ HTTP/1.1\u001b[0m\" 200 -\n",
      "127.0.0.1 - - [24/Feb/2022 12:03:27] \"\u001b[37mGET /getjson/ HTTP/1.1\u001b[0m\" 200 -\n",
      "127.0.0.1 - - [24/Feb/2022 12:03:28] \"\u001b[37mPOST /geturl/ HTTP/1.1\u001b[0m\" 200 -\n",
      "127.0.0.1 - - [24/Feb/2022 12:03:28] \"\u001b[37mGET /getexectime/ HTTP/1.1\u001b[0m\" 200 -\n",
      "127.0.0.1 - - [24/Feb/2022 12:03:28] \"\u001b[37mGET /getjson/ HTTP/1.1\u001b[0m\" 200 -\n"
     ]
    },
    {
     "name": "stdout",
     "output_type": "stream",
     "text": [
      "manager\n",
      "content http://192.168.99.119:9090/\n",
      "url http://192.168.99.119:9090/api/v1/query?query=avg_over_time(container_memory_usage_bytes%7Bcontainer_label_com_docker_swarm_node_id%3D~\"gobb5gs2ea0l3hqnqoo597rje\"%2C%20id%3D~\"%2Fdocker%2F.*\"%7D%5B5m%5D)%2F1024%2F1024&g0.tab=1\n"
     ]
    },
    {
     "name": "stderr",
     "output_type": "stream",
     "text": [
      "127.0.0.1 - - [24/Feb/2022 12:03:28] \"\u001b[37mGET /UpdateStatus/ HTTP/1.1\u001b[0m\" 200 -\n"
     ]
    },
    {
     "name": "stdout",
     "output_type": "stream",
     "text": [
      "url http://192.168.99.119:9090/api/v1/query?query=avg_over_time(container_memory_usage_bytes%7Bcontainer_label_com_docker_swarm_node_id%3D~\"j4mij6hfk3pdl7igmt6jy0em3\"%2C%20id%3D~\"%2Fdocker%2F.*\"%7D%5B5m%5D)%2F1024%2F1024&g0.tab=1\n",
      "[['ID', 'HOSTNAME', 'STATUS', 'AVAILABILITY', 'MANAGER', 'STATUS', 'ENGINE', 'VERSION'], ['gobb5gs2ea0l3hqnqoo597rje', 'manager', 'Ready', 'Active', 'Leader', '19.03.12'], ['j4mij6hfk3pdl7igmt6jy0em3', 'worker1', 'Ready', 'Active', '19.03.12'], ['ykueqwkeyy0whed9ar3eielhz', 'worker2', 'Ready', 'Active', '19.03.12']]\n",
      "Ready\n",
      "Ready\n",
      "Ready\n",
      "url http://192.168.99.119:9090/api/v1/query?query=avg_over_time(container_memory_usage_bytes%7Bcontainer_label_com_docker_swarm_node_id%3D~\"ykueqwkeyy0whed9ar3eielhz\"%2C%20id%3D~\"%2Fdocker%2F.*\"%7D%5B5m%5D)%2F1024%2F1024&g0.tab=1\n"
     ]
    },
    {
     "name": "stderr",
     "output_type": "stream",
     "text": [
      "127.0.0.1 - - [24/Feb/2022 12:03:30] \"\u001b[37mGET /getmem/ HTTP/1.1\u001b[0m\" 200 -\n",
      "127.0.0.1 - - [24/Feb/2022 12:03:36] \"\u001b[37mGET /getjson/ HTTP/1.1\u001b[0m\" 200 -\n",
      "127.0.0.1 - - [24/Feb/2022 12:03:43] \"\u001b[37mPOST /geturl/ HTTP/1.1\u001b[0m\" 200 -\n",
      "127.0.0.1 - - [24/Feb/2022 12:03:43] \"\u001b[37mGET /getexectime/ HTTP/1.1\u001b[0m\" 200 -\n",
      "127.0.0.1 - - [24/Feb/2022 12:03:43] \"\u001b[37mGET /getjson/ HTTP/1.1\u001b[0m\" 200 -\n"
     ]
    },
    {
     "name": "stdout",
     "output_type": "stream",
     "text": [
      "manager\n",
      "content urlhttp://192.168.99.119:9090/ http://192.168.99.119:9090/api/v1/query?query=avg_over_time(container_memory_usage_bytes%7Bcontainer_label_com_docker_swarm_node_id%3D~\"gobb5gs2ea0l3hqnqoo597rje\"%2C%20id%3D~\"%2Fdocker%2F.*\"%7D%5B5m%5D)%2F1024%2F1024&g0.tab=1\n",
      "\n"
     ]
    },
    {
     "name": "stderr",
     "output_type": "stream",
     "text": [
      "127.0.0.1 - - [24/Feb/2022 12:03:43] \"\u001b[37mGET /UpdateStatus/ HTTP/1.1\u001b[0m\" 200 -\n"
     ]
    },
    {
     "name": "stdout",
     "output_type": "stream",
     "text": [
      "url http://192.168.99.119:9090/api/v1/query?query=avg_over_time(container_memory_usage_bytes%7Bcontainer_label_com_docker_swarm_node_id%3D~\"j4mij6hfk3pdl7igmt6jy0em3\"%2C%20id%3D~\"%2Fdocker%2F.*\"%7D%5B5m%5D)%2F1024%2F1024&g0.tab=1\n",
      "[['ID', 'HOSTNAME', 'STATUS', 'AVAILABILITY', 'MANAGER', 'STATUS', 'ENGINE', 'VERSION'], ['gobb5gs2ea0l3hqnqoo597rje', 'manager', 'Ready', 'Active', 'Leader', '19.03.12'], ['j4mij6hfk3pdl7igmt6jy0em3', 'worker1', 'Ready', 'Active', '19.03.12'], ['ykueqwkeyy0whed9ar3eielhz', 'worker2', 'Ready', 'Active', '19.03.12']]\n",
      "Ready\n",
      "Ready\n",
      "Ready\n",
      "url http://192.168.99.119:9090/api/v1/query?query=avg_over_time(container_memory_usage_bytes%7Bcontainer_label_com_docker_swarm_node_id%3D~\"ykueqwkeyy0whed9ar3eielhz\"%2C%20id%3D~\"%2Fdocker%2F.*\"%7D%5B5m%5D)%2F1024%2F1024&g0.tab=1\n"
     ]
    },
    {
     "name": "stderr",
     "output_type": "stream",
     "text": [
      "127.0.0.1 - - [24/Feb/2022 12:03:44] \"\u001b[37mGET /getmem/ HTTP/1.1\u001b[0m\" 200 -\n",
      "127.0.0.1 - - [24/Feb/2022 12:03:44] \"\u001b[37mGET /getjson/ HTTP/1.1\u001b[0m\" 200 -\n",
      "127.0.0.1 - - [24/Feb/2022 12:03:44] \"\u001b[37mPOST /geturl/ HTTP/1.1\u001b[0m\" 200 -\n",
      "127.0.0.1 - - [24/Feb/2022 12:03:44] \"\u001b[37mGET /getexectime/ HTTP/1.1\u001b[0m\" 200 -\n"
     ]
    },
    {
     "name": "stdout",
     "output_type": "stream",
     "text": [
      "manager\n",
      "content http://192.168.99.119:9090/url\n",
      " http://192.168.99.119:9090/api/v1/query?query=avg_over_time(container_memory_usage_bytes%7Bcontainer_label_com_docker_swarm_node_id%3D~\"gobb5gs2ea0l3hqnqoo597rje\"%2C%20id%3D~\"%2Fdocker%2F.*\"%7D%5B5m%5D)%2F1024%2F1024&g0.tab=1\n",
      "url http://192.168.99.119:9090/api/v1/query?query=avg_over_time(container_memory_usage_bytes%7Bcontainer_label_com_docker_swarm_node_id%3D~\"j4mij6hfk3pdl7igmt6jy0em3\"%2C%20id%3D~\"%2Fdocker%2F.*\"%7D%5B5m%5D)%2F1024%2F1024&g0.tab=1\n"
     ]
    },
    {
     "name": "stderr",
     "output_type": "stream",
     "text": [
      "127.0.0.1 - - [24/Feb/2022 12:03:45] \"\u001b[37mGET /getjson/ HTTP/1.1\u001b[0m\" 200 -\n",
      "127.0.0.1 - - [24/Feb/2022 12:03:45] \"\u001b[37mGET /UpdateStatus/ HTTP/1.1\u001b[0m\" 200 -\n"
     ]
    },
    {
     "name": "stdout",
     "output_type": "stream",
     "text": [
      "[['ID', 'HOSTNAME', 'STATUS', 'AVAILABILITY', 'MANAGER', 'STATUS', 'ENGINE', 'VERSION'], ['gobb5gs2ea0l3hqnqoo597rje', 'manager', 'Ready', 'Active', 'Leader', '19.03.12'], ['j4mij6hfk3pdl7igmt6jy0em3', 'worker1', 'Ready', 'Active', '19.03.12'], ['ykueqwkeyy0whed9ar3eielhz', 'worker2', 'Ready', 'Active', '19.03.12']]\n",
      "Ready\n",
      "Ready\n",
      "Ready\n",
      "url http://192.168.99.119:9090/api/v1/query?query=avg_over_time(container_memory_usage_bytes%7Bcontainer_label_com_docker_swarm_node_id%3D~\"ykueqwkeyy0whed9ar3eielhz\"%2C%20id%3D~\"%2Fdocker%2F.*\"%7D%5B5m%5D)%2F1024%2F1024&g0.tab=1\n"
     ]
    },
    {
     "name": "stderr",
     "output_type": "stream",
     "text": [
      "127.0.0.1 - - [24/Feb/2022 12:03:46] \"\u001b[37mGET /getmem/ HTTP/1.1\u001b[0m\" 200 -\n",
      "127.0.0.1 - - [24/Feb/2022 12:04:12] \"\u001b[37mGET /getjson/ HTTP/1.1\u001b[0m\" 200 -\n",
      "127.0.0.1 - - [24/Feb/2022 12:04:13] \"\u001b[37mPOST /geturl/ HTTP/1.1\u001b[0m\" 200 -\n",
      "127.0.0.1 - - [24/Feb/2022 12:04:13] \"\u001b[37mGET /getexectime/ HTTP/1.1\u001b[0m\" 200 -\n",
      "127.0.0.1 - - [24/Feb/2022 12:04:13] \"\u001b[37mGET /getjson/ HTTP/1.1\u001b[0m\" 200 -\n"
     ]
    },
    {
     "name": "stdout",
     "output_type": "stream",
     "text": [
      "manager\n",
      "content http://192.168.99.119:9090/\n",
      "url http://192.168.99.119:9090/api/v1/query?query=avg_over_time(container_memory_usage_bytes%7Bcontainer_label_com_docker_swarm_node_id%3D~\"gobb5gs2ea0l3hqnqoo597rje\"%2C%20id%3D~\"%2Fdocker%2F.*\"%7D%5B5m%5D)%2F1024%2F1024&g0.tab=1\n"
     ]
    },
    {
     "name": "stderr",
     "output_type": "stream",
     "text": [
      "127.0.0.1 - - [24/Feb/2022 12:04:13] \"\u001b[37mGET /UpdateStatus/ HTTP/1.1\u001b[0m\" 200 -\n"
     ]
    },
    {
     "name": "stdout",
     "output_type": "stream",
     "text": [
      "url http://192.168.99.119:9090/api/v1/query?query=avg_over_time(container_memory_usage_bytes%7Bcontainer_label_com_docker_swarm_node_id%3D~\"j4mij6hfk3pdl7igmt6jy0em3\"%2C%20id%3D~\"%2Fdocker%2F.*\"%7D%5B5m%5D)%2F1024%2F1024&g0.tab=1\n",
      "[['ID', 'HOSTNAME', 'STATUS', 'AVAILABILITY', 'MANAGER', 'STATUS', 'ENGINE', 'VERSION'], ['gobb5gs2ea0l3hqnqoo597rje', 'manager', 'Ready', 'Active', 'Leader', '19.03.12'], ['j4mij6hfk3pdl7igmt6jy0em3', 'worker1', 'Ready', 'Active', '19.03.12'], ['ykueqwkeyy0whed9ar3eielhz', 'worker2', 'Ready', 'Active', '19.03.12']]\n",
      "Ready\n",
      "Ready\n",
      "Ready\n",
      "url http://192.168.99.119:9090/api/v1/query?query=avg_over_time(container_memory_usage_bytes%7Bcontainer_label_com_docker_swarm_node_id%3D~\"ykueqwkeyy0whed9ar3eielhz\"%2C%20id%3D~\"%2Fdocker%2F.*\"%7D%5B5m%5D)%2F1024%2F1024&g0.tab=1\n"
     ]
    },
    {
     "name": "stderr",
     "output_type": "stream",
     "text": [
      "127.0.0.1 - - [24/Feb/2022 12:04:14] \"\u001b[37mGET /getmem/ HTTP/1.1\u001b[0m\" 200 -\n",
      "127.0.0.1 - - [24/Feb/2022 12:04:17] \"\u001b[37mPOST /geturl/ HTTP/1.1\u001b[0m\" 200 -\n",
      "127.0.0.1 - - [24/Feb/2022 12:04:17] \"\u001b[37mGET /getexectime/ HTTP/1.1\u001b[0m\" 200 -\n"
     ]
    },
    {
     "name": "stdout",
     "output_type": "stream",
     "text": [
      "manager\n",
      "content http://192.168.99.119:9090/\n",
      "url http://192.168.99.119:9090/api/v1/query?query=avg_over_time(container_memory_usage_bytes%7Bcontainer_label_com_docker_swarm_node_id%3D~\"gobb5gs2ea0l3hqnqoo597rje\"%2C%20id%3D~\"%2Fdocker%2F.*\"%7D%5B5m%5D)%2F1024%2F1024&g0.tab=1\n",
      "url http://192.168.99.119:9090/api/v1/query?query=avg_over_time(container_memory_usage_bytes%7Bcontainer_label_com_docker_swarm_node_id%3D~\"j4mij6hfk3pdl7igmt6jy0em3\"%2C%20id%3D~\"%2Fdocker%2F.*\"%7D%5B5m%5D)%2F1024%2F1024&g0.tab=1\n"
     ]
    },
    {
     "name": "stderr",
     "output_type": "stream",
     "text": [
      "127.0.0.1 - - [24/Feb/2022 12:04:17] \"\u001b[37mGET /getjson/ HTTP/1.1\u001b[0m\" 200 -\n",
      "127.0.0.1 - - [24/Feb/2022 12:04:17] \"\u001b[37mGET /UpdateStatus/ HTTP/1.1\u001b[0m\" 200 -\n"
     ]
    },
    {
     "name": "stdout",
     "output_type": "stream",
     "text": [
      "url http://192.168.99.119:9090/api/v1/query?query=avg_over_time(container_memory_usage_bytes%7Bcontainer_label_com_docker_swarm_node_id%3D~\"ykueqwkeyy0whed9ar3eielhz\"%2C%20id%3D~\"%2Fdocker%2F.*\"%7D%5B5m%5D)%2F1024%2F1024&g0.tab=1\n",
      "[['ID', 'HOSTNAME', 'STATUS', 'AVAILABILITY', 'MANAGER', 'STATUS', 'ENGINE', 'VERSION'], ['gobb5gs2ea0l3hqnqoo597rje', 'manager', 'Ready', 'Active', 'Leader', '19.03.12'], ['j4mij6hfk3pdl7igmt6jy0em3', 'worker1', 'Ready', 'Active', '19.03.12'], ['ykueqwkeyy0whed9ar3eielhz', 'worker2', 'Ready', 'Active', '19.03.12']]\n",
      "Ready\n",
      "Ready\n",
      "Ready\n"
     ]
    },
    {
     "name": "stderr",
     "output_type": "stream",
     "text": [
      "127.0.0.1 - - [24/Feb/2022 12:04:18] \"\u001b[37mGET /getmem/ HTTP/1.1\u001b[0m\" 200 -\n",
      "127.0.0.1 - - [24/Feb/2022 12:04:25] \"\u001b[37mGET /getjson/ HTTP/1.1\u001b[0m\" 200 -\n",
      "127.0.0.1 - - [24/Feb/2022 12:04:26] \"\u001b[37mPOST /geturl/ HTTP/1.1\u001b[0m\" 200 -\n",
      "127.0.0.1 - - [24/Feb/2022 12:04:26] \"\u001b[37mGET /getexectime/ HTTP/1.1\u001b[0m\" 200 -\n",
      "127.0.0.1 - - [24/Feb/2022 12:04:26] \"\u001b[37mGET /getjson/ HTTP/1.1\u001b[0m\" 200 -\n"
     ]
    },
    {
     "name": "stdout",
     "output_type": "stream",
     "text": [
      "manager\n",
      "content http://192.168.99.119:9090/\n",
      "url http://192.168.99.119:9090/api/v1/query?query=avg_over_time(container_memory_usage_bytes%7Bcontainer_label_com_docker_swarm_node_id%3D~\"gobb5gs2ea0l3hqnqoo597rje\"%2C%20id%3D~\"%2Fdocker%2F.*\"%7D%5B5m%5D)%2F1024%2F1024&g0.tab=1\n"
     ]
    },
    {
     "name": "stderr",
     "output_type": "stream",
     "text": [
      "127.0.0.1 - - [24/Feb/2022 12:04:26] \"\u001b[37mGET /UpdateStatus/ HTTP/1.1\u001b[0m\" 200 -\n"
     ]
    },
    {
     "name": "stdout",
     "output_type": "stream",
     "text": [
      "url http://192.168.99.119:9090/api/v1/query?query=avg_over_time(container_memory_usage_bytes%7Bcontainer_label_com_docker_swarm_node_id%3D~\"j4mij6hfk3pdl7igmt6jy0em3\"%2C%20id%3D~\"%2Fdocker%2F.*\"%7D%5B5m%5D)%2F1024%2F1024&g0.tab=1\n",
      "[['ID', 'HOSTNAME', 'STATUS', 'AVAILABILITY', 'MANAGER', 'STATUS', 'ENGINE', 'VERSION'], ['gobb5gs2ea0l3hqnqoo597rje', 'manager', 'Ready', 'Active', 'Leader', '19.03.12'], ['j4mij6hfk3pdl7igmt6jy0em3', 'worker1', 'Ready', 'Active', '19.03.12'], ['ykueqwkeyy0whed9ar3eielhz', 'worker2', 'Ready', 'Active', '19.03.12']]\n",
      "Ready\n",
      "Ready\n",
      "Ready\n",
      "url http://192.168.99.119:9090/api/v1/query?query=avg_over_time(container_memory_usage_bytes%7Bcontainer_label_com_docker_swarm_node_id%3D~\"ykueqwkeyy0whed9ar3eielhz\"%2C%20id%3D~\"%2Fdocker%2F.*\"%7D%5B5m%5D)%2F1024%2F1024&g0.tab=1\n"
     ]
    },
    {
     "name": "stderr",
     "output_type": "stream",
     "text": [
      "127.0.0.1 - - [24/Feb/2022 12:04:27] \"\u001b[37mGET /getmem/ HTTP/1.1\u001b[0m\" 200 -\n",
      "127.0.0.1 - - [24/Feb/2022 12:04:38] \"\u001b[37mGET /getjson/ HTTP/1.1\u001b[0m\" 200 -\n",
      "127.0.0.1 - - [24/Feb/2022 12:04:40] \"\u001b[37mPOST /geturl/ HTTP/1.1\u001b[0m\" 200 -\n",
      "127.0.0.1 - - [24/Feb/2022 12:04:40] \"\u001b[37mGET /getexectime/ HTTP/1.1\u001b[0m\" 200 -\n",
      "127.0.0.1 - - [24/Feb/2022 12:04:40] \"\u001b[37mGET /getjson/ HTTP/1.1\u001b[0m\" 200 -\n"
     ]
    },
    {
     "name": "stdout",
     "output_type": "stream",
     "text": [
      "manager\n",
      "content http://192.168.99.119:9090/\n",
      "url http://192.168.99.119:9090/api/v1/query?query=avg_over_time(container_memory_usage_bytes%7Bcontainer_label_com_docker_swarm_node_id%3D~\"gobb5gs2ea0l3hqnqoo597rje\"%2C%20id%3D~\"%2Fdocker%2F.*\"%7D%5B5m%5D)%2F1024%2F1024&g0.tab=1\n",
      "url http://192.168.99.119:9090/api/v1/query?query=avg_over_time(container_memory_usage_bytes%7Bcontainer_label_com_docker_swarm_node_id%3D~\"j4mij6hfk3pdl7igmt6jy0em3\"%2C%20id%3D~\"%2Fdocker%2F.*\"%7D%5B5m%5D)%2F1024%2F1024&g0.tab=1\n"
     ]
    },
    {
     "name": "stderr",
     "output_type": "stream",
     "text": [
      "127.0.0.1 - - [24/Feb/2022 12:04:40] \"\u001b[37mGET /UpdateStatus/ HTTP/1.1\u001b[0m\" 200 -\n"
     ]
    },
    {
     "name": "stdout",
     "output_type": "stream",
     "text": [
      "[['ID', 'HOSTNAME', 'STATUS', 'AVAILABILITY', 'MANAGER', 'STATUS', 'ENGINE', 'VERSION'], ['gobb5gs2ea0l3hqnqoo597rje', 'manager', 'Ready', 'Active', 'Leader', '19.03.12'], ['j4mij6hfk3pdl7igmt6jy0em3', 'worker1', 'Ready', 'Active', '19.03.12'], ['ykueqwkeyy0whed9ar3eielhz', 'worker2', 'Ready', 'Active', '19.03.12']]\n",
      "Ready\n",
      "Ready\n",
      "Ready\n",
      "url http://192.168.99.119:9090/api/v1/query?query=avg_over_time(container_memory_usage_bytes%7Bcontainer_label_com_docker_swarm_node_id%3D~\"ykueqwkeyy0whed9ar3eielhz\"%2C%20id%3D~\"%2Fdocker%2F.*\"%7D%5B5m%5D)%2F1024%2F1024&g0.tab=1\n"
     ]
    },
    {
     "name": "stderr",
     "output_type": "stream",
     "text": [
      "127.0.0.1 - - [24/Feb/2022 12:04:41] \"\u001b[37mGET /getmem/ HTTP/1.1\u001b[0m\" 200 -\n",
      "127.0.0.1 - - [24/Feb/2022 12:04:50] \"\u001b[37mGET /getjson/ HTTP/1.1\u001b[0m\" 200 -\n",
      "127.0.0.1 - - [24/Feb/2022 12:04:50] \"\u001b[37mPOST /geturl/ HTTP/1.1\u001b[0m\" 200 -\n",
      "127.0.0.1 - - [24/Feb/2022 12:04:50] \"\u001b[37mGET /getexectime/ HTTP/1.1\u001b[0m\" 200 -\n",
      "127.0.0.1 - - [24/Feb/2022 12:04:50] \"\u001b[37mGET /getjson/ HTTP/1.1\u001b[0m\" 200 -\n"
     ]
    },
    {
     "name": "stdout",
     "output_type": "stream",
     "text": [
      "manager\n",
      "content http://192.168.99.119:9090/\n",
      "url http://192.168.99.119:9090/api/v1/query?query=avg_over_time(container_memory_usage_bytes%7Bcontainer_label_com_docker_swarm_node_id%3D~\"gobb5gs2ea0l3hqnqoo597rje\"%2C%20id%3D~\"%2Fdocker%2F.*\"%7D%5B5m%5D)%2F1024%2F1024&g0.tab=1\n"
     ]
    },
    {
     "name": "stderr",
     "output_type": "stream",
     "text": [
      "127.0.0.1 - - [24/Feb/2022 12:04:51] \"\u001b[37mGET /UpdateStatus/ HTTP/1.1\u001b[0m\" 200 -\n"
     ]
    },
    {
     "name": "stdout",
     "output_type": "stream",
     "text": [
      "url http://192.168.99.119:9090/api/v1/query?query=avg_over_time(container_memory_usage_bytes%7Bcontainer_label_com_docker_swarm_node_id%3D~\"j4mij6hfk3pdl7igmt6jy0em3\"%2C%20id%3D~\"%2Fdocker%2F.*\"%7D%5B5m%5D)%2F1024%2F1024&g0.tab=1\n",
      "[['ID', 'HOSTNAME', 'STATUS', 'AVAILABILITY', 'MANAGER', 'STATUS', 'ENGINE', 'VERSION'], ['gobb5gs2ea0l3hqnqoo597rje', 'manager', 'Ready', 'Active', 'Leader', '19.03.12'], ['j4mij6hfk3pdl7igmt6jy0em3', 'worker1', 'Ready', 'Active', '19.03.12'], ['ykueqwkeyy0whed9ar3eielhz', 'worker2', 'Ready', 'Active', '19.03.12']]\n",
      "Ready\n",
      "Ready\n",
      "Ready\n",
      "url http://192.168.99.119:9090/api/v1/query?query=avg_over_time(container_memory_usage_bytes%7Bcontainer_label_com_docker_swarm_node_id%3D~\"ykueqwkeyy0whed9ar3eielhz\"%2C%20id%3D~\"%2Fdocker%2F.*\"%7D%5B5m%5D)%2F1024%2F1024&g0.tab=1\n"
     ]
    },
    {
     "name": "stderr",
     "output_type": "stream",
     "text": [
      "127.0.0.1 - - [24/Feb/2022 12:04:52] \"\u001b[37mGET /getmem/ HTTP/1.1\u001b[0m\" 200 -\n",
      "127.0.0.1 - - [24/Feb/2022 12:06:27] \"\u001b[37mGET /getjson/ HTTP/1.1\u001b[0m\" 200 -\n",
      "127.0.0.1 - - [24/Feb/2022 12:06:28] \"\u001b[37mPOST /geturl/ HTTP/1.1\u001b[0m\" 200 -\n",
      "127.0.0.1 - - [24/Feb/2022 12:06:28] \"\u001b[37mGET /getexectime/ HTTP/1.1\u001b[0m\" 200 -\n",
      "[2022-02-24 12:06:28,588] ERROR in app: Exception on /getjson/ [GET]\n",
      "Traceback (most recent call last):\n",
      "  File \"/Users/anwar/opt/anaconda3/lib/python3.8/site-packages/flask/app.py\", line 2447, in wsgi_app\n",
      "    response = self.full_dispatch_request()\n",
      "  File \"/Users/anwar/opt/anaconda3/lib/python3.8/site-packages/flask/app.py\", line 1952, in full_dispatch_request\n",
      "    rv = self.handle_user_exception(e)\n",
      "  File \"/Users/anwar/opt/anaconda3/lib/python3.8/site-packages/flask_cors/extension.py\", line 165, in wrapped_function\n",
      "    return cors_after_request(app.make_response(f(*args, **kwargs)))\n",
      "  File \"/Users/anwar/opt/anaconda3/lib/python3.8/site-packages/flask_restful/__init__.py\", line 271, in error_router\n",
      "    return original_handler(e)\n",
      "  File \"/Users/anwar/opt/anaconda3/lib/python3.8/site-packages/flask/app.py\", line 1821, in handle_user_exception\n",
      "    reraise(exc_type, exc_value, tb)\n",
      "  File \"/Users/anwar/opt/anaconda3/lib/python3.8/site-packages/flask/_compat.py\", line 39, in reraise\n",
      "    raise value\n",
      "  File \"/Users/anwar/opt/anaconda3/lib/python3.8/site-packages/flask/app.py\", line 1950, in full_dispatch_request\n",
      "    rv = self.dispatch_request()\n",
      "  File \"/Users/anwar/opt/anaconda3/lib/python3.8/site-packages/flask/app.py\", line 1936, in dispatch_request\n",
      "    return self.view_functions[rule.endpoint](**req.view_args)\n",
      "  File \"<ipython-input-1-bb216e7d2d1c>\", line 37, in getjson\n",
      "    data = json.load(f)\n",
      "  File \"/Users/anwar/opt/anaconda3/lib/python3.8/json/__init__.py\", line 293, in load\n",
      "    return loads(fp.read(),\n",
      "  File \"/Users/anwar/opt/anaconda3/lib/python3.8/json/__init__.py\", line 357, in loads\n",
      "    return _default_decoder.decode(s)\n",
      "  File \"/Users/anwar/opt/anaconda3/lib/python3.8/json/decoder.py\", line 337, in decode\n",
      "    obj, end = self.raw_decode(s, idx=_w(s, 0).end())\n",
      "  File \"/Users/anwar/opt/anaconda3/lib/python3.8/json/decoder.py\", line 353, in raw_decode\n",
      "    obj, end = self.scan_once(s, idx)\n",
      "json.decoder.JSONDecodeError: Expecting ',' delimiter: line 1 column 8209 (char 8208)\n",
      "127.0.0.1 - - [24/Feb/2022 12:06:28] \"\u001b[35m\u001b[1mGET /getjson/ HTTP/1.1\u001b[0m\" 500 -\n"
     ]
    },
    {
     "name": "stdout",
     "output_type": "stream",
     "text": [
      "manager\n",
      "content http://192.168.99.119:9090/\n",
      "url http://192.168.99.119:9090/api/v1/query?query=avg_over_time(container_memory_usage_bytes%7Bcontainer_label_com_docker_swarm_node_id%3D~\"gobb5gs2ea0l3hqnqoo597rje\"%2C%20id%3D~\"%2Fdocker%2F.*\"%7D%5B5m%5D)%2F1024%2F1024&g0.tab=1\n",
      "url http://192.168.99.119:9090/api/v1/query?query=avg_over_time(container_memory_usage_bytes%7Bcontainer_label_com_docker_swarm_node_id%3D~\"j4mij6hfk3pdl7igmt6jy0em3\"%2C%20id%3D~\"%2Fdocker%2F.*\"%7D%5B5m%5D)%2F1024%2F1024&g0.tab=1\n"
     ]
    },
    {
     "name": "stderr",
     "output_type": "stream",
     "text": [
      "127.0.0.1 - - [24/Feb/2022 12:06:28] \"\u001b[37mGET /UpdateStatus/ HTTP/1.1\u001b[0m\" 200 -\n"
     ]
    },
    {
     "name": "stdout",
     "output_type": "stream",
     "text": [
      "url http://192.168.99.119:9090/api/v1/query?query=avg_over_time(container_memory_usage_bytes%7Bcontainer_label_com_docker_swarm_node_id%3D~\"ykueqwkeyy0whed9ar3eielhz\"%2C%20id%3D~\"%2Fdocker%2F.*\"%7D%5B5m%5D)%2F1024%2F1024&g0.tab=1\n",
      "[['ID', 'HOSTNAME', 'STATUS', 'AVAILABILITY', 'MANAGER', 'STATUS', 'ENGINE', 'VERSION'], ['gobb5gs2ea0l3hqnqoo597rje', 'manager', 'Ready', 'Active', 'Leader', '19.03.12'], ['j4mij6hfk3pdl7igmt6jy0em3', 'worker1', 'Ready', 'Active', '19.03.12'], ['ykueqwkeyy0whed9ar3eielhz', 'worker2', 'Ready', 'Active', '19.03.12']]\n",
      "Ready\n",
      "Ready\n",
      "Ready\n"
     ]
    },
    {
     "name": "stderr",
     "output_type": "stream",
     "text": [
      "127.0.0.1 - - [24/Feb/2022 12:06:29] \"\u001b[37mGET /getmem/ HTTP/1.1\u001b[0m\" 200 -\n",
      "127.0.0.1 - - [24/Feb/2022 12:06:48] \"\u001b[37mGET /getjson/ HTTP/1.1\u001b[0m\" 200 -\n",
      "127.0.0.1 - - [24/Feb/2022 12:06:48] \"\u001b[37mPOST /geturl/ HTTP/1.1\u001b[0m\" 200 -\n",
      "127.0.0.1 - - [24/Feb/2022 12:06:48] \"\u001b[37mGET /getexectime/ HTTP/1.1\u001b[0m\" 200 -\n",
      "127.0.0.1 - - [24/Feb/2022 12:06:48] \"\u001b[37mGET /getjson/ HTTP/1.1\u001b[0m\" 200 -\n"
     ]
    },
    {
     "name": "stdout",
     "output_type": "stream",
     "text": [
      "manager\n",
      "content http://192.168.99.119:9090/\n",
      "url http://192.168.99.119:9090/api/v1/query?query=avg_over_time(container_memory_usage_bytes%7Bcontainer_label_com_docker_swarm_node_id%3D~\"gobb5gs2ea0l3hqnqoo597rje\"%2C%20id%3D~\"%2Fdocker%2F.*\"%7D%5B5m%5D)%2F1024%2F1024&g0.tab=1\n"
     ]
    },
    {
     "name": "stderr",
     "output_type": "stream",
     "text": [
      "127.0.0.1 - - [24/Feb/2022 12:06:49] \"\u001b[37mGET /UpdateStatus/ HTTP/1.1\u001b[0m\" 200 -\n"
     ]
    },
    {
     "name": "stdout",
     "output_type": "stream",
     "text": [
      "[['ID', 'HOSTNAME', 'STATUS', 'AVAILABILITY', 'MANAGER', 'STATUS', 'ENGINE', 'VERSION'], ['gobb5gs2ea0l3hqnqoo597rje', 'manager', 'Ready', 'Active', 'Leader', '19.03.12'], ['j4mij6hfk3pdl7igmt6jy0em3', 'worker1', 'Ready', 'Active', '19.03.12'], ['ykueqwkeyy0whed9ar3eielhz', 'worker2', 'Ready', 'Active', '19.03.12']]\n",
      "Ready\n",
      "Ready\n",
      "Ready\n",
      "url http://192.168.99.119:9090/api/v1/query?query=avg_over_time(container_memory_usage_bytes%7Bcontainer_label_com_docker_swarm_node_id%3D~\"j4mij6hfk3pdl7igmt6jy0em3\"%2C%20id%3D~\"%2Fdocker%2F.*\"%7D%5B5m%5D)%2F1024%2F1024&g0.tab=1\n",
      "url http://192.168.99.119:9090/api/v1/query?query=avg_over_time(container_memory_usage_bytes%7Bcontainer_label_com_docker_swarm_node_id%3D~\"ykueqwkeyy0whed9ar3eielhz\"%2C%20id%3D~\"%2Fdocker%2F.*\"%7D%5B5m%5D)%2F1024%2F1024&g0.tab=1\n"
     ]
    },
    {
     "name": "stderr",
     "output_type": "stream",
     "text": [
      "127.0.0.1 - - [24/Feb/2022 12:06:50] \"\u001b[37mGET /getmem/ HTTP/1.1\u001b[0m\" 200 -\n",
      "127.0.0.1 - - [24/Feb/2022 12:06:54] \"\u001b[37mGET /getjson/ HTTP/1.1\u001b[0m\" 200 -\n",
      "127.0.0.1 - - [24/Feb/2022 12:06:54] \"\u001b[37mPOST /geturl/ HTTP/1.1\u001b[0m\" 200 -\n",
      "127.0.0.1 - - [24/Feb/2022 12:06:54] \"\u001b[37mGET /getexectime/ HTTP/1.1\u001b[0m\" 200 -\n",
      "127.0.0.1 - - [24/Feb/2022 12:06:55] \"\u001b[37mGET /getjson/ HTTP/1.1\u001b[0m\" 200 -\n"
     ]
    },
    {
     "name": "stdout",
     "output_type": "stream",
     "text": [
      "manager\n",
      "content urlhttp://192.168.99.119:9090/ http://192.168.99.119:9090/api/v1/query?query=avg_over_time(container_memory_usage_bytes%7Bcontainer_label_com_docker_swarm_node_id%3D~\"gobb5gs2ea0l3hqnqoo597rje\"%2C%20id%3D~\"%2Fdocker%2F.*\"%7D%5B5m%5D)%2F1024%2F1024&g0.tab=1\n",
      "\n"
     ]
    },
    {
     "name": "stderr",
     "output_type": "stream",
     "text": [
      "127.0.0.1 - - [24/Feb/2022 12:06:55] \"\u001b[37mGET /UpdateStatus/ HTTP/1.1\u001b[0m\" 200 -\n"
     ]
    },
    {
     "name": "stdout",
     "output_type": "stream",
     "text": [
      "url http://192.168.99.119:9090/api/v1/query?query=avg_over_time(container_memory_usage_bytes%7Bcontainer_label_com_docker_swarm_node_id%3D~\"j4mij6hfk3pdl7igmt6jy0em3\"%2C%20id%3D~\"%2Fdocker%2F.*\"%7D%5B5m%5D)%2F1024%2F1024&g0.tab=1\n",
      "[['ID', 'HOSTNAME', 'STATUS', 'AVAILABILITY', 'MANAGER', 'STATUS', 'ENGINE', 'VERSION'], ['gobb5gs2ea0l3hqnqoo597rje', 'manager', 'Ready', 'Active', 'Leader', '19.03.12'], ['j4mij6hfk3pdl7igmt6jy0em3', 'worker1', 'Ready', 'Active', '19.03.12'], ['ykueqwkeyy0whed9ar3eielhz', 'worker2', 'Ready', 'Active', '19.03.12']]\n",
      "Ready\n",
      "Ready\n",
      "Ready\n",
      "url http://192.168.99.119:9090/api/v1/query?query=avg_over_time(container_memory_usage_bytes%7Bcontainer_label_com_docker_swarm_node_id%3D~\"ykueqwkeyy0whed9ar3eielhz\"%2C%20id%3D~\"%2Fdocker%2F.*\"%7D%5B5m%5D)%2F1024%2F1024&g0.tab=1\n"
     ]
    },
    {
     "name": "stderr",
     "output_type": "stream",
     "text": [
      "127.0.0.1 - - [24/Feb/2022 12:06:56] \"\u001b[37mGET /getmem/ HTTP/1.1\u001b[0m\" 200 -\n",
      "127.0.0.1 - - [24/Feb/2022 12:08:42] \"\u001b[37mPOST /geturl/ HTTP/1.1\u001b[0m\" 200 -\n",
      "127.0.0.1 - - [24/Feb/2022 12:08:42] \"\u001b[37mGET /getexectime/ HTTP/1.1\u001b[0m\" 200 -\n"
     ]
    },
    {
     "name": "stdout",
     "output_type": "stream",
     "text": [
      "manager\n",
      "contenturl  http://192.168.99.119:9090/api/v1/query?query=avg_over_time(container_memory_usage_bytes%7Bcontainer_label_com_docker_swarm_node_id%3D~\"gobb5gs2ea0l3hqnqoo597rje\"%2C%20id%3D~\"%2Fdocker%2F.*\"%7D%5B5m%5D)%2F1024%2F1024&g0.tab=1\n",
      "http://192.168.99.119:9090/\n",
      "url http://192.168.99.119:9090/api/v1/query?query=avg_over_time(container_memory_usage_bytes%7Bcontainer_label_com_docker_swarm_node_id%3D~\"j4mij6hfk3pdl7igmt6jy0em3\"%2C%20id%3D~\"%2Fdocker%2F.*\"%7D%5B5m%5D)%2F1024%2F1024&g0.tab=1\n"
     ]
    },
    {
     "name": "stderr",
     "output_type": "stream",
     "text": [
      "127.0.0.1 - - [24/Feb/2022 12:08:43] \"\u001b[37mGET /UpdateStatus/ HTTP/1.1\u001b[0m\" 200 -\n",
      "127.0.0.1 - - [24/Feb/2022 12:08:43] \"\u001b[37mGET /getjson/ HTTP/1.1\u001b[0m\" 200 -\n"
     ]
    },
    {
     "name": "stdout",
     "output_type": "stream",
     "text": [
      "url http://192.168.99.119:9090/api/v1/query?query=avg_over_time(container_memory_usage_bytes%7Bcontainer_label_com_docker_swarm_node_id%3D~\"ykueqwkeyy0whed9ar3eielhz\"%2C%20id%3D~\"%2Fdocker%2F.*\"%7D%5B5m%5D)%2F1024%2F1024&g0.tab=1\n",
      "[['ID', 'HOSTNAME', 'STATUS', 'AVAILABILITY', 'MANAGER', 'STATUS', 'ENGINE', 'VERSION'], ['gobb5gs2ea0l3hqnqoo597rje', 'manager', 'Ready', 'Active', 'Leader', '19.03.12'], ['j4mij6hfk3pdl7igmt6jy0em3', 'worker1', 'Ready', 'Active', '19.03.12'], ['ykueqwkeyy0whed9ar3eielhz', 'worker2', 'Ready', 'Active', '19.03.12']]\n",
      "Ready\n",
      "Ready\n",
      "Ready\n"
     ]
    },
    {
     "name": "stderr",
     "output_type": "stream",
     "text": [
      "127.0.0.1 - - [24/Feb/2022 12:08:43] \"\u001b[37mGET /getmem/ HTTP/1.1\u001b[0m\" 200 -\n",
      "127.0.0.1 - - [24/Feb/2022 12:23:20] \"\u001b[37mGET /getjson/ HTTP/1.1\u001b[0m\" 200 -\n",
      "127.0.0.1 - - [24/Feb/2022 12:23:21] \"\u001b[37mPOST /geturl/ HTTP/1.1\u001b[0m\" 200 -\n",
      "127.0.0.1 - - [24/Feb/2022 12:23:21] \"\u001b[37mGET /getexectime/ HTTP/1.1\u001b[0m\" 200 -\n"
     ]
    },
    {
     "name": "stdout",
     "output_type": "stream",
     "text": [
      "manager\n",
      "content urlhttp://192.168.99.119:9090/ http://192.168.99.119:9090/api/v1/query?query=avg_over_time(container_memory_usage_bytes%7Bcontainer_label_com_docker_swarm_node_id%3D~\"gobb5gs2ea0l3hqnqoo597rje\"%2C%20id%3D~\"%2Fdocker%2F.*\"%7D%5B5m%5D)%2F1024%2F1024&g0.tab=1\n",
      "\n"
     ]
    },
    {
     "name": "stderr",
     "output_type": "stream",
     "text": [
      "[2022-02-24 12:23:21,237] ERROR in app: Exception on /getjson/ [GET]\n",
      "Traceback (most recent call last):\n",
      "  File \"/Users/anwar/opt/anaconda3/lib/python3.8/site-packages/flask/app.py\", line 2447, in wsgi_app\n",
      "    response = self.full_dispatch_request()\n",
      "  File \"/Users/anwar/opt/anaconda3/lib/python3.8/site-packages/flask/app.py\", line 1952, in full_dispatch_request\n",
      "    rv = self.handle_user_exception(e)\n",
      "  File \"/Users/anwar/opt/anaconda3/lib/python3.8/site-packages/flask_cors/extension.py\", line 165, in wrapped_function\n",
      "    return cors_after_request(app.make_response(f(*args, **kwargs)))\n",
      "  File \"/Users/anwar/opt/anaconda3/lib/python3.8/site-packages/flask_restful/__init__.py\", line 271, in error_router\n",
      "    return original_handler(e)\n",
      "  File \"/Users/anwar/opt/anaconda3/lib/python3.8/site-packages/flask/app.py\", line 1821, in handle_user_exception\n",
      "    reraise(exc_type, exc_value, tb)\n",
      "  File \"/Users/anwar/opt/anaconda3/lib/python3.8/site-packages/flask/_compat.py\", line 39, in reraise\n",
      "    raise value\n",
      "  File \"/Users/anwar/opt/anaconda3/lib/python3.8/site-packages/flask/app.py\", line 1950, in full_dispatch_request\n",
      "    rv = self.dispatch_request()\n",
      "  File \"/Users/anwar/opt/anaconda3/lib/python3.8/site-packages/flask/app.py\", line 1936, in dispatch_request\n",
      "    return self.view_functions[rule.endpoint](**req.view_args)\n",
      "  File \"<ipython-input-1-bb216e7d2d1c>\", line 37, in getjson\n",
      "    data = json.load(f)\n",
      "  File \"/Users/anwar/opt/anaconda3/lib/python3.8/json/__init__.py\", line 293, in load\n",
      "    return loads(fp.read(),\n",
      "  File \"/Users/anwar/opt/anaconda3/lib/python3.8/json/__init__.py\", line 357, in loads\n",
      "    return _default_decoder.decode(s)\n",
      "  File \"/Users/anwar/opt/anaconda3/lib/python3.8/json/decoder.py\", line 337, in decode\n",
      "    obj, end = self.raw_decode(s, idx=_w(s, 0).end())\n",
      "  File \"/Users/anwar/opt/anaconda3/lib/python3.8/json/decoder.py\", line 355, in raw_decode\n",
      "    raise JSONDecodeError(\"Expecting value\", s, err.value) from None\n",
      "json.decoder.JSONDecodeError: Expecting value: line 1 column 1 (char 0)\n",
      "127.0.0.1 - - [24/Feb/2022 12:23:21] \"\u001b[35m\u001b[1mGET /getjson/ HTTP/1.1\u001b[0m\" 500 -\n"
     ]
    },
    {
     "name": "stdout",
     "output_type": "stream",
     "text": [
      "url http://192.168.99.119:9090/api/v1/query?query=avg_over_time(container_memory_usage_bytes%7Bcontainer_label_com_docker_swarm_node_id%3D~\"j4mij6hfk3pdl7igmt6jy0em3\"%2C%20id%3D~\"%2Fdocker%2F.*\"%7D%5B5m%5D)%2F1024%2F1024&g0.tab=1\n",
      "url http://192.168.99.119:9090/api/v1/query?query=avg_over_time(container_memory_usage_bytes%7Bcontainer_label_com_docker_swarm_node_id%3D~\"ykueqwkeyy0whed9ar3eielhz\"%2C%20id%3D~\"%2Fdocker%2F.*\"%7D%5B5m%5D)%2F1024%2F1024&g0.tab=1\n"
     ]
    },
    {
     "name": "stderr",
     "output_type": "stream",
     "text": [
      "127.0.0.1 - - [24/Feb/2022 12:23:21] \"\u001b[37mGET /UpdateStatus/ HTTP/1.1\u001b[0m\" 200 -\n"
     ]
    },
    {
     "name": "stdout",
     "output_type": "stream",
     "text": [
      "[['ID', 'HOSTNAME', 'STATUS', 'AVAILABILITY', 'MANAGER', 'STATUS', 'ENGINE', 'VERSION'], ['gobb5gs2ea0l3hqnqoo597rje', 'manager', 'Ready', 'Active', 'Leader', '19.03.12'], ['j4mij6hfk3pdl7igmt6jy0em3', 'worker1', 'Ready', 'Active', '19.03.12'], ['ykueqwkeyy0whed9ar3eielhz', 'worker2', 'Ready', 'Active', '19.03.12']]\n",
      "Ready\n",
      "Ready\n",
      "Ready\n"
     ]
    },
    {
     "name": "stderr",
     "output_type": "stream",
     "text": [
      "127.0.0.1 - - [24/Feb/2022 12:23:22] \"\u001b[37mGET /getmem/ HTTP/1.1\u001b[0m\" 200 -\n",
      "127.0.0.1 - - [24/Feb/2022 12:31:22] \"\u001b[37mPOST /geturl/ HTTP/1.1\u001b[0m\" 200 -\n",
      "127.0.0.1 - - [24/Feb/2022 12:31:22] \"\u001b[37mGET /getexectime/ HTTP/1.1\u001b[0m\" 200 -\n",
      "[2022-02-24 12:31:22,355] ERROR in app: Exception on /UpdateStatus/ [GET]\n",
      "Traceback (most recent call last):\n",
      "  File \"/Users/anwar/opt/anaconda3/lib/python3.8/site-packages/flask/app.py\", line 2447, in wsgi_app\n",
      "    response = self.full_dispatch_request()\n",
      "  File \"/Users/anwar/opt/anaconda3/lib/python3.8/site-packages/flask/app.py\", line 1952, in full_dispatch_request\n",
      "    rv = self.handle_user_exception(e)\n",
      "  File \"/Users/anwar/opt/anaconda3/lib/python3.8/site-packages/flask_cors/extension.py\", line 165, in wrapped_function\n",
      "    return cors_after_request(app.make_response(f(*args, **kwargs)))\n",
      "  File \"/Users/anwar/opt/anaconda3/lib/python3.8/site-packages/flask_restful/__init__.py\", line 271, in error_router\n",
      "    return original_handler(e)\n",
      "  File \"/Users/anwar/opt/anaconda3/lib/python3.8/site-packages/flask/app.py\", line 1821, in handle_user_exception\n",
      "    reraise(exc_type, exc_value, tb)\n",
      "  File \"/Users/anwar/opt/anaconda3/lib/python3.8/site-packages/flask/_compat.py\", line 39, in reraise\n",
      "    raise value\n",
      "  File \"/Users/anwar/opt/anaconda3/lib/python3.8/site-packages/flask/app.py\", line 1950, in full_dispatch_request\n",
      "    rv = self.dispatch_request()\n",
      "  File \"/Users/anwar/opt/anaconda3/lib/python3.8/site-packages/flask/app.py\", line 1936, in dispatch_request\n",
      "    return self.view_functions[rule.endpoint](**req.view_args)\n",
      "  File \"<ipython-input-1-bb216e7d2d1c>\", line 192, in get_nodes\n",
      "    del machines[0]\n",
      "IndexError: list assignment index out of range\n",
      "127.0.0.1 - - [24/Feb/2022 12:31:22] \"\u001b[35m\u001b[1mGET /UpdateStatus/ HTTP/1.1\u001b[0m\" 500 -\n"
     ]
    },
    {
     "name": "stdout",
     "output_type": "stream",
     "text": [
      "manager\n",
      "content url http://192.168.99.119:9090/api/v1/query?query=avg_over_time(container_memory_usage_bytes%7Bcontainer_label_com_docker_swarm_node_id%3D~\"gobb5gs2ea0l3hqnqoo597rje\"%2C%20id%3D~\"%2Fdocker%2F.*\"%7D%5B5m%5D)%2F1024%2F1024&g0.tab=1\n",
      "http://192.168.99.119:9090/\n"
     ]
    },
    {
     "name": "stderr",
     "output_type": "stream",
     "text": [
      "[2022-02-24 12:47:01,319] ERROR in app: Exception on /getmem/ [GET]\n",
      "Traceback (most recent call last):\n",
      "  File \"/Users/anwar/opt/anaconda3/lib/python3.8/site-packages/urllib3/connection.py\", line 169, in _new_conn\n",
      "    conn = connection.create_connection(\n",
      "  File \"/Users/anwar/opt/anaconda3/lib/python3.8/site-packages/urllib3/util/connection.py\", line 96, in create_connection\n",
      "    raise err\n",
      "  File \"/Users/anwar/opt/anaconda3/lib/python3.8/site-packages/urllib3/util/connection.py\", line 86, in create_connection\n",
      "    sock.connect(sa)\n",
      "TimeoutError: [Errno 60] Operation timed out\n",
      "\n",
      "During handling of the above exception, another exception occurred:\n",
      "\n",
      "Traceback (most recent call last):\n",
      "  File \"/Users/anwar/opt/anaconda3/lib/python3.8/site-packages/urllib3/connectionpool.py\", line 699, in urlopen\n",
      "    httplib_response = self._make_request(\n",
      "  File \"/Users/anwar/opt/anaconda3/lib/python3.8/site-packages/urllib3/connectionpool.py\", line 394, in _make_request\n",
      "    conn.request(method, url, **httplib_request_kw)\n",
      "  File \"/Users/anwar/opt/anaconda3/lib/python3.8/site-packages/urllib3/connection.py\", line 234, in request\n",
      "    super(HTTPConnection, self).request(method, url, body=body, headers=headers)\n",
      "  File \"/Users/anwar/opt/anaconda3/lib/python3.8/http/client.py\", line 1255, in request\n",
      "    self._send_request(method, url, body, headers, encode_chunked)\n",
      "  File \"/Users/anwar/opt/anaconda3/lib/python3.8/http/client.py\", line 1301, in _send_request\n",
      "    self.endheaders(body, encode_chunked=encode_chunked)\n",
      "  File \"/Users/anwar/opt/anaconda3/lib/python3.8/http/client.py\", line 1250, in endheaders\n",
      "    self._send_output(message_body, encode_chunked=encode_chunked)\n",
      "  File \"/Users/anwar/opt/anaconda3/lib/python3.8/http/client.py\", line 1010, in _send_output\n",
      "    self.send(msg)\n",
      "  File \"/Users/anwar/opt/anaconda3/lib/python3.8/http/client.py\", line 950, in send\n",
      "    self.connect()\n",
      "  File \"/Users/anwar/opt/anaconda3/lib/python3.8/site-packages/urllib3/connection.py\", line 200, in connect\n",
      "    conn = self._new_conn()\n",
      "  File \"/Users/anwar/opt/anaconda3/lib/python3.8/site-packages/urllib3/connection.py\", line 181, in _new_conn\n",
      "    raise NewConnectionError(\n",
      "urllib3.exceptions.NewConnectionError: <urllib3.connection.HTTPConnection object at 0x7fcf5efa15e0>: Failed to establish a new connection: [Errno 60] Operation timed out\n",
      "\n",
      "During handling of the above exception, another exception occurred:\n",
      "\n",
      "Traceback (most recent call last):\n",
      "  File \"/Users/anwar/opt/anaconda3/lib/python3.8/site-packages/requests/adapters.py\", line 439, in send\n",
      "    resp = conn.urlopen(\n",
      "  File \"/Users/anwar/opt/anaconda3/lib/python3.8/site-packages/urllib3/connectionpool.py\", line 755, in urlopen\n",
      "    retries = retries.increment(\n",
      "  File \"/Users/anwar/opt/anaconda3/lib/python3.8/site-packages/urllib3/util/retry.py\", line 574, in increment\n",
      "    raise MaxRetryError(_pool, url, error or ResponseError(cause))\n",
      "urllib3.exceptions.MaxRetryError: HTTPConnectionPool(host='192.168.99.119', port=9090): Max retries exceeded with url: /api/v1/query?query=avg_over_time(container_memory_usage_bytes%7Bcontainer_label_com_docker_swarm_node_id%3D~%22gobb5gs2ea0l3hqnqoo597rje%22%2C%20id%3D~%22%2Fdocker%2F.*%22%7D%5B5m%5D)%2F1024%2F1024&g0.tab=1 (Caused by NewConnectionError('<urllib3.connection.HTTPConnection object at 0x7fcf5efa15e0>: Failed to establish a new connection: [Errno 60] Operation timed out'))\n",
      "\n",
      "During handling of the above exception, another exception occurred:\n",
      "\n",
      "Traceback (most recent call last):\n",
      "  File \"/Users/anwar/opt/anaconda3/lib/python3.8/site-packages/flask/app.py\", line 2447, in wsgi_app\n",
      "    response = self.full_dispatch_request()\n",
      "  File \"/Users/anwar/opt/anaconda3/lib/python3.8/site-packages/flask/app.py\", line 1952, in full_dispatch_request\n",
      "    rv = self.handle_user_exception(e)\n",
      "  File \"/Users/anwar/opt/anaconda3/lib/python3.8/site-packages/flask_cors/extension.py\", line 165, in wrapped_function\n",
      "    return cors_after_request(app.make_response(f(*args, **kwargs)))\n",
      "  File \"/Users/anwar/opt/anaconda3/lib/python3.8/site-packages/flask_restful/__init__.py\", line 271, in error_router\n",
      "    return original_handler(e)\n",
      "  File \"/Users/anwar/opt/anaconda3/lib/python3.8/site-packages/flask/app.py\", line 1821, in handle_user_exception\n",
      "    reraise(exc_type, exc_value, tb)\n",
      "  File \"/Users/anwar/opt/anaconda3/lib/python3.8/site-packages/flask/_compat.py\", line 39, in reraise\n",
      "    raise value\n",
      "  File \"/Users/anwar/opt/anaconda3/lib/python3.8/site-packages/flask/app.py\", line 1950, in full_dispatch_request\n",
      "    rv = self.dispatch_request()\n",
      "  File \"/Users/anwar/opt/anaconda3/lib/python3.8/site-packages/flask/app.py\", line 1936, in dispatch_request\n",
      "    return self.view_functions[rule.endpoint](**req.view_args)\n",
      "  File \"<ipython-input-1-bb216e7d2d1c>\", line 291, in get_mem_per_container\n",
      "    r = requests.get(url+'api/v1/query?query=avg_over_time(container_memory_usage_bytes%7Bcontainer_label_com_docker_swarm_node_id%3D~\"'+str(node.cluster_id[0])+'\"%2C%20id%3D~\"%2Fdocker%2F.*\"%7D%5B5m%5D)%2F1024%2F1024&g0.tab=1')\n",
      "  File \"/Users/anwar/opt/anaconda3/lib/python3.8/site-packages/requests/api.py\", line 76, in get\n",
      "    return request('get', url, params=params, **kwargs)\n",
      "  File \"/Users/anwar/opt/anaconda3/lib/python3.8/site-packages/requests/api.py\", line 61, in request\n",
      "    return session.request(method=method, url=url, **kwargs)\n",
      "  File \"/Users/anwar/opt/anaconda3/lib/python3.8/site-packages/requests/sessions.py\", line 542, in request\n",
      "    resp = self.send(prep, **send_kwargs)\n",
      "  File \"/Users/anwar/opt/anaconda3/lib/python3.8/site-packages/requests/sessions.py\", line 655, in send\n",
      "    r = adapter.send(request, **kwargs)\n",
      "  File \"/Users/anwar/opt/anaconda3/lib/python3.8/site-packages/requests/adapters.py\", line 516, in send\n",
      "    raise ConnectionError(e, request=request)\n",
      "requests.exceptions.ConnectionError: HTTPConnectionPool(host='192.168.99.119', port=9090): Max retries exceeded with url: /api/v1/query?query=avg_over_time(container_memory_usage_bytes%7Bcontainer_label_com_docker_swarm_node_id%3D~%22gobb5gs2ea0l3hqnqoo597rje%22%2C%20id%3D~%22%2Fdocker%2F.*%22%7D%5B5m%5D)%2F1024%2F1024&g0.tab=1 (Caused by NewConnectionError('<urllib3.connection.HTTPConnection object at 0x7fcf5efa15e0>: Failed to establish a new connection: [Errno 60] Operation timed out'))\n",
      "127.0.0.1 - - [24/Feb/2022 12:47:01] \"\u001b[35m\u001b[1mGET /getmem/ HTTP/1.1\u001b[0m\" 500 -\n",
      "127.0.0.1 - - [24/Feb/2022 13:10:49] \"\u001b[37mPOST /geturl/ HTTP/1.1\u001b[0m\" 200 -\n",
      "127.0.0.1 - - [24/Feb/2022 13:10:49] \"\u001b[37mGET /getexectime/ HTTP/1.1\u001b[0m\" 200 -\n",
      "127.0.0.1 - - [24/Feb/2022 13:10:49] \"\u001b[37mGET /getjson/ HTTP/1.1\u001b[0m\" 200 -\n"
     ]
    },
    {
     "name": "stdout",
     "output_type": "stream",
     "text": [
      "managercontent\n",
      " http://192.168.43.184:9090/url\n",
      " http://192.168.99.119:9090/api/v1/query?query=avg_over_time(container_memory_usage_bytes%7Bcontainer_label_com_docker_swarm_node_id%3D~\"gobb5gs2ea0l3hqnqoo597rje\"%2C%20id%3D~\"%2Fdocker%2F.*\"%7D%5B5m%5D)%2F1024%2F1024&g0.tab=1\n",
      "url http://192.168.43.184:9090/api/v1/query?query=avg_over_time(container_memory_usage_bytes%7Bcontainer_label_com_docker_swarm_node_id%3D~\"j4mij6hfk3pdl7igmt6jy0em3\"%2C%20id%3D~\"%2Fdocker%2F.*\"%7D%5B5m%5D)%2F1024%2F1024&g0.tab=1\n",
      "url http://192.168.43.184:9090/api/v1/query?query=avg_over_time(container_memory_usage_bytes%7Bcontainer_label_com_docker_swarm_node_id%3D~\"ykueqwkeyy0whed9ar3eielhz\"%2C%20id%3D~\"%2Fdocker%2F.*\"%7D%5B5m%5D)%2F1024%2F1024&g0.tab=1\n"
     ]
    },
    {
     "name": "stderr",
     "output_type": "stream",
     "text": [
      "[2022-02-24 13:10:49,758] ERROR in app: Exception on /getmem/ [GET]\n",
      "Traceback (most recent call last):\n",
      "  File \"/Users/anwar/opt/anaconda3/lib/python3.8/site-packages/flask/app.py\", line 2447, in wsgi_app\n",
      "    response = self.full_dispatch_request()\n",
      "  File \"/Users/anwar/opt/anaconda3/lib/python3.8/site-packages/flask/app.py\", line 1952, in full_dispatch_request\n",
      "    rv = self.handle_user_exception(e)\n",
      "  File \"/Users/anwar/opt/anaconda3/lib/python3.8/site-packages/flask_cors/extension.py\", line 165, in wrapped_function\n",
      "    return cors_after_request(app.make_response(f(*args, **kwargs)))\n",
      "  File \"/Users/anwar/opt/anaconda3/lib/python3.8/site-packages/flask_restful/__init__.py\", line 271, in error_router\n",
      "    return original_handler(e)\n",
      "  File \"/Users/anwar/opt/anaconda3/lib/python3.8/site-packages/flask/app.py\", line 1821, in handle_user_exception\n",
      "    reraise(exc_type, exc_value, tb)\n",
      "  File \"/Users/anwar/opt/anaconda3/lib/python3.8/site-packages/flask/_compat.py\", line 39, in reraise\n",
      "    raise value\n",
      "  File \"/Users/anwar/opt/anaconda3/lib/python3.8/site-packages/flask/app.py\", line 1950, in full_dispatch_request\n",
      "    rv = self.dispatch_request()\n",
      "  File \"/Users/anwar/opt/anaconda3/lib/python3.8/site-packages/flask/app.py\", line 1936, in dispatch_request\n",
      "    return self.view_functions[rule.endpoint](**req.view_args)\n",
      "  File \"<ipython-input-1-bb216e7d2d1c>\", line 321, in get_mem_per_container\n",
      "    con['Maxmem']=float(json.loads(r.text)['data']['result'][0]['value'][1])\n",
      "IndexError: list index out of range\n",
      "127.0.0.1 - - [24/Feb/2022 13:10:49] \"\u001b[35m\u001b[1mGET /getmem/ HTTP/1.1\u001b[0m\" 500 -\n",
      "127.0.0.1 - - [24/Feb/2022 13:10:49] \"\u001b[37mGET /UpdateStatus/ HTTP/1.1\u001b[0m\" 200 -\n"
     ]
    },
    {
     "name": "stdout",
     "output_type": "stream",
     "text": [
      "[['ID', 'HOSTNAME', 'STATUS', 'AVAILABILITY', 'MANAGER', 'STATUS', 'ENGINE', 'VERSION'], ['gobb5gs2ea0l3hqnqoo597rje', 'manager', 'Ready', 'Active', 'Leader', '19.03.12'], ['j4mij6hfk3pdl7igmt6jy0em3', 'worker1', 'Ready', 'Active', '19.03.12'], ['ykueqwkeyy0whed9ar3eielhz', 'worker2', 'Ready', 'Active', '19.03.12']]\n",
      "Ready\n",
      "Ready\n",
      "Ready\n"
     ]
    },
    {
     "name": "stderr",
     "output_type": "stream",
     "text": [
      "127.0.0.1 - - [24/Feb/2022 13:11:04] \"\u001b[37mPOST /geturl/ HTTP/1.1\u001b[0m\" 200 -\n",
      "127.0.0.1 - - [24/Feb/2022 13:11:04] \"\u001b[37mGET /getexectime/ HTTP/1.1\u001b[0m\" 200 -\n"
     ]
    },
    {
     "name": "stdout",
     "output_type": "stream",
     "text": [
      "manager\n",
      "content http://192.168.43.184:9090/\n",
      "url http://192.168.43.184:9090/api/v1/query?query=avg_over_time(container_memory_usage_bytes%7Bcontainer_label_com_docker_swarm_node_id%3D~\"gobb5gs2ea0l3hqnqoo597rje\"%2C%20id%3D~\"%2Fdocker%2F.*\"%7D%5B5m%5D)%2F1024%2F1024&g0.tab=1\n"
     ]
    },
    {
     "name": "stderr",
     "output_type": "stream",
     "text": [
      "127.0.0.1 - - [24/Feb/2022 13:11:05] \"\u001b[37mGET /UpdateStatus/ HTTP/1.1\u001b[0m\" 200 -\n"
     ]
    },
    {
     "name": "stdout",
     "output_type": "stream",
     "text": [
      "[['ID', 'HOSTNAME', 'STATUS', 'AVAILABILITY', 'MANAGER', 'STATUS', 'ENGINE', 'VERSION'], ['gobb5gs2ea0l3hqnqoo597rje', 'manager', 'Ready', 'Active', 'Leader', '19.03.12'], ['j4mij6hfk3pdl7igmt6jy0em3', 'worker1', 'Ready', 'Active', '19.03.12'], ['ykueqwkeyy0whed9ar3eielhz', 'worker2', 'Ready', 'Active', '19.03.12']]\n",
      "Ready\n",
      "Ready\n",
      "Ready\n"
     ]
    },
    {
     "name": "stderr",
     "output_type": "stream",
     "text": [
      "127.0.0.1 - - [24/Feb/2022 13:11:21] \"\u001b[37mGET /getjson/ HTTP/1.1\u001b[0m\" 200 -\n",
      "[2022-02-24 13:11:24,414] ERROR in app: Exception on /getmem/ [GET]\n",
      "Traceback (most recent call last):\n",
      "  File \"/Users/anwar/opt/anaconda3/lib/python3.8/site-packages/flask/app.py\", line 2447, in wsgi_app\n",
      "    response = self.full_dispatch_request()\n",
      "  File \"/Users/anwar/opt/anaconda3/lib/python3.8/site-packages/flask/app.py\", line 1952, in full_dispatch_request\n",
      "    rv = self.handle_user_exception(e)\n",
      "  File \"/Users/anwar/opt/anaconda3/lib/python3.8/site-packages/flask_cors/extension.py\", line 165, in wrapped_function\n",
      "    return cors_after_request(app.make_response(f(*args, **kwargs)))\n",
      "  File \"/Users/anwar/opt/anaconda3/lib/python3.8/site-packages/flask_restful/__init__.py\", line 271, in error_router\n",
      "    return original_handler(e)\n",
      "  File \"/Users/anwar/opt/anaconda3/lib/python3.8/site-packages/flask/app.py\", line 1821, in handle_user_exception\n",
      "    reraise(exc_type, exc_value, tb)\n",
      "  File \"/Users/anwar/opt/anaconda3/lib/python3.8/site-packages/flask/_compat.py\", line 39, in reraise\n",
      "    raise value\n",
      "  File \"/Users/anwar/opt/anaconda3/lib/python3.8/site-packages/flask/app.py\", line 1950, in full_dispatch_request\n",
      "    rv = self.dispatch_request()\n",
      "  File \"/Users/anwar/opt/anaconda3/lib/python3.8/site-packages/flask/app.py\", line 1936, in dispatch_request\n",
      "    return self.view_functions[rule.endpoint](**req.view_args)\n",
      "  File \"<ipython-input-1-bb216e7d2d1c>\", line 321, in get_mem_per_container\n",
      "    con['Maxmem']=float(json.loads(r.text)['data']['result'][0]['value'][1])\n",
      "IndexError: list index out of range\n",
      "127.0.0.1 - - [24/Feb/2022 13:11:24] \"\u001b[35m\u001b[1mGET /getmem/ HTTP/1.1\u001b[0m\" 500 -\n"
     ]
    },
    {
     "name": "stdout",
     "output_type": "stream",
     "text": [
      "url http://192.168.43.184:9090/api/v1/query?query=avg_over_time(container_memory_usage_bytes%7Bcontainer_label_com_docker_swarm_node_id%3D~\"j4mij6hfk3pdl7igmt6jy0em3\"%2C%20id%3D~\"%2Fdocker%2F.*\"%7D%5B5m%5D)%2F1024%2F1024&g0.tab=1\n",
      "url http://192.168.43.184:9090/api/v1/query?query=avg_over_time(container_memory_usage_bytes%7Bcontainer_label_com_docker_swarm_node_id%3D~\"ykueqwkeyy0whed9ar3eielhz\"%2C%20id%3D~\"%2Fdocker%2F.*\"%7D%5B5m%5D)%2F1024%2F1024&g0.tab=1\n"
     ]
    },
    {
     "name": "stderr",
     "output_type": "stream",
     "text": [
      "127.0.0.1 - - [24/Feb/2022 13:16:32] \"\u001b[37mPOST /geturl/ HTTP/1.1\u001b[0m\" 200 -\n",
      "127.0.0.1 - - [24/Feb/2022 13:16:32] \"\u001b[37mGET /getexectime/ HTTP/1.1\u001b[0m\" 200 -\n",
      "127.0.0.1 - - [24/Feb/2022 13:16:32] \"\u001b[37mGET /getjson/ HTTP/1.1\u001b[0m\" 200 -\n"
     ]
    },
    {
     "name": "stdout",
     "output_type": "stream",
     "text": [
      "manager\n",
      "content http://192.168.43.184:9090/\n",
      "url http://192.168.43.184:9090/api/v1/query?query=avg_over_time(container_memory_usage_bytes%7Bcontainer_label_com_docker_swarm_node_id%3D~\"gobb5gs2ea0l3hqnqoo597rje\"%2C%20id%3D~\"%2Fdocker%2F.*\"%7D%5B5m%5D)%2F1024%2F1024&g0.tab=1\n",
      "url http://192.168.43.184:9090/api/v1/query?query=avg_over_time(container_memory_usage_bytes%7Bcontainer_label_com_docker_swarm_node_id%3D~\"j4mij6hfk3pdl7igmt6jy0em3\"%2C%20id%3D~\"%2Fdocker%2F.*\"%7D%5B5m%5D)%2F1024%2F1024&g0.tab=1\n",
      "url http://192.168.43.184:9090/api/v1/query?query=avg_over_time(container_memory_usage_bytes%7Bcontainer_label_com_docker_swarm_node_id%3D~\"ykueqwkeyy0whed9ar3eielhz\"%2C%20id%3D~\"%2Fdocker%2F.*\"%7D%5B5m%5D)%2F1024%2F1024&g0.tab=1\n"
     ]
    },
    {
     "name": "stderr",
     "output_type": "stream",
     "text": [
      "[2022-02-24 13:16:32,981] ERROR in app: Exception on /UpdateStatus/ [GET]\n",
      "Traceback (most recent call last):\n",
      "  File \"/Users/anwar/opt/anaconda3/lib/python3.8/site-packages/flask/app.py\", line 2447, in wsgi_app\n",
      "    response = self.full_dispatch_request()\n",
      "  File \"/Users/anwar/opt/anaconda3/lib/python3.8/site-packages/flask/app.py\", line 1952, in full_dispatch_request\n",
      "    rv = self.handle_user_exception(e)\n",
      "  File \"/Users/anwar/opt/anaconda3/lib/python3.8/site-packages/flask_cors/extension.py\", line 165, in wrapped_function\n",
      "    return cors_after_request(app.make_response(f(*args, **kwargs)))\n",
      "  File \"/Users/anwar/opt/anaconda3/lib/python3.8/site-packages/flask_restful/__init__.py\", line 271, in error_router\n",
      "    return original_handler(e)\n",
      "  File \"/Users/anwar/opt/anaconda3/lib/python3.8/site-packages/flask/app.py\", line 1821, in handle_user_exception\n",
      "    reraise(exc_type, exc_value, tb)\n",
      "  File \"/Users/anwar/opt/anaconda3/lib/python3.8/site-packages/flask/_compat.py\", line 39, in reraise\n",
      "    raise value\n",
      "  File \"/Users/anwar/opt/anaconda3/lib/python3.8/site-packages/flask/app.py\", line 1950, in full_dispatch_request\n",
      "    rv = self.dispatch_request()\n",
      "  File \"/Users/anwar/opt/anaconda3/lib/python3.8/site-packages/flask/app.py\", line 1936, in dispatch_request\n",
      "    return self.view_functions[rule.endpoint](**req.view_args)\n",
      "  File \"<ipython-input-1-bb216e7d2d1c>\", line 192, in get_nodes\n",
      "    del machines[0]\n",
      "IndexError: list assignment index out of range\n",
      "127.0.0.1 - - [24/Feb/2022 13:16:32] \"\u001b[35m\u001b[1mGET /UpdateStatus/ HTTP/1.1\u001b[0m\" 500 -\n",
      "[2022-02-24 13:16:33,900] ERROR in app: Exception on /getmem/ [GET]\n",
      "Traceback (most recent call last):\n",
      "  File \"/Users/anwar/opt/anaconda3/lib/python3.8/site-packages/flask/app.py\", line 2447, in wsgi_app\n",
      "    response = self.full_dispatch_request()\n",
      "  File \"/Users/anwar/opt/anaconda3/lib/python3.8/site-packages/flask/app.py\", line 1952, in full_dispatch_request\n",
      "    rv = self.handle_user_exception(e)\n",
      "  File \"/Users/anwar/opt/anaconda3/lib/python3.8/site-packages/flask_cors/extension.py\", line 165, in wrapped_function\n",
      "    return cors_after_request(app.make_response(f(*args, **kwargs)))\n",
      "  File \"/Users/anwar/opt/anaconda3/lib/python3.8/site-packages/flask_restful/__init__.py\", line 271, in error_router\n",
      "    return original_handler(e)\n",
      "  File \"/Users/anwar/opt/anaconda3/lib/python3.8/site-packages/flask/app.py\", line 1821, in handle_user_exception\n",
      "    reraise(exc_type, exc_value, tb)\n",
      "  File \"/Users/anwar/opt/anaconda3/lib/python3.8/site-packages/flask/_compat.py\", line 39, in reraise\n",
      "    raise value\n",
      "  File \"/Users/anwar/opt/anaconda3/lib/python3.8/site-packages/flask/app.py\", line 1950, in full_dispatch_request\n",
      "    rv = self.dispatch_request()\n",
      "  File \"/Users/anwar/opt/anaconda3/lib/python3.8/site-packages/flask/app.py\", line 1936, in dispatch_request\n",
      "    return self.view_functions[rule.endpoint](**req.view_args)\n",
      "  File \"<ipython-input-1-bb216e7d2d1c>\", line 321, in get_mem_per_container\n",
      "    con['Maxmem']=float(json.loads(r.text)['data']['result'][0]['value'][1])\n",
      "IndexError: list index out of range\n",
      "127.0.0.1 - - [24/Feb/2022 13:16:33] \"\u001b[35m\u001b[1mGET /getmem/ HTTP/1.1\u001b[0m\" 500 -\n"
     ]
    }
   ],
   "source": [
    "#!/usr/bin/env python3\n",
    "# -*- coding: utf-8 -*-\n",
    "\"\"\"\n",
    "Created on Thu Apr  8 09:50:11 2021\n",
    "\n",
    "@author: anwar\n",
    "\"\"\"\n",
    "\n",
    "from flask import request\n",
    "from flask import Flask, jsonify\n",
    "import json\n",
    "import requests\n",
    "import subprocess\n",
    "from launchAlgo import transform\n",
    "from flask_restful import Api\n",
    "from flask_cors import CORS\n",
    "app = Flask(__name__)\n",
    "api = Api(app)\n",
    "cors = CORS(app, resources={r\"/*\": {\"origins\": \"*\"}})\n",
    "from instance.Instance import Instance\n",
    "from Problem.Instance_from_Json import createInstance\n",
    "\n",
    "instance=Instance()\n",
    "MyInstance=createInstance(instance)\n",
    "url=''\n",
    "master=''\n",
    "\n",
    "for node in MyInstance.nodes:\n",
    "    if node.Status==\"Leader\":\n",
    "        master=node.name\n",
    "\n",
    "\n",
    "@app.route('/getjson/', methods=['GET'])\n",
    "def getjson():\n",
    "    f = open(r\"instanceExamples/data.json\")\n",
    "\n",
    "    data = json.load(f)\n",
    "    response = app.response_class(\n",
    "        response=json.dumps(data),\n",
    "        mimetype='application/json'\n",
    "    )\n",
    "    return response\n",
    "\n",
    "@app.route('/getenergy/', methods=['GET'])\n",
    "def getcsv():\n",
    "    f = open(r\"./energy.json\")\n",
    "\n",
    "    data = json.load(f)\n",
    "    response = app.response_class(\n",
    "        response=json.dumps(data),\n",
    "        mimetype='application/json'\n",
    "    )\n",
    "    return response\n",
    "\n",
    "\n",
    "# @app.route('/geturl/', methods=['GET'])\n",
    "# def geturl():\n",
    "    \n",
    "\n",
    "    \n",
    "#     response = app.response_class(\n",
    "#         response=json.dumps(url),\n",
    "#         mimetype='application/json'\n",
    "#     )\n",
    "#     return response\n",
    "\n",
    "@app.route('/geturl/', methods=['POST'])\n",
    "def geturl():\n",
    "    \n",
    "    content = request.get_data()\n",
    "    c=json.loads(content)\n",
    "    \n",
    "    print('content',str(c))\n",
    "    global url\n",
    "    url=str(c)\n",
    "    \n",
    "    return 'url posted'\n",
    "\n",
    "\n",
    "@app.route('/update/', methods=['POST'])\n",
    "\n",
    "def events():\n",
    "    \n",
    "    content = request.get_data()\n",
    "    c=json.loads(content)\n",
    "    #print(c)\n",
    "    with open(r\"instanceExamples/data.json\", 'w') as f:\n",
    "        json.dump(c, f)\n",
    "        \n",
    "    \n",
    "    \n",
    "    with open(r\"./instanceExamples/data.json\", \"r\") as file:\n",
    "        data= json.load(file)\n",
    "        for node in data['nodes']:\n",
    "            if node['max_power_consumption']==0:\n",
    "                node['activated']=\"false\"\n",
    "    with open(r\"./instanceExamples/data.json\", \"w\") as file:\n",
    "        with open(r\"./instanceExamples/data.json\", \"w\") as file:\n",
    "            json.dump(data, file)\n",
    "    return 'JSON posted'\n",
    "\n",
    "\n",
    "@app.route('/getStatus/', methods=['POST'])\n",
    "def getStatus():\n",
    "\n",
    "\n",
    "    content = request.get_data()\n",
    "    c=json.loads(content)\n",
    "    print(c)\n",
    "    update(c)\n",
    "    return json.dumps(c)\n",
    "    \n",
    "    # with open(r\"./instanceExamples/data.json\", \"r\") as file:\n",
    "\n",
    "    #     data= json.load(file)\n",
    "    #     data['objectives']=c\n",
    "\n",
    "    # with open(r\"./instanceExamples/data.json\", \"w\") as file:\n",
    "    #     json.dump(data, file)\n",
    "    # return json.dumps(c)\n",
    "    \n",
    "    \n",
    "   \n",
    "def update(result):\n",
    "    \n",
    "    with open(r\"./instanceExamples/data.json\", \"r\") as file:\n",
    "        data= json.load(file)\n",
    "    for row in result:\n",
    "        for node in data['nodes']:\n",
    "            if(node['name']==row[0]):\n",
    "                \n",
    "                node['Manager Status']=row[2]\n",
    "                if(row[2]=='Reachable'):\n",
    "                    \n",
    "                    #cmd = ('docker-machine ssh manager docker node promote '+str(node['name'])).split()\n",
    "                    #cmd = ('docker-machine ssh '+str(Instance.nodes[0].name)+' docker node promote '+str(node['name'])).split()\n",
    "                    cmd = ('docker-machine ssh '+str(master)+' docker node promote '+str(node['name'])).split()\n",
    "                    \n",
    "                    print(cmd)\n",
    "                    p = subprocess.Popen(cmd)\n",
    "                    output, errors = p.communicate()\n",
    "                    \n",
    "    with open(r\"./instanceExamples/data.json\", \"w\") as file:\n",
    "        json.dump(data, file)\n",
    "        \n",
    "    \n",
    "\n",
    "@app.route('/getweights/', methods=['POST'])\n",
    "def weights():\n",
    "\n",
    "\n",
    "    content = request.get_data()\n",
    "    c=json.loads(content)\n",
    "    #print(c)\n",
    "    with open(r\"./instanceExamples/data.json\", \"r\") as file:\n",
    "\n",
    "        data= json.load(file)\n",
    "        data['objectives']=c\n",
    "\n",
    "    with open(r\"./instanceExamples/data.json\", \"w\") as file:\n",
    "        json.dump(data, file)\n",
    "    return json.dumps(c)\n",
    "\n",
    "@app.route('/UpdateStatus/', methods=['GET'])\n",
    "def get_nodes():\n",
    "\n",
    "        machines=[]\n",
    "        print(master)\n",
    "        with  open(r\"./test3.txt\",'w') as file :\n",
    "\n",
    "\n",
    "            #cmd = ('docker-machine ssh manager docker node ls').split()\n",
    "            cmd = ('docker-machine ssh '+str(master)+ ' docker node ls').split()\n",
    "            #cmd = ('ssh pi@'+str(master)+ ' docker node ls').split()\n",
    "\n",
    "            p = subprocess.Popen(cmd,stdout=file)\n",
    "            output, errors = p.communicate()\n",
    "            \n",
    "        info=[]\n",
    "\n",
    "        with open(r\"./test3.txt\",'r') as file:\n",
    "\n",
    "            \n",
    "            for line in file:\n",
    "                \n",
    "                line=line.replace(\"*\",'')\n",
    "                groupe=line.split()\n",
    "                info.append(groupe)\n",
    "                \n",
    "                machines.append(groupe[1])\n",
    "\n",
    "            del machines[0]\n",
    "            print(info)\n",
    "            del(info[0])\n",
    "            \n",
    "            for i,node_info in enumerate(info):\n",
    "                print(node_info[2])\n",
    "                \n",
    "                if (node_info[2]=='Down'and MyInstance.nodes[i].activated=='true'):\n",
    "                    print(node_info)\n",
    "                    with open(r\"./instanceExamples/data.json\", \"r\") as file:\n",
    "                        data= json.load(file)\n",
    "                        data['nodes'][i]['activated']=\"false\"\n",
    "                    with open(r\"./instanceExamples/data.json\", \"w\") as file:\n",
    "                        json.dump(data, file)\n",
    "                    new_approach()\n",
    "                        \n",
    "                    \n",
    "                if (node_info[2]=='Ready' and MyInstance.nodes[i].activated=='false'):\n",
    "                    print(node_info)\n",
    "                    with open(r\"./instanceExamples/data.json\", \"r\") as file:\n",
    "                        data= json.load(file)\n",
    "                        data['nodes'][i]['activated']=\"true\"\n",
    "                    with open(r\"./instanceExamples/data.json\", \"w\") as file:\n",
    "                        json.dump(data, file)\n",
    "                        \n",
    "                    new_approach()\n",
    "                        \n",
    "                \n",
    "            if (info[1][4]=='Unreachable'):\n",
    "               \n",
    "                msg=\"Leader is down, another manager has been selected!\"\n",
    "                with open(r\"./instanceExamples/data.json\", \"r\") as file:\n",
    "                    data= json.load(file)\n",
    "                    data['nodes'][0]['activated']=\"false\"\n",
    "                with open(r\"./instanceExamples/data.json\", \"w\") as file:\n",
    "                    json.dump(data, file)\n",
    "                new_approach()   \n",
    "               \n",
    "                \n",
    "               \n",
    "                return(jsonify(msg))\n",
    "            else:\n",
    "                #print(groupe)\n",
    "                msg=\"\"\n",
    "                #print(msg)\n",
    "                return(jsonify(msg))\n",
    "\n",
    "\n",
    "\n",
    "@app.route('/default/', methods=['GET'])\n",
    "def get():\n",
    "    \n",
    "   \n",
    "    \n",
    "    cmd = ('docker-machine '+str(master)+' docker stack deploy --compose-file initial-docker-compose.yml p').split()\n",
    "    #cmd = ('ssh pi@'+str(Instance.nodes[0].name)+' docker stack deploy --compose-file initial-docker-compose.yml p').split()\n",
    "\n",
    "    p = subprocess.Popen(cmd,stdout = subprocess.PIPE)\n",
    "    output, errors = p.communicate()\n",
    "\n",
    "    print(output)\n",
    "    print(errors)\n",
    "    result=jsonify(\"done\")\n",
    "\n",
    "    return (result)\n",
    "\n",
    "# @app.route('/getcpu/', methods=['GET'])\n",
    "# def get_cpu_per_container():\n",
    "#     Instance=createInstance(instance)\n",
    "#     for node in Instance.nodes:\n",
    "\n",
    "#         r = requests.get(url+'api/v1/query?query=sum(irate(container_cpu_usage_seconds_total%7Bcontainer_label_com_docker_swarm_node_id%3D~\"'+str(node.cluster_id[0])+'\"%2C%20id%3D~\"%2Fdocker%2F.*\"%7D%5B5m%5D))%20by%20(name)%20*%20100%20&g0.tab=1')\n",
    "\n",
    "#         for metric in json.loads(r.text)['data']['result']:\n",
    "\n",
    "#             name=(metric['metric']['name'])\n",
    "\n",
    "#             with open(r\"./instanceExamples/data.json\", \"r\") as file:\n",
    "#                 data= json.load(file)\n",
    "#             for con in data['containers']:\n",
    "#                 if (con['name'] in name):\n",
    "\n",
    "#                     con['cpu_usage']=float(metric['value'][1])\n",
    "\n",
    "#             with open(r\"./instanceExamples/data.json\", \"w\") as file:\n",
    "\n",
    "#                 json.dump(data, file)\n",
    "\n",
    "\n",
    "\n",
    "#     return (jsonify('done'))\n",
    "\n",
    "@app.route('/getmem/', methods=['GET'])\n",
    "def get_mem_per_container():\n",
    "    \n",
    "    for node in MyInstance.nodes:\n",
    "        \n",
    "        \n",
    "        print(\"url\", url+'api/v1/query?query=avg_over_time(container_memory_usage_bytes%7Bcontainer_label_com_docker_swarm_node_id%3D~\"'+str(node.cluster_id[0])+'\"%2C%20id%3D~\"%2Fdocker%2F.*\"%7D%5B5m%5D)%2F1024%2F1024&g0.tab=1')\n",
    "        r = requests.get(url+'api/v1/query?query=avg_over_time(container_memory_usage_bytes%7Bcontainer_label_com_docker_swarm_node_id%3D~\"'+str(node.cluster_id[0])+'\"%2C%20id%3D~\"%2Fdocker%2F.*\"%7D%5B5m%5D)%2F1024%2F1024&g0.tab=1')\n",
    "    \n",
    "\n",
    "        for metric in json.loads(r.text)['data']['result']:\n",
    "\n",
    "            name=(metric['metric']['name'])\n",
    "            with open(r\"./instanceExamples/data.json\", \"r\") as file:\n",
    "                data= json.load(file)\n",
    "            for con in data['containers']:\n",
    "                if (con['name'] in name):\n",
    "\n",
    "                    con['mem_usage']=float(metric['value'][1])\n",
    "\n",
    "            with open(r\"./instanceExamples/data.json\", \"w\") as file:\n",
    "\n",
    "                json.dump(data, file)\n",
    "\n",
    "    for node in MyInstance.nodes:\n",
    "        #print(node.cluster_id)\n",
    "        r = requests.get(url+'api/v1/query?query=sum(node_memory_MemTotal_bytes%20*%20on(instance)%20group_left(node_name)%20node_meta%7Bnode_id%3D~\"'+str(node.cluster_id[0])+'\"%7D)%2F1000%2F1000&g0.tab=1')\n",
    "\n",
    "        #print(json.loads(r.text)['data']['result'][0]['value'][1])\n",
    "\n",
    "        with open(r\"./instanceExamples/data.json\", \"r\") as file:\n",
    "            data= json.load(file)\n",
    "        for con in data['nodes']:\n",
    "\n",
    "            if (con['name'] == node.name):\n",
    "\n",
    "\n",
    "                con['Maxmem']=float(json.loads(r.text)['data']['result'][0]['value'][1])\n",
    "\n",
    "        with open(r\"./instanceExamples/data.json\", \"w\") as file:\n",
    "\n",
    "            json.dump(data, file)\n",
    "            \n",
    "    for node in MyInstance.nodes:\n",
    "\n",
    "        r = requests.get(url+'api/v1/query?query=sum(irate(container_cpu_usage_seconds_total%7Bcontainer_label_com_docker_swarm_node_id%3D~\"'+str(node.cluster_id[0])+'\"%2C%20id%3D~\"%2Fdocker%2F.*\"%7D%5B5m%5D))%20by%20(name)%20*%20100%20&g0.tab=1')\n",
    "\n",
    "        for metric in json.loads(r.text)['data']['result']:\n",
    "\n",
    "            name=(metric['metric']['name'])\n",
    "\n",
    "            with open(r\"./instanceExamples/data.json\", \"r\") as file:\n",
    "                data= json.load(file)\n",
    "            for con in data['containers']:\n",
    "                if (con['name'] in name):\n",
    "\n",
    "                    con['cpu_usage']=float(metric['value'][1])\n",
    "\n",
    "            with open(r\"./instanceExamples/data.json\", \"w\") as file:\n",
    "\n",
    "                json.dump(data, file)\n",
    "\n",
    "    return (jsonify('done'))\n",
    "\n",
    "\n",
    "# @app.route('/getMaxmem/', methods=['GET'])\n",
    "# def get_Maxmem_penode():\n",
    "#     Instance=createInstance(instance)\n",
    "#     for node in Instance.nodes:\n",
    "#         #print(node.cluster_id)\n",
    "#         r = requests.get(url+'api/v1/query?query=sum(node_memory_MemTotal_bytes%20*%20on(instance)%20group_left(node_name)%20node_meta%7Bnode_id%3D~\"'+str(node.cluster_id[0])+'\"%7D)%2F1000%2F1000&g0.tab=1')\n",
    "\n",
    "#         #print(json.loads(r.text)['data']['result'][0]['value'][1])\n",
    "\n",
    "#         with open(r\"./instanceExamples/data.json\", \"r\") as file:\n",
    "#             data= json.load(file)\n",
    "#         for con in data['nodes']:\n",
    "\n",
    "#             if (con['name'] == node.name):\n",
    "\n",
    "\n",
    "#                 con['Maxmem']=float(json.loads(r.text)['data']['result'][0]['value'][1])\n",
    "\n",
    "#         with open(r\"./instanceExamples/data.json\", \"w\") as file:\n",
    "\n",
    "#             json.dump(data, file)\n",
    "\n",
    "\n",
    "\n",
    "#     return (jsonify('done'))\n",
    "\n",
    "\n",
    "\n",
    "@app.route('/newapproach/', methods=['GET'])\n",
    "\n",
    "def new_approach():\n",
    "    Myinst= Instance()\n",
    "    Myinstance=createInstance(Myinst)\n",
    "    \n",
    "    time=transform(Myinstance)\n",
    "    y = {\"containers\":len(Myinstance.containers),\n",
    "     \"exectime\": round(time, 2)\n",
    "\n",
    "    }\n",
    "    with open(r\"./instanceExamples/exec.json\", \"r\") as file:\n",
    "        data= json.load(file)\n",
    "        data[\"times\"].append(y)\n",
    "\n",
    "\n",
    "    with open(r\"./instanceExamples/exec.json\", \"w\") as file:\n",
    "        json.dump(data, file)\n",
    "\n",
    "    #cmd = ('docker-machine ssh manager docker stack deploy --compose-file updated-docker-compose.yml p ').split()\n",
    "    #cmd = ('docker-machine ssh '+str(Instance.nodes[0].name)+' docker stack deploy --compose-file updated-docker-compose.yml p ').split()\n",
    "    cmd = ('ssh pi@'+str(master)+' docker stack deploy --compose-file updated-docker-compose.yml p ').split()\n",
    "    \n",
    "\n",
    "    p = subprocess.Popen(cmd)\n",
    "    output, errors = p.communicate()\n",
    "\n",
    "\n",
    "    # print(output)\n",
    "    # print(errors)\n",
    "#        ssh.connect(hostname='ec2-54-87-55-164.compute-1.amazonaws.com', username='ubuntu',pkey=privkey)\n",
    "#        #ssh.connect(\"ubuntu@ec2-54-87-55-164.compute-1.amazonaws.com\",)\n",
    "#        stdin, stdout, stderr=ssh.exec_command('rmdir test')\n",
    "#        print (stdout.read())\n",
    "#        print(stderr.read())\n",
    "\n",
    "\n",
    "\n",
    "    result=jsonify(time)\n",
    "\n",
    "    return (result)\n",
    "@app.route('/getexectime/', methods=['GET'])\n",
    "\n",
    "def gettimes():\n",
    "    f = open(r\"./instanceExamples/exec.json\", \"r\")\n",
    "\n",
    "    data = json.load(f)\n",
    "    response = app.response_class(\n",
    "        response=json.dumps(data),\n",
    "        mimetype='application/json'\n",
    "    )\n",
    "    return response\n",
    "\n",
    "if __name__ == '__main__':\n",
    "     app.run(port='5002')\n"
   ]
  },
  {
   "cell_type": "code",
   "execution_count": null,
   "id": "57ae0ede",
   "metadata": {},
   "outputs": [],
   "source": []
  }
 ],
 "metadata": {
  "kernelspec": {
   "display_name": "Python 3",
   "language": "python",
   "name": "python3"
  },
  "language_info": {
   "codemirror_mode": {
    "name": "ipython",
    "version": 3
   },
   "file_extension": ".py",
   "mimetype": "text/x-python",
   "name": "python",
   "nbconvert_exporter": "python",
   "pygments_lexer": "ipython3",
   "version": "3.8.8"
  }
 },
 "nbformat": 4,
 "nbformat_minor": 5
}
