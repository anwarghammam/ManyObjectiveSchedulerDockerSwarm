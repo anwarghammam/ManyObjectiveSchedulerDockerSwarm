{
 "cells": [
  {
   "cell_type": "code",
   "execution_count": null,
   "id": "c9f293f6",
   "metadata": {},
   "outputs": [],
   "source": [
    "import sys\n",
    "import math\n",
    "from contextlib import redirect_stdout\n",
    "\n",
    "\n",
    "\n",
    "\n",
    "def getSum(x):\n",
    "    sum=0\n",
    "    while(x!=0):\n",
    "        sum+= x%10\n",
    "        x/=10\n",
    "    return sum\n",
    "def compute_join_point(s_1, s_2):\n",
    "\n",
    "    while(s_1 != s_2):\n",
    "        \n",
    "        if (s_1< s_2):\n",
    "            if (s_1==0):\n",
    "                return -1\n",
    "            s_1+=getSum(s_1)\n",
    "        elif(s_2< s_1):\n",
    "            if (s_2==0):\n",
    "                return -2\n",
    "            s_2+=getSum(s_2)\n",
    "    return(s_1)\n",
    "            \n",
    "\n",
    "\n",
    "\n",
    "        \n",
    "    # Write your code here\n",
    "    # To debug: print(\"Debug messages...\", file=sys.stderr, flush=True)\n",
    "    \n",
    "\n",
    "\n",
    "# Ignore and do not change the code below\n",
    "def main():\n",
    "    # pylint: disable = C, W\n",
    "    s_1 = int(input())\n",
    "    s_2 = int(input())\n",
    "    with redirect_stdout(sys.stderr):\n",
    "        res = compute_join_point(s_1, s_2)\n",
    "    print(res)\n",
    "\n",
    "\n",
    "if __name__ == \"__main__\":\n",
    "    main()\n"
   ]
  },
  {
   "cell_type": "code",
   "execution_count": null,
   "id": "eb46c05b",
   "metadata": {},
   "outputs": [],
   "source": []
  }
 ],
 "metadata": {
  "kernelspec": {
   "display_name": "Python 3",
   "language": "python",
   "name": "python3"
  }
 },
 "nbformat": 4,
 "nbformat_minor": 5
}
