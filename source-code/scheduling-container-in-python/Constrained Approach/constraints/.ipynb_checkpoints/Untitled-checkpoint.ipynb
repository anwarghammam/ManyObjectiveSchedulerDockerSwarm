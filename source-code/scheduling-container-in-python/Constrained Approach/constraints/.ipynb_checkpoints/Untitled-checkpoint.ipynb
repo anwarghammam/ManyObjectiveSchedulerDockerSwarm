{
 "cells": [
  {
   "cell_type": "code",
   "execution_count": 5,
   "id": "eff06d0b",
   "metadata": {},
   "outputs": [],
   "source": [
    "import subprocess\n",
    "def get_nodes():\n",
    "\n",
    "        machines=[]\n",
    "\n",
    "        with  open(r\"./test3.txt\",'w') as file :\n",
    "\n",
    "\n",
    "            cmd = ('docker-machine ssh manager docker node ls').split()\n",
    "\n",
    "            p = subprocess.Popen(cmd)\n",
    "            output, errors = p.communicate()\n",
    "            print(output)\n",
    "            "
   ]
  },
  {
   "cell_type": "code",
   "execution_count": 6,
   "id": "4f0a6cc4",
   "metadata": {},
   "outputs": [
    {
     "name": "stdout",
     "output_type": "stream",
     "text": [
      "['HOSTNAME', 'manager', 'worker1', 'worker2']\n"
     ]
    },
    {
     "data": {
      "text/plain": [
       "['manager', 'worker1', 'worker2']"
      ]
     },
     "execution_count": 6,
     "metadata": {},
     "output_type": "execute_result"
    }
   ],
   "source": [
    "get_nodes()"
   ]
  }
 ],
 "metadata": {
  "kernelspec": {
   "display_name": "Python 3",
   "language": "python",
   "name": "python3"
  },
  "language_info": {
   "codemirror_mode": {
    "name": "ipython",
    "version": 3
   },
   "file_extension": ".py",
   "mimetype": "text/x-python",
   "name": "python",
   "nbconvert_exporter": "python",
   "pygments_lexer": "ipython3",
   "version": "3.8.8"
  }
 },
 "nbformat": 4,
 "nbformat_minor": 5
}
